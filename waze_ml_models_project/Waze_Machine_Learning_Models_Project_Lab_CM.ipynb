{
 "cells": [
  {
   "cell_type": "markdown",
   "metadata": {
    "id": "DtNBZFHO3M7n"
   },
   "source": [
    "# **Waze Project**\n",
    "**Course 6 - The nuts and bolts of machine learning**"
   ]
  },
  {
   "cell_type": "markdown",
   "metadata": {
    "id": "XfCZ5KuI_2lT"
   },
   "source": [
    "Your team is close to completing their user churn project. Previously, you completed a project proposal, and used Python to explore and analyze Waze’s user data, create data visualizations, and conduct a hypothesis test. Most recently, you built a binomial logistic regression model based on multiple variables.\n",
    "\n",
    "Leadership appreciates all your hard work. Now, they want your team to build a machine learning model to predict user churn. To get the best results, your team decides to build and test two tree-based models: random forest and XGBoost.\n",
    "\n",
    "Your work will help leadership make informed business decisions to prevent user churn, improve user retention, and grow Waze’s business.\n"
   ]
  },
  {
   "cell_type": "markdown",
   "metadata": {
    "id": "rgSbVJvomcVa"
   },
   "source": [
    "# **Course 6 End-of-Course Project: Build a machine learning model**\n",
    "\n",
    "In this activity, you will practice using tree-based modeling techniques to predict on a binary target class.\n",
    "<br/>\n",
    "\n",
    "**The purpose** of this model is to find factors that drive user churn.\n",
    "\n",
    "**The goal** of this model is to predict whether or not a Waze user is retained or churned.\n",
    "<br/>\n",
    "\n",
    "*This activity has three parts:*\n",
    "\n",
    "**Part 1:** Ethical considerations\n",
    "* Consider the ethical implications of the request\n",
    "\n",
    "* Should the objective of the model be adjusted?\n",
    "\n",
    "**Part 2:** Feature engineering\n",
    "\n",
    "* Perform feature selection, extraction, and transformation to prepare the data for modeling\n",
    "\n",
    "**Part 3:** Modeling\n",
    "\n",
    "* Build the models, evaluate them, and advise on next steps\n",
    "\n",
    "Follow the instructions and answer the questions below to complete the activity. Then, you will complete an Executive Summary using the questions listed on the PACE Strategy Document.\n",
    "\n",
    "Be sure to complete this activity before moving on. The next course item will provide you with a completed exemplar to compare to your own work.\n",
    "\n"
   ]
  },
  {
   "cell_type": "markdown",
   "metadata": {
    "id": "SsrI9g32nrAs"
   },
   "source": [
    "# **Build a machine learning model**\n"
   ]
  },
  {
   "cell_type": "markdown",
   "metadata": {
    "id": "NzDjfCSLf6Jq"
   },
   "source": [
    "<img src=\"images/Pace.png\" width=\"100\" height=\"100\" align=left>\n",
    "\n",
    "# **PACE stages**\n"
   ]
  },
  {
   "cell_type": "markdown",
   "metadata": {
    "id": "R8kJRDEKn4A-"
   },
   "source": [
    "Throughout these project notebooks, you'll see references to the problem-solving framework PACE. The following notebook components are labeled with the respective PACE stage: Plan, Analyze, Construct, and Execute."
   ]
  },
  {
   "cell_type": "markdown",
   "metadata": {
    "id": "E5g1A74r0ow_"
   },
   "source": [
    "<img src=\"images/Plan.png\" width=\"100\" height=\"100\" align=left>\n",
    "\n",
    "\n",
    "## **PACE: Plan**\n",
    "\n",
    "Consider the questions in your PACE Strategy Document to reflect on the Plan stage.\n",
    "\n",
    "In this stage, consider the following questions:\n",
    "\n",
    "1.   What are you being asked to do?\n",
    "\n",
    "> My goal is to generate two supervised learning models to predict users churn: random forest and XGBoost. Also, generate a summary of the conclusions and highlight the ways to test the performance of the model.\n",
    "\n",
    "\n",
    "2.   What are the ethical implications of the model? What are the consequences of your model making errors?\n",
    "\n",
    "> The only ethical considerstion that I could think off at this stage, is that a wrong performance in the model could imply  loss of resources from the company, because could lead to loss of users (and consequently money) or resources targeting wrong users, if a strategy is implemented using the model's results. However, since no strategy is implemented yet, there is no risk of lossing value when estimating the model.  \n",
    "\n",
    "  *   What is the likely effect of the model when it predicts a false negative (i.e., when the model says a Waze user won't churn, but they actually will)?\n",
    "  \n",
    "> Predicting a false negative in this context would imply categorize a positive user as negative, which could cause the loss of a user if applying a strategy on that group of users is stablished following the model predictions. Following the loss of the user, that could lead to a loss in revenue, because churned users imply loss of revenue, but at this point is not a risk (since there is no strategy implemented based on the model yet). \n",
    "\n",
    "  *   What is the likely effect of the model when it predicts a false positive (i.e., when the model says a Waze user will churn, but they actually won't)?\n",
    "\n",
    "> Predicting a false positive in this context, could imply the use of resources for preventing churn in a group of users that is wrongly categorized. This would not generate any effect in reducing the churn, while also could imply the loss of resources for the company, but at this point is not a risk (since there is no strategy implemented based on the model yet). \n",
    "\n",
    "3.  Do the benefits of such a model outweigh the potential problems?\n",
    "\n",
    "> Yes, they do it. If we get a model with a good performance, the earnings we can generate can outpass the losses we could incur.\n",
    "\n",
    "4.  Would you proceed with the request to build this model? Why or why not?\n",
    "\n",
    "> Yes, I will proceed with this request, to validate if we can find a strong root cause for the current churn rate of the company and how to solve it.\n",
    "\n"
   ]
  },
  {
   "cell_type": "markdown",
   "metadata": {
    "id": "y755T4Q18iwC"
   },
   "source": [
    "==> ENTER YOUR RESPONSES TO QUESTIONS 1-4 HERE"
   ]
  },
  {
   "cell_type": "markdown",
   "metadata": {
    "id": "e8Vm3QEfGELS"
   },
   "source": [
    "### **Task 1. Imports and data loading**\n",
    "\n",
    "Import packages and libraries needed to build and evaluate random forest and XGBoost classification models."
   ]
  },
  {
   "cell_type": "code",
   "execution_count": 158,
   "metadata": {
    "id": "fKhnX2Puf4Bt"
   },
   "outputs": [],
   "source": [
    "# Import packages for data manipulation\n",
    "### YOUR CODE HERE ###\n",
    "import numpy as np\n",
    "import pandas as pd\n",
    "\n",
    "# Import packages for data visualization\n",
    "### YOUR CODE HERE ###\n",
    "import matplotlib.pyplot as plt\n",
    "\n",
    "# This lets us see all of the columns, preventing Juptyer from redacting them.\n",
    "pd.set_option('display.max_columns', None)\n",
    "\n",
    "# Import packages for data modeling\n",
    "### YOUR CODE HERE ###\n",
    "from sklearn.model_selection import train_test_split, PredefinedSplit, GridSearchCV\n",
    "from sklearn import metrics\n",
    "from sklearn.metrics import accuracy_score, precision_score, recall_score,\\\n",
    "f1_score, confusion_matrix, ConfusionMatrixDisplay, RocCurveDisplay\n",
    "\n",
    "# This is the classifier\n",
    "from xgboost import XGBClassifier\n",
    "from sklearn.ensemble import RandomForestClassifier\n",
    "\n",
    "# This is the function that helps plot feature importance\n",
    "from xgboost import plot_importance\n",
    "\n",
    "# # This module lets us save our models once we fit them.\n",
    "import pickle"
   ]
  },
  {
   "cell_type": "markdown",
   "metadata": {
    "id": "IeXTZ2tdbALL"
   },
   "source": [
    "Now read in the dataset as `df0` and inspect the first five rows.\n",
    "\n",
    "**Note:** As shown in this cell, the dataset has been automatically loaded in for you. You do not need to download the .csv file, or provide more code, in order to access the dataset and proceed with this lab. Please continue with this activity by completing the following instructions."
   ]
  },
  {
   "cell_type": "code",
   "execution_count": 2,
   "metadata": {
    "id": "5weTXGKqa_iG"
   },
   "outputs": [],
   "source": [
    "# Import dataset\n",
    "df0 = pd.read_csv('waze_dataset.csv')"
   ]
  },
  {
   "cell_type": "code",
   "execution_count": 3,
   "metadata": {
    "id": "1HyORSaQo_LU"
   },
   "outputs": [
    {
     "data": {
      "text/html": [
       "<div>\n",
       "<style scoped>\n",
       "    .dataframe tbody tr th:only-of-type {\n",
       "        vertical-align: middle;\n",
       "    }\n",
       "\n",
       "    .dataframe tbody tr th {\n",
       "        vertical-align: top;\n",
       "    }\n",
       "\n",
       "    .dataframe thead th {\n",
       "        text-align: right;\n",
       "    }\n",
       "</style>\n",
       "<table border=\"1\" class=\"dataframe\">\n",
       "  <thead>\n",
       "    <tr style=\"text-align: right;\">\n",
       "      <th></th>\n",
       "      <th>ID</th>\n",
       "      <th>label</th>\n",
       "      <th>sessions</th>\n",
       "      <th>drives</th>\n",
       "      <th>total_sessions</th>\n",
       "      <th>n_days_after_onboarding</th>\n",
       "      <th>total_navigations_fav1</th>\n",
       "      <th>total_navigations_fav2</th>\n",
       "      <th>driven_km_drives</th>\n",
       "      <th>duration_minutes_drives</th>\n",
       "      <th>activity_days</th>\n",
       "      <th>driving_days</th>\n",
       "      <th>device</th>\n",
       "    </tr>\n",
       "  </thead>\n",
       "  <tbody>\n",
       "    <tr>\n",
       "      <th>0</th>\n",
       "      <td>0</td>\n",
       "      <td>retained</td>\n",
       "      <td>283</td>\n",
       "      <td>226</td>\n",
       "      <td>296.748273</td>\n",
       "      <td>2276</td>\n",
       "      <td>208</td>\n",
       "      <td>0</td>\n",
       "      <td>2628.845068</td>\n",
       "      <td>1985.775061</td>\n",
       "      <td>28</td>\n",
       "      <td>19</td>\n",
       "      <td>Android</td>\n",
       "    </tr>\n",
       "    <tr>\n",
       "      <th>1</th>\n",
       "      <td>1</td>\n",
       "      <td>retained</td>\n",
       "      <td>133</td>\n",
       "      <td>107</td>\n",
       "      <td>326.896596</td>\n",
       "      <td>1225</td>\n",
       "      <td>19</td>\n",
       "      <td>64</td>\n",
       "      <td>13715.920550</td>\n",
       "      <td>3160.472914</td>\n",
       "      <td>13</td>\n",
       "      <td>11</td>\n",
       "      <td>iPhone</td>\n",
       "    </tr>\n",
       "    <tr>\n",
       "      <th>2</th>\n",
       "      <td>2</td>\n",
       "      <td>retained</td>\n",
       "      <td>114</td>\n",
       "      <td>95</td>\n",
       "      <td>135.522926</td>\n",
       "      <td>2651</td>\n",
       "      <td>0</td>\n",
       "      <td>0</td>\n",
       "      <td>3059.148818</td>\n",
       "      <td>1610.735904</td>\n",
       "      <td>14</td>\n",
       "      <td>8</td>\n",
       "      <td>Android</td>\n",
       "    </tr>\n",
       "    <tr>\n",
       "      <th>3</th>\n",
       "      <td>3</td>\n",
       "      <td>retained</td>\n",
       "      <td>49</td>\n",
       "      <td>40</td>\n",
       "      <td>67.589221</td>\n",
       "      <td>15</td>\n",
       "      <td>322</td>\n",
       "      <td>7</td>\n",
       "      <td>913.591123</td>\n",
       "      <td>587.196542</td>\n",
       "      <td>7</td>\n",
       "      <td>3</td>\n",
       "      <td>iPhone</td>\n",
       "    </tr>\n",
       "    <tr>\n",
       "      <th>4</th>\n",
       "      <td>4</td>\n",
       "      <td>retained</td>\n",
       "      <td>84</td>\n",
       "      <td>68</td>\n",
       "      <td>168.247020</td>\n",
       "      <td>1562</td>\n",
       "      <td>166</td>\n",
       "      <td>5</td>\n",
       "      <td>3950.202008</td>\n",
       "      <td>1219.555924</td>\n",
       "      <td>27</td>\n",
       "      <td>18</td>\n",
       "      <td>Android</td>\n",
       "    </tr>\n",
       "  </tbody>\n",
       "</table>\n",
       "</div>"
      ],
      "text/plain": [
       "   ID     label  sessions  drives  total_sessions  n_days_after_onboarding  \\\n",
       "0   0  retained       283     226      296.748273                     2276   \n",
       "1   1  retained       133     107      326.896596                     1225   \n",
       "2   2  retained       114      95      135.522926                     2651   \n",
       "3   3  retained        49      40       67.589221                       15   \n",
       "4   4  retained        84      68      168.247020                     1562   \n",
       "\n",
       "   total_navigations_fav1  total_navigations_fav2  driven_km_drives  \\\n",
       "0                     208                       0       2628.845068   \n",
       "1                      19                      64      13715.920550   \n",
       "2                       0                       0       3059.148818   \n",
       "3                     322                       7        913.591123   \n",
       "4                     166                       5       3950.202008   \n",
       "\n",
       "   duration_minutes_drives  activity_days  driving_days   device  \n",
       "0              1985.775061             28            19  Android  \n",
       "1              3160.472914             13            11   iPhone  \n",
       "2              1610.735904             14             8  Android  \n",
       "3               587.196542              7             3   iPhone  \n",
       "4              1219.555924             27            18  Android  "
      ]
     },
     "execution_count": 3,
     "metadata": {},
     "output_type": "execute_result"
    }
   ],
   "source": [
    "# Inspect the first five rows\n",
    "### YOUR CODE HERE ###\n",
    "df0.head(5)"
   ]
  },
  {
   "cell_type": "markdown",
   "metadata": {
    "id": "EgPRBjizg1oo"
   },
   "source": [
    "<img src=\"images/Analyze.png\" width=\"100\" height=\"100\" align=left>\n",
    "\n",
    "## **PACE: Analyze**\n",
    "Consider the questions in your PACE Strategy Document to reflect on the Analyze stage."
   ]
  },
  {
   "cell_type": "markdown",
   "metadata": {
    "id": "5VZowX9rhU1o"
   },
   "source": [
    "### **Task 2. Feature engineering**\n",
    "\n",
    "You have already prepared much of this data and performed exploratory data analysis (EDA) in previous courses. You know that some features had stronger correlations with churn than others, and you also created some features that may be useful.\n",
    "\n",
    "In this part of the project, you'll engineer these features and some new features to use for modeling.\n",
    "\n",
    "To begin, create a copy of `df0` to preserve the original dataframe. Call the copy `df`."
   ]
  },
  {
   "cell_type": "code",
   "execution_count": 4,
   "metadata": {
    "id": "mBOSW8IDbO_d"
   },
   "outputs": [],
   "source": [
    "# Copy the df0 dataframe\n",
    "### YOUR CODE HERE ###\n",
    "\n",
    "df = df0"
   ]
  },
  {
   "cell_type": "markdown",
   "metadata": {
    "id": "fTgC9H_tt-G2"
   },
   "source": [
    "Call `info()` on the new dataframe so the existing columns can be easily referenced."
   ]
  },
  {
   "cell_type": "code",
   "execution_count": 5,
   "metadata": {
    "id": "teUeCF-yf_6o"
   },
   "outputs": [
    {
     "name": "stdout",
     "output_type": "stream",
     "text": [
      "<class 'pandas.core.frame.DataFrame'>\n",
      "RangeIndex: 14999 entries, 0 to 14998\n",
      "Data columns (total 13 columns):\n",
      " #   Column                   Non-Null Count  Dtype  \n",
      "---  ------                   --------------  -----  \n",
      " 0   ID                       14999 non-null  int64  \n",
      " 1   label                    14299 non-null  object \n",
      " 2   sessions                 14999 non-null  int64  \n",
      " 3   drives                   14999 non-null  int64  \n",
      " 4   total_sessions           14999 non-null  float64\n",
      " 5   n_days_after_onboarding  14999 non-null  int64  \n",
      " 6   total_navigations_fav1   14999 non-null  int64  \n",
      " 7   total_navigations_fav2   14999 non-null  int64  \n",
      " 8   driven_km_drives         14999 non-null  float64\n",
      " 9   duration_minutes_drives  14999 non-null  float64\n",
      " 10  activity_days            14999 non-null  int64  \n",
      " 11  driving_days             14999 non-null  int64  \n",
      " 12  device                   14999 non-null  object \n",
      "dtypes: float64(3), int64(8), object(2)\n",
      "memory usage: 1.5+ MB\n"
     ]
    }
   ],
   "source": [
    "### YOUR CODE HERE ###\n",
    "\n",
    "df.info()"
   ]
  },
  {
   "cell_type": "markdown",
   "metadata": {
    "id": "BPtJEHjcuepR"
   },
   "source": [
    "#### **`km_per_driving_day`**\n",
    "\n",
    "1. Create a feature representing the mean number of kilometers driven on each driving day in the last month for each user. Add this feature as a column to `df`.\n",
    "\n",
    "2. Get descriptive statistics for this new feature\n",
    "\n"
   ]
  },
  {
   "cell_type": "code",
   "execution_count": 6,
   "metadata": {
    "id": "vAB6cv6xfvZn"
   },
   "outputs": [
    {
     "data": {
      "text/plain": [
       "count    1.499900e+04\n",
       "mean              inf\n",
       "std               NaN\n",
       "min      3.022063e+00\n",
       "25%      1.672804e+02\n",
       "50%      3.231459e+02\n",
       "75%      7.579257e+02\n",
       "max               inf\n",
       "Name: km_per_driving_day, dtype: float64"
      ]
     },
     "execution_count": 6,
     "metadata": {},
     "output_type": "execute_result"
    }
   ],
   "source": [
    "# 1. Create `km_per_driving_day` feature\n",
    "### YOUR CODE HERE ###\n",
    "\n",
    "df['km_per_driving_day'] = df['driven_km_drives'] / df['driving_days']\n",
    "\n",
    "# 2. Get descriptive stats\n",
    "### YOUR CODE HERE ###\n",
    "\n",
    "df['km_per_driving_day'].describe()"
   ]
  },
  {
   "cell_type": "markdown",
   "metadata": {
    "id": "MSqM4oiyuuzw"
   },
   "source": [
    "Notice that some values are infinite. This is the result of there being values of zero in the `driving_days` column. Pandas imputes a value of infinity in the corresponding rows of the new column because division by zero is undefined.\n",
    "\n",
    "1. Convert these values from infinity to zero. You can use `np.inf` to refer to a value of infinity.\n",
    "\n",
    "2. Call `describe()` on the `km_per_driving_day` column to verify that it worked."
   ]
  },
  {
   "cell_type": "code",
   "execution_count": 7,
   "metadata": {
    "id": "vv3owriWuuDQ"
   },
   "outputs": [
    {
     "data": {
      "text/plain": [
       "count    14999.000000\n",
       "mean       578.963113\n",
       "std       1030.094384\n",
       "min          0.000000\n",
       "25%        136.238895\n",
       "50%        272.889272\n",
       "75%        558.686918\n",
       "max      15420.234110\n",
       "Name: km_per_driving_day, dtype: float64"
      ]
     },
     "execution_count": 7,
     "metadata": {},
     "output_type": "execute_result"
    }
   ],
   "source": [
    "# 1. Convert infinite values to zero\n",
    "### YOUR CODE HERE ###\n",
    "df['km_per_driving_day'].replace([np.inf], 0, inplace=True)\n",
    "\n",
    "# 2. Confirm that it worked\n",
    "### YOUR CODE HERE ###\n",
    "df['km_per_driving_day'].describe()\n"
   ]
  },
  {
   "cell_type": "markdown",
   "metadata": {
    "id": "nZfNE37b-LlJ"
   },
   "source": [
    "#### **`percent_sessions_in_last_month`**\n",
    "\n",
    "1. Create a new column `percent_sessions_in_last_month` that represents the percentage of each user's total sessions that were logged in their last month of use.\n",
    "\n",
    "2. Get descriptive statistics for this new feature"
   ]
  },
  {
   "cell_type": "code",
   "execution_count": 8,
   "metadata": {
    "id": "4mRefXCF-K_c"
   },
   "outputs": [
    {
     "data": {
      "text/plain": [
       "count    14999.000000\n",
       "mean         0.449255\n",
       "std          0.286919\n",
       "min          0.000000\n",
       "25%          0.196221\n",
       "50%          0.423097\n",
       "75%          0.687216\n",
       "max          1.530637\n",
       "Name: percent_session_in_last_month, dtype: float64"
      ]
     },
     "execution_count": 8,
     "metadata": {},
     "output_type": "execute_result"
    }
   ],
   "source": [
    "# 1. Create `percent_sessions_in_last_month` feature\n",
    "### YOUR CODE HERE ###\n",
    "df['percent_session_in_last_month'] = df['sessions'] / df['total_sessions']\n",
    "\n",
    "# 1. Get descriptive stats\n",
    "### YOUR CODE HERE ###\n",
    "df['percent_session_in_last_month'].describe()"
   ]
  },
  {
   "cell_type": "markdown",
   "metadata": {
    "id": "TjgkLrOf_OrE"
   },
   "source": [
    "#### **`professional_driver`**\n",
    "\n",
    "Create a new, binary feature called `professional_driver` that is a 1 for users who had 60 or more drives <u>**and**</u> drove on 15+ days in the last month.\n",
    "\n",
    "**Note:** The objective is to create a new feature that separates professional drivers from other drivers. In this scenario, domain knowledge and intuition are used to determine these deciding thresholds, but ultimately they are arbitrary."
   ]
  },
  {
   "cell_type": "markdown",
   "metadata": {
    "id": "L5UK5jR6U9t1"
   },
   "source": [
    "To create this column, use the [`np.where()`](https://numpy.org/doc/stable/reference/generated/numpy.where.html) function. This function accepts as arguments:\n",
    "1. A condition\n",
    "2. What to return when the condition is true\n",
    "3. What to return when the condition is false\n",
    "\n",
    "```\n",
    "Example:\n",
    "x = [1, 2, 3]\n",
    "x = np.where(x > 2, 100, 0)\n",
    "x\n",
    "array([  0,   0, 100])\n",
    "```"
   ]
  },
  {
   "cell_type": "code",
   "execution_count": 9,
   "metadata": {
    "id": "dQdMgikKU-5T"
   },
   "outputs": [
    {
     "data": {
      "text/html": [
       "<div>\n",
       "<style scoped>\n",
       "    .dataframe tbody tr th:only-of-type {\n",
       "        vertical-align: middle;\n",
       "    }\n",
       "\n",
       "    .dataframe tbody tr th {\n",
       "        vertical-align: top;\n",
       "    }\n",
       "\n",
       "    .dataframe thead th {\n",
       "        text-align: right;\n",
       "    }\n",
       "</style>\n",
       "<table border=\"1\" class=\"dataframe\">\n",
       "  <thead>\n",
       "    <tr style=\"text-align: right;\">\n",
       "      <th></th>\n",
       "      <th>professional_driver</th>\n",
       "      <th>drives</th>\n",
       "      <th>driving_days</th>\n",
       "    </tr>\n",
       "  </thead>\n",
       "  <tbody>\n",
       "    <tr>\n",
       "      <th>0</th>\n",
       "      <td>1</td>\n",
       "      <td>226</td>\n",
       "      <td>19</td>\n",
       "    </tr>\n",
       "    <tr>\n",
       "      <th>1</th>\n",
       "      <td>0</td>\n",
       "      <td>107</td>\n",
       "      <td>11</td>\n",
       "    </tr>\n",
       "    <tr>\n",
       "      <th>2</th>\n",
       "      <td>0</td>\n",
       "      <td>95</td>\n",
       "      <td>8</td>\n",
       "    </tr>\n",
       "    <tr>\n",
       "      <th>3</th>\n",
       "      <td>0</td>\n",
       "      <td>40</td>\n",
       "      <td>3</td>\n",
       "    </tr>\n",
       "    <tr>\n",
       "      <th>4</th>\n",
       "      <td>1</td>\n",
       "      <td>68</td>\n",
       "      <td>18</td>\n",
       "    </tr>\n",
       "    <tr>\n",
       "      <th>...</th>\n",
       "      <td>...</td>\n",
       "      <td>...</td>\n",
       "      <td>...</td>\n",
       "    </tr>\n",
       "    <tr>\n",
       "      <th>14994</th>\n",
       "      <td>0</td>\n",
       "      <td>55</td>\n",
       "      <td>17</td>\n",
       "    </tr>\n",
       "    <tr>\n",
       "      <th>14995</th>\n",
       "      <td>0</td>\n",
       "      <td>35</td>\n",
       "      <td>20</td>\n",
       "    </tr>\n",
       "    <tr>\n",
       "      <th>14996</th>\n",
       "      <td>1</td>\n",
       "      <td>219</td>\n",
       "      <td>17</td>\n",
       "    </tr>\n",
       "    <tr>\n",
       "      <th>14997</th>\n",
       "      <td>0</td>\n",
       "      <td>120</td>\n",
       "      <td>6</td>\n",
       "    </tr>\n",
       "    <tr>\n",
       "      <th>14998</th>\n",
       "      <td>0</td>\n",
       "      <td>58</td>\n",
       "      <td>13</td>\n",
       "    </tr>\n",
       "  </tbody>\n",
       "</table>\n",
       "<p>14999 rows × 3 columns</p>\n",
       "</div>"
      ],
      "text/plain": [
       "       professional_driver  drives  driving_days\n",
       "0                        1     226            19\n",
       "1                        0     107            11\n",
       "2                        0      95             8\n",
       "3                        0      40             3\n",
       "4                        1      68            18\n",
       "...                    ...     ...           ...\n",
       "14994                    0      55            17\n",
       "14995                    0      35            20\n",
       "14996                    1     219            17\n",
       "14997                    0     120             6\n",
       "14998                    0      58            13\n",
       "\n",
       "[14999 rows x 3 columns]"
      ]
     },
     "execution_count": 9,
     "metadata": {},
     "output_type": "execute_result"
    }
   ],
   "source": [
    "# Create `professional_driver` feature\n",
    "### YOUR CODE HERE ###\n",
    "df['professional_driver'] = np.where((df['drives'] >= 60) & (df['driving_days'] >= 15), 1, 0)\n",
    "df[['professional_driver','drives','driving_days']]"
   ]
  },
  {
   "cell_type": "markdown",
   "metadata": {
    "id": "J3bWzofHVIuC"
   },
   "source": [
    "#### **`total_sessions_per_day`**\n",
    "\n",
    "Now, create a new column that represents the mean number of sessions per day _since onboarding_."
   ]
  },
  {
   "cell_type": "code",
   "execution_count": 10,
   "metadata": {
    "id": "bWXPMPHSVJQd"
   },
   "outputs": [],
   "source": [
    "# Create `total_sessions_per_day` feature\n",
    "### YOUR CODE HERE ###\n",
    "df['total_sessions_per_day'] = df['sessions'] / df['activity_days']\n",
    "df['total_sessions_per_day'].replace([np.inf], 0, inplace=True)"
   ]
  },
  {
   "cell_type": "markdown",
   "metadata": {
    "id": "8HLX7SwJVJlO"
   },
   "source": [
    "As with other features, get descriptive statistics for this new feature."
   ]
  },
  {
   "cell_type": "code",
   "execution_count": 11,
   "metadata": {
    "id": "h1DFSMNSVKEg"
   },
   "outputs": [
    {
     "data": {
      "text/plain": [
       "count    14997.000000\n",
       "mean        10.301226\n",
       "std         22.726388\n",
       "min          0.000000\n",
       "25%          1.500000\n",
       "50%          3.952381\n",
       "75%          9.400000\n",
       "max        479.000000\n",
       "Name: total_sessions_per_day, dtype: float64"
      ]
     },
     "execution_count": 11,
     "metadata": {},
     "output_type": "execute_result"
    }
   ],
   "source": [
    "# Get descriptive stats\n",
    "### YOUR CODE HERE ###\n",
    "df['total_sessions_per_day'].describe()"
   ]
  },
  {
   "cell_type": "markdown",
   "metadata": {
    "id": "c6sCAgOoVZM7"
   },
   "source": [
    "#### **`km_per_hour`**\n",
    "\n",
    "Create a column representing the mean kilometers per hour driven in the last month."
   ]
  },
  {
   "cell_type": "code",
   "execution_count": 12,
   "metadata": {
    "id": "Zu142H3aVc3o"
   },
   "outputs": [
    {
     "data": {
      "text/plain": [
       "count    14999.000000\n",
       "mean       190.394608\n",
       "std        334.674026\n",
       "min         72.013095\n",
       "25%         90.706222\n",
       "50%        122.382022\n",
       "75%        193.130119\n",
       "max      23642.920871\n",
       "Name: km_per_hour, dtype: float64"
      ]
     },
     "execution_count": 12,
     "metadata": {},
     "output_type": "execute_result"
    }
   ],
   "source": [
    "# Create `km_per_hour` feature\n",
    "### YOUR CODE HERE ###\n",
    "\n",
    "# driven_km_drives> Total kilometers driven during the month\n",
    "\n",
    "df['km_per_hour'] = df['driven_km_drives'] /(df['duration_minutes_drives']/60)\n",
    "df['km_per_hour'].describe()"
   ]
  },
  {
   "cell_type": "markdown",
   "metadata": {
    "id": "8d6N9jf8ViW-"
   },
   "source": [
    "#### **`km_per_drive`**\n",
    "\n",
    "Create a column representing the mean number of kilometers per drive made in the last month for each user. Then, print descriptive statistics for the feature."
   ]
  },
  {
   "cell_type": "code",
   "execution_count": 13,
   "metadata": {
    "id": "v5R5-MteVlMB"
   },
   "outputs": [
    {
     "data": {
      "text/plain": [
       "count    1.499900e+04\n",
       "mean              inf\n",
       "std               NaN\n",
       "min      1.008775e+00\n",
       "25%      3.323065e+01\n",
       "50%      7.488006e+01\n",
       "75%      1.854667e+02\n",
       "max               inf\n",
       "Name: km_per_drive, dtype: float64"
      ]
     },
     "execution_count": 13,
     "metadata": {},
     "output_type": "execute_result"
    }
   ],
   "source": [
    "# Create `km_per_drive` feature\n",
    "### YOUR CODE HERE ###\n",
    "df['km_per_drive'] = df['driven_km_drives'] / df['drives']\n",
    "df['km_per_drive'].describe()"
   ]
  },
  {
   "cell_type": "markdown",
   "metadata": {
    "id": "txY8qR1LVlq1"
   },
   "source": [
    "This feature has infinite values too. Convert the infinite values to zero, then confirm that it worked."
   ]
  },
  {
   "cell_type": "code",
   "execution_count": 14,
   "metadata": {
    "id": "PZrHMuPuVmIt"
   },
   "outputs": [
    {
     "data": {
      "text/plain": [
       "count    14999.000000\n",
       "mean       232.817946\n",
       "std        620.622351\n",
       "min          0.000000\n",
       "25%         32.424301\n",
       "50%         72.854343\n",
       "75%        179.347527\n",
       "max      15777.426560\n",
       "Name: km_per_drive, dtype: float64"
      ]
     },
     "execution_count": 14,
     "metadata": {},
     "output_type": "execute_result"
    }
   ],
   "source": [
    "# 1. Convert infinite values to zero\n",
    "### YOUR CODE HERE ###\n",
    "df['km_per_drive'].replace([np.inf], 0, inplace=True)\n",
    "\n",
    "# 2. Confirm that it worked\n",
    "### YOUR CODE HERE ###\n",
    "df['km_per_drive'].describe()"
   ]
  },
  {
   "cell_type": "markdown",
   "metadata": {
    "id": "O5Sxs6agVunA"
   },
   "source": [
    "#### **`percent_of_sessions_to_favorite`**\n",
    "\n",
    "Finally, create a new column that represents the percentage of total sessions that were used to navigate to one of the users' favorite places. Then, print descriptive statistics for the new column.\n",
    "\n",
    "This is a proxy representation for the percent of overall drives that are to a favorite place. Since total drives since onboarding are not contained in this dataset, total sessions must serve as a reasonable approximation.\n",
    "\n",
    "People whose drives to non-favorite places make up a higher percentage of their total drives might be less likely to churn, since they're making more drives to less familiar places."
   ]
  },
  {
   "cell_type": "code",
   "execution_count": 15,
   "metadata": {
    "id": "vh22o46AVxd_"
   },
   "outputs": [
    {
     "data": {
      "text/plain": [
       "count    14999.000000\n",
       "mean         1.665439\n",
       "std          8.865666\n",
       "min          0.000000\n",
       "25%          0.203471\n",
       "50%          0.649818\n",
       "75%          1.638526\n",
       "max        777.563629\n",
       "Name: percent_of_sessions_to_favorite, dtype: float64"
      ]
     },
     "execution_count": 15,
     "metadata": {},
     "output_type": "execute_result"
    }
   ],
   "source": [
    "# Create `percent_of_sessions_to_favorite` feature\n",
    "### YOUR CODE HERE ###\n",
    "\n",
    "df['percent_of_sessions_to_favorite'] = (df['total_navigations_fav1'] + df['total_navigations_fav2']) / df['total_sessions']\n",
    "\n",
    "# Get descriptive stats\n",
    "### YOUR CODE HERE ###\n",
    "df['percent_of_sessions_to_favorite'].describe()"
   ]
  },
  {
   "cell_type": "markdown",
   "metadata": {
    "id": "IZO0mvHRWGmF"
   },
   "source": [
    "### **Task 3. Drop missing values**\n",
    "\n",
    "Because you know from previous EDA that there is no evidence of a non-random cause of the 700 missing values in the `label` column, and because these observations comprise less than 5% of the data, use the `dropna()` method to drop the rows that are missing this data."
   ]
  },
  {
   "cell_type": "code",
   "execution_count": 16,
   "metadata": {
    "id": "2TdA6SnGWJY-"
   },
   "outputs": [
    {
     "name": "stdout",
     "output_type": "stream",
     "text": [
      "<class 'pandas.core.frame.DataFrame'>\n",
      "Index: 14297 entries, 0 to 14998\n",
      "Data columns (total 20 columns):\n",
      " #   Column                           Non-Null Count  Dtype  \n",
      "---  ------                           --------------  -----  \n",
      " 0   ID                               14297 non-null  int64  \n",
      " 1   label                            14297 non-null  object \n",
      " 2   sessions                         14297 non-null  int64  \n",
      " 3   drives                           14297 non-null  int64  \n",
      " 4   total_sessions                   14297 non-null  float64\n",
      " 5   n_days_after_onboarding          14297 non-null  int64  \n",
      " 6   total_navigations_fav1           14297 non-null  int64  \n",
      " 7   total_navigations_fav2           14297 non-null  int64  \n",
      " 8   driven_km_drives                 14297 non-null  float64\n",
      " 9   duration_minutes_drives          14297 non-null  float64\n",
      " 10  activity_days                    14297 non-null  int64  \n",
      " 11  driving_days                     14297 non-null  int64  \n",
      " 12  device                           14297 non-null  object \n",
      " 13  km_per_driving_day               14297 non-null  float64\n",
      " 14  percent_session_in_last_month    14297 non-null  float64\n",
      " 15  professional_driver              14297 non-null  int64  \n",
      " 16  total_sessions_per_day           14297 non-null  float64\n",
      " 17  km_per_hour                      14297 non-null  float64\n",
      " 18  km_per_drive                     14297 non-null  float64\n",
      " 19  percent_of_sessions_to_favorite  14297 non-null  float64\n",
      "dtypes: float64(9), int64(9), object(2)\n",
      "memory usage: 2.3+ MB\n"
     ]
    }
   ],
   "source": [
    "# Drop rows with missing values\n",
    "### YOUR CODE HERE ###\n",
    "df_wo_nas = df.dropna()\n",
    "df_wo_nas.info()"
   ]
  },
  {
   "cell_type": "markdown",
   "metadata": {
    "id": "Du5kGt5CWJ4J"
   },
   "source": [
    "### **Task 4. Outliers**\n",
    "\n",
    "You know from previous EDA that many of these columns have outliers. However, tree-based models are resilient to outliers, so there is no need to make any imputations."
   ]
  },
  {
   "cell_type": "markdown",
   "metadata": {
    "id": "kxBYyXDSWPkw"
   },
   "source": [
    "### **Task 5. Variable encoding**"
   ]
  },
  {
   "cell_type": "markdown",
   "metadata": {
    "id": "57psLWIeaTk2"
   },
   "source": [
    "#### **Dummying features**\n",
    "\n",
    "In order to use `device` as an X variable, you will need to convert it to binary, since this variable is categorical.\n",
    "\n",
    "In cases where the data contains many categorical variables, you can use pandas built-in [`pd.get_dummies()`](https://pandas.pydata.org/docs/reference/api/pandas.get_dummies.html), or you can use scikit-learn's [`OneHotEncoder()`](https://scikit-learn.org/stable/modules/generated/sklearn.preprocessing.OneHotEncoder.html) function.\n",
    "\n",
    "**Note:** Each possible category of each feature will result in a feature for your model, which could lead to an inadequate ratio of features to observations and/or difficulty understanding your model's predictions.\n",
    "\n",
    "Because this dataset only has one remaining categorical feature (`device`), it's not necessary to use one of these special functions. You can just implement the transformation directly.\n",
    "\n",
    "Create a new, binary column called `device2` that encodes user devices as follows:\n",
    "\n",
    "* `Android` -> `0`\n",
    "* `iPhone` -> `1`"
   ]
  },
  {
   "cell_type": "code",
   "execution_count": 44,
   "metadata": {
    "id": "fntUcR4-aUfH"
   },
   "outputs": [
    {
     "data": {
      "text/html": [
       "<div>\n",
       "<style scoped>\n",
       "    .dataframe tbody tr th:only-of-type {\n",
       "        vertical-align: middle;\n",
       "    }\n",
       "\n",
       "    .dataframe tbody tr th {\n",
       "        vertical-align: top;\n",
       "    }\n",
       "\n",
       "    .dataframe thead th {\n",
       "        text-align: right;\n",
       "    }\n",
       "</style>\n",
       "<table border=\"1\" class=\"dataframe\">\n",
       "  <thead>\n",
       "    <tr style=\"text-align: right;\">\n",
       "      <th></th>\n",
       "      <th>device2</th>\n",
       "      <th>device</th>\n",
       "    </tr>\n",
       "  </thead>\n",
       "  <tbody>\n",
       "    <tr>\n",
       "      <th>0</th>\n",
       "      <td>0</td>\n",
       "      <td>Android</td>\n",
       "    </tr>\n",
       "    <tr>\n",
       "      <th>1</th>\n",
       "      <td>1</td>\n",
       "      <td>iPhone</td>\n",
       "    </tr>\n",
       "    <tr>\n",
       "      <th>2</th>\n",
       "      <td>0</td>\n",
       "      <td>Android</td>\n",
       "    </tr>\n",
       "    <tr>\n",
       "      <th>3</th>\n",
       "      <td>1</td>\n",
       "      <td>iPhone</td>\n",
       "    </tr>\n",
       "    <tr>\n",
       "      <th>4</th>\n",
       "      <td>0</td>\n",
       "      <td>Android</td>\n",
       "    </tr>\n",
       "    <tr>\n",
       "      <th>...</th>\n",
       "      <td>...</td>\n",
       "      <td>...</td>\n",
       "    </tr>\n",
       "    <tr>\n",
       "      <th>14994</th>\n",
       "      <td>1</td>\n",
       "      <td>iPhone</td>\n",
       "    </tr>\n",
       "    <tr>\n",
       "      <th>14995</th>\n",
       "      <td>0</td>\n",
       "      <td>Android</td>\n",
       "    </tr>\n",
       "    <tr>\n",
       "      <th>14996</th>\n",
       "      <td>1</td>\n",
       "      <td>iPhone</td>\n",
       "    </tr>\n",
       "    <tr>\n",
       "      <th>14997</th>\n",
       "      <td>1</td>\n",
       "      <td>iPhone</td>\n",
       "    </tr>\n",
       "    <tr>\n",
       "      <th>14998</th>\n",
       "      <td>1</td>\n",
       "      <td>iPhone</td>\n",
       "    </tr>\n",
       "  </tbody>\n",
       "</table>\n",
       "<p>14297 rows × 2 columns</p>\n",
       "</div>"
      ],
      "text/plain": [
       "       device2   device\n",
       "0            0  Android\n",
       "1            1   iPhone\n",
       "2            0  Android\n",
       "3            1   iPhone\n",
       "4            0  Android\n",
       "...        ...      ...\n",
       "14994        1   iPhone\n",
       "14995        0  Android\n",
       "14996        1   iPhone\n",
       "14997        1   iPhone\n",
       "14998        1   iPhone\n",
       "\n",
       "[14297 rows x 2 columns]"
      ]
     },
     "execution_count": 44,
     "metadata": {},
     "output_type": "execute_result"
    }
   ],
   "source": [
    "# Create new `device2` variable\n",
    "### YOUR CODE HERE ###\n",
    "#df_wo_nas['device']\n",
    "\n",
    "df_wo_nas[\"device2\"] = np.where((df_wo_nas[\"device\"] == \"iPhone\"), 1,0)\n",
    "df_wo_nas[[\"device2\",\"device\"]]"
   ]
  },
  {
   "cell_type": "code",
   "execution_count": 45,
   "metadata": {},
   "outputs": [],
   "source": [
    "# dropping previous \"device\" column\n",
    "df_wo_nas = df_wo_nas.drop('device', axis=1)"
   ]
  },
  {
   "cell_type": "markdown",
   "metadata": {
    "id": "LgbEm7cOb6t8"
   },
   "source": [
    "#### **Target encoding**\n",
    "\n",
    "The target variable is also categorical, since a user is labeled as either \"churned\" or \"retained.\" Change the data type of the `label` column to be binary. This change is needed to train the models.\n",
    "\n",
    "Assign a `0` for all `retained` users.\n",
    "\n",
    "Assign a `1` for all `churned` users.\n",
    "\n",
    "Save this variable as `label2` so as not to overwrite the original `label` variable.\n",
    "\n",
    "**Note:** There are many ways to do this. Consider using `np.where()` as you did earlier in this notebook."
   ]
  },
  {
   "cell_type": "code",
   "execution_count": 46,
   "metadata": {
    "id": "0jiVjplLb8W-",
    "scrolled": true
   },
   "outputs": [
    {
     "data": {
      "text/html": [
       "<div>\n",
       "<style scoped>\n",
       "    .dataframe tbody tr th:only-of-type {\n",
       "        vertical-align: middle;\n",
       "    }\n",
       "\n",
       "    .dataframe tbody tr th {\n",
       "        vertical-align: top;\n",
       "    }\n",
       "\n",
       "    .dataframe thead th {\n",
       "        text-align: right;\n",
       "    }\n",
       "</style>\n",
       "<table border=\"1\" class=\"dataframe\">\n",
       "  <thead>\n",
       "    <tr style=\"text-align: right;\">\n",
       "      <th></th>\n",
       "      <th>label2</th>\n",
       "      <th>label</th>\n",
       "    </tr>\n",
       "  </thead>\n",
       "  <tbody>\n",
       "    <tr>\n",
       "      <th>0</th>\n",
       "      <td>0</td>\n",
       "      <td>retained</td>\n",
       "    </tr>\n",
       "    <tr>\n",
       "      <th>1</th>\n",
       "      <td>0</td>\n",
       "      <td>retained</td>\n",
       "    </tr>\n",
       "    <tr>\n",
       "      <th>2</th>\n",
       "      <td>0</td>\n",
       "      <td>retained</td>\n",
       "    </tr>\n",
       "    <tr>\n",
       "      <th>3</th>\n",
       "      <td>0</td>\n",
       "      <td>retained</td>\n",
       "    </tr>\n",
       "    <tr>\n",
       "      <th>4</th>\n",
       "      <td>0</td>\n",
       "      <td>retained</td>\n",
       "    </tr>\n",
       "    <tr>\n",
       "      <th>...</th>\n",
       "      <td>...</td>\n",
       "      <td>...</td>\n",
       "    </tr>\n",
       "    <tr>\n",
       "      <th>14994</th>\n",
       "      <td>0</td>\n",
       "      <td>retained</td>\n",
       "    </tr>\n",
       "    <tr>\n",
       "      <th>14995</th>\n",
       "      <td>0</td>\n",
       "      <td>retained</td>\n",
       "    </tr>\n",
       "    <tr>\n",
       "      <th>14996</th>\n",
       "      <td>0</td>\n",
       "      <td>retained</td>\n",
       "    </tr>\n",
       "    <tr>\n",
       "      <th>14997</th>\n",
       "      <td>1</td>\n",
       "      <td>churned</td>\n",
       "    </tr>\n",
       "    <tr>\n",
       "      <th>14998</th>\n",
       "      <td>0</td>\n",
       "      <td>retained</td>\n",
       "    </tr>\n",
       "  </tbody>\n",
       "</table>\n",
       "<p>14297 rows × 2 columns</p>\n",
       "</div>"
      ],
      "text/plain": [
       "       label2     label\n",
       "0           0  retained\n",
       "1           0  retained\n",
       "2           0  retained\n",
       "3           0  retained\n",
       "4           0  retained\n",
       "...       ...       ...\n",
       "14994       0  retained\n",
       "14995       0  retained\n",
       "14996       0  retained\n",
       "14997       1   churned\n",
       "14998       0  retained\n",
       "\n",
       "[14297 rows x 2 columns]"
      ]
     },
     "execution_count": 46,
     "metadata": {},
     "output_type": "execute_result"
    }
   ],
   "source": [
    "# Create binary `label2` column\n",
    "### YOUR CODE HERE ###\n",
    "df_wo_nas[\"label2\"] = np.where((df_wo_nas[\"label\"] == \"churned\"), 1,0)\n",
    "df_wo_nas[[\"label2\",\"label\"]]"
   ]
  },
  {
   "cell_type": "code",
   "execution_count": 47,
   "metadata": {},
   "outputs": [],
   "source": [
    "# dropping previous \"label\" column\n",
    "df_wo_nas = df_wo_nas.drop('label', axis=1)\n"
   ]
  },
  {
   "cell_type": "markdown",
   "metadata": {
    "id": "fD_zG59eaV2c"
   },
   "source": [
    "### **Task 6. Feature selection**\n",
    "\n",
    "Tree-based models can handle multicollinearity, so the only feature that can be cut is `ID`, since it doesn't contain any information relevant to churn.\n",
    "\n",
    "Note, however, that `device` won't be used simply because it's a copy of `device2`.\n",
    "\n",
    "Drop `ID` from the `df` dataframe."
   ]
  },
  {
   "cell_type": "code",
   "execution_count": 48,
   "metadata": {
    "id": "kf3uGtUQaWSL"
   },
   "outputs": [],
   "source": [
    "# Drop `ID` column\n",
    "### YOUR CODE HERE ###\n",
    "df_wo_nas = df_wo_nas.drop('ID', axis=1)\n"
   ]
  },
  {
   "cell_type": "markdown",
   "metadata": {
    "id": "ajj50RCCaXrF"
   },
   "source": [
    "### **Task 7. Evaluation metric**\n",
    "\n",
    "Before modeling, you must decide on an evaluation metric. This will depend on the class balance of the target variable and the use case of the model.\n",
    "\n",
    "First, examine the class balance of your target variable."
   ]
  },
  {
   "cell_type": "code",
   "execution_count": 50,
   "metadata": {
    "id": "3JkjEYByaYbr"
   },
   "outputs": [
    {
     "name": "stdout",
     "output_type": "stream",
     "text": [
      "Total records\n",
      "Counts\n",
      "label2\n",
      "0    11762\n",
      "1     2535\n",
      "Name: count, dtype: int64\n",
      "Percentages\n",
      "label2\n",
      "0    0.82269\n",
      "1    0.17731\n",
      "Name: count, dtype: float64\n"
     ]
    }
   ],
   "source": [
    "# Get class balance of 'label' col\n",
    "### YOUR CODE HERE ###\n",
    "\n",
    "print(\"Total records\")\n",
    "print(\"Counts\")\n",
    "print(df_wo_nas[\"label2\"].value_counts(dropna = False))\n",
    "print(\"Percentages\")\n",
    "print(df_wo_nas[\"label2\"].value_counts(dropna = False) / df_wo_nas.count().sessions)\n",
    "\n",
    "# 1 = Churned users / 0 = Retained users"
   ]
  },
  {
   "cell_type": "markdown",
   "metadata": {
    "id": "w9vnV1wtaZWJ"
   },
   "source": [
    "Approximately 18% of the users in this dataset churned. This is an unbalanced dataset, but not extremely so. It can be modeled without any class rebalancing.\n",
    "\n",
    "Now, consider which evaluation metric is best. Remember, accuracy might not be the best gauge of performance because a model can have high accuracy on an imbalanced dataset and still fail to predict the minority class.\n",
    "\n",
    "It was already determined that the risks involved in making a false positive prediction are minimal. No one stands to get hurt, lose money, or suffer any other significant consequence if they are predicted to churn. Therefore, select the model based on the recall score."
   ]
  },
  {
   "cell_type": "markdown",
   "metadata": {
    "id": "3n1eikFh8akS"
   },
   "source": [
    "<img src=\"images/Construct.png\" width=\"100\" height=\"100\" align=left>\n",
    "\n",
    "## **PACE: Construct**\n",
    "Consider the questions in your PACE Strategy Document to reflect on the Construct stage."
   ]
  },
  {
   "cell_type": "markdown",
   "metadata": {
    "id": "G5jzGjOS8iiv"
   },
   "source": [
    "### **Task 8. Modeling workflow and model selection process**\n",
    "\n",
    "The final modeling dataset contains 14,299 samples. This is towards the lower end of what might be considered sufficient to conduct a robust model selection process, but still doable.\n",
    "\n",
    "1. Split the data into train/validation/test sets (60/20/20)\n",
    "\n",
    "Note that, when deciding the split ratio and whether or not to use a validation set to select a champion model, consider both how many samples will be in each data partition, and how many examples of the minority class each would therefore contain. In this case, a 60/20/20 split would result in \\~2,860 samples in the validation set and the same number in the test set, of which \\~18%&mdash;or 515 samples&mdash;would represent users who churn.\n",
    "2. Fit models and tune hyperparameters on the training set\n",
    "3. Perform final model selection on the validation set\n",
    "4. Assess the champion model's performance on the test set\n",
    "\n",
    "![](https://raw.githubusercontent.com/adacert/tiktok/main/optimal_model_flow_numbered.svg)"
   ]
  },
  {
   "cell_type": "markdown",
   "metadata": {
    "id": "Nx41bVxX89Fe"
   },
   "source": [
    "### **Task 9. Split the data**\n",
    "\n",
    "Now you're ready to model. The only remaining step is to split the data into features/target variable and training/validation/test sets.\n",
    "\n",
    "1. Define a variable `X` that isolates the features. Remember not to use `device`.\n",
    "\n",
    "2. Define a variable `y` that isolates the target variable (`label2`).\n",
    "\n",
    "3. Split the data 80/20 into an interim training set and a test set. Don't forget to stratify the splits, and set the random state to 42.\n",
    "\n",
    "4. Split the interim training set 75/25 into a training set and a validation set, yielding a final ratio of 60/20/20 for training/validation/test sets. Again, don't forget to stratify the splits and set the random state."
   ]
  },
  {
   "cell_type": "code",
   "execution_count": 51,
   "metadata": {
    "id": "qLbapbSWDUL-"
   },
   "outputs": [],
   "source": [
    "# 1. Isolate X variables\n",
    "### YOUR CODE HERE ###\n",
    "X = df_wo_nas.copy()\n",
    "X = X.drop(\"label2\", axis = 1)\n",
    "\n",
    "# 2. Isolate y variable\n",
    "### YOUR CODE HERE ###\n",
    "y = df_wo_nas[\"label2\"]\n",
    "\n",
    "# 3. Split into train and test sets\n",
    "### YOUR CODE HERE ###\n",
    "X_train, X_test, y_train, y_test = train_test_split(X, y, test_size=0.20, \n",
    "                                                    stratify=y, random_state=42)\n",
    "\n",
    "# 4. Split into train and validate sets\n",
    "### YOUR CODE HERE ###\n",
    "X_tr, X_val, y_tr, y_val = train_test_split(X_train, y_train, test_size = 0.25,\n",
    "                                            stratify=y_train, random_state = 15)\n",
    "\n"
   ]
  },
  {
   "cell_type": "markdown",
   "metadata": {
    "id": "moLls6Lech47"
   },
   "source": [
    "Verify the number of samples in the partitioned data."
   ]
  },
  {
   "cell_type": "code",
   "execution_count": 72,
   "metadata": {
    "id": "qWIog8v_ckIg"
   },
   "outputs": [
    {
     "name": "stdout",
     "output_type": "stream",
     "text": [
      "Total dataset\n",
      "14297\n",
      "\n",
      "\n",
      "Training dataset\n",
      "X dataframe\n",
      "8577\n",
      "Y dataframe\n",
      "8577\n",
      "% sample\n",
      "59.99%\n",
      "\n",
      "\n",
      "Test dataset\n",
      "X dataframe\n",
      "2860\n",
      "Y dataframe\n",
      "2860\n",
      "% sample\n",
      "20.00%\n",
      "\n",
      "\n",
      "Test dataset\n",
      "X dataframe\n",
      "2860\n",
      "Y dataframe\n",
      "2860\n",
      "% sample\n",
      "20.00%\n",
      "\n",
      "\n"
     ]
    }
   ],
   "source": [
    "### YOUR CODE HERE ###\n",
    "\n",
    "#total dataset\n",
    "print(\"Total dataset\")\n",
    "print(X_tr[\"sessions\"].count()+X_test[\"sessions\"].count()+X_val[\"sessions\"].count())\n",
    "print(\"\")\n",
    "print(\"\")\n",
    "\n",
    "# training set\n",
    "print(\"Training dataset\")\n",
    "print(\"X dataframe\")\n",
    "print(X_tr[\"sessions\"].count()) #8577\n",
    "print(\"Y dataframe\")\n",
    "print(y_tr.count()) #8577\n",
    "print(\"% sample\")\n",
    "print(\"{:.2%}\".format(X_tr['sessions'].count() / X['sessions'].count()))\n",
    "print(\"\")\n",
    "print(\"\")\n",
    "\n",
    "# test set\n",
    "print(\"Test dataset\")\n",
    "print(\"X dataframe\")\n",
    "print(X_test[\"sessions\"].count())  #2860\n",
    "print(\"Y dataframe\")\n",
    "print(y_test.count())  #2860\n",
    "print(\"% sample\")\n",
    "print(\"{:.2%}\".format(X_test[\"sessions\"].count() / X[\"sessions\"].count()))\n",
    "print(\"\")\n",
    "print(\"\")\n",
    "\n",
    "# validation set\n",
    "print(\"Test dataset\")\n",
    "print(\"X dataframe\")\n",
    "print(X_val[\"sessions\"].count())  #2860\n",
    "print(\"Y dataframe\")\n",
    "print(y_val.count()) #2860\n",
    "print(\"% sample\")\n",
    "print(\"{:.2%}\".format(X_val[\"sessions\"].count() / X[\"sessions\"].count()))\n",
    "print(\"\")\n",
    "print(\"\")\n",
    "\n",
    "\n"
   ]
  },
  {
   "cell_type": "markdown",
   "metadata": {
    "id": "0x-4vGANcki4"
   },
   "source": [
    "This aligns with expectations."
   ]
  },
  {
   "cell_type": "markdown",
   "metadata": {
    "id": "4vSaa0-xcu4Q"
   },
   "source": [
    "### **Task 10. Modeling**"
   ]
  },
  {
   "cell_type": "markdown",
   "metadata": {
    "id": "vynZs5het1b_"
   },
   "source": [
    "#### **Random forest**\n",
    "\n",
    "Begin with using `GridSearchCV` to tune a random forest model.\n",
    "\n",
    "1. Instantiate the random forest classifier `rf` and set the random state.\n",
    "\n",
    "2. Create a dictionary `cv_params` of any of the following hyperparameters and their corresponding values to tune. The more you tune, the better your model will fit the data, but the longer it will take.\n",
    " - `max_depth`\n",
    " - `max_features`\n",
    " - `max_samples`\n",
    " - `min_samples_leaf`\n",
    " - `min_samples_split`\n",
    " - `n_estimators`\n",
    "\n",
    "3. Define a list `scoring` of scoring metrics for GridSearch to capture (precision, recall, F1 score, and accuracy).\n",
    "\n",
    "4. Instantiate the `GridSearchCV` object `rf_cv`. Pass to it as arguments:\n",
    " - estimator=`rf`\n",
    " - param_grid=`cv_params`\n",
    " - scoring=`scoring`\n",
    " - cv: define the number of cross-validation folds you want (`cv=_`)\n",
    " - refit: indicate which evaluation metric you want to use to select the model (`refit=_`)\n",
    "\n",
    " `refit` should be set to `'recall'`.<font/>\n"
   ]
  },
  {
   "cell_type": "markdown",
   "metadata": {
    "id": "vvpX9RDFc2MD"
   },
   "source": [
    "**Note:** If your model fitting takes too long, try reducing the number of options to search over in the grid search."
   ]
  },
  {
   "cell_type": "code",
   "execution_count": 88,
   "metadata": {
    "id": "Vj5rJWOv5O3d"
   },
   "outputs": [],
   "source": [
    "# 1. Instantiate the random forest classifier\n",
    "### YOUR CODE HERE ###\n",
    "rf = RandomForestClassifier(random_state=0)\n",
    "\n",
    "# 2. Create a dictionary of hyperparameters to tune\n",
    "### YOUR CODE HERE ###\n",
    "cv_params = {'max_depth': [None], \n",
    "             'max_features': [8,9,10],\n",
    "             'max_samples': [2250, 2500, 2750],\n",
    "             'min_samples_leaf': [1,2,3],\n",
    "             'min_samples_split': [1,2,3],\n",
    "             'n_estimators': [4, 5,6]             \n",
    "             }  \n",
    "# 3. Define a list of scoring metrics to capture\n",
    "### YOUR CODE HERE ###\n",
    "scoring = ['accuracy', 'precision', 'recall', 'f1']\n",
    "\n",
    "# 3.a Create list of split indices.\n",
    "### YOUR CODE HERE ###\n",
    "#from sklearn.model_selection import PredefinedSplit\n",
    "#split_index = [0 if x in X_val.index else -1 for x in X_train.index]\n",
    "#custom_split = PredefinedSplit(split_index)\n",
    "\n",
    "# 4. Instantiate the GridSearchCV object (cross validation)\n",
    "### YOUR CODE HERE ###\n",
    "rf_cv = GridSearchCV(rf, cv_params, scoring=scoring, cv=2, refit='recall', n_jobs = -1, verbose = 3)"
   ]
  },
  {
   "cell_type": "markdown",
   "metadata": {
    "id": "Wv_WvRA1RqTl"
   },
   "source": [
    "Now fit the model to the training data."
   ]
  },
  {
   "cell_type": "code",
   "execution_count": 89,
   "metadata": {
    "id": "OXuBiTGi5ZHn",
    "scrolled": true
   },
   "outputs": [
    {
     "name": "stdout",
     "output_type": "stream",
     "text": [
      "Fitting 2 folds for each of 243 candidates, totalling 486 fits\n",
      "[CV 1/2] END max_depth=None, max_features=8, max_samples=2250, min_samples_leaf=1, min_samples_split=1, n_estimators=4; accuracy: (test=nan) f1: (test=nan) precision: (test=nan) recall: (test=nan) total time=   0.0s\n",
      "[CV 1/2] END max_depth=None, max_features=8, max_samples=2250, min_samples_leaf=1, min_samples_split=1, n_estimators=6; accuracy: (test=nan) f1: (test=nan) precision: (test=nan) recall: (test=nan) total time=   0.0s\n",
      "[CV 1/2] END max_depth=None, max_features=8, max_samples=2250, min_samples_leaf=1, min_samples_split=2, n_estimators=4; accuracy: (test=0.805) f1: (test=0.169) precision: (test=0.348) recall: (test=0.111) total time=   0.1s\n",
      "[CV 2/2] END max_depth=None, max_features=8, max_samples=2250, min_samples_leaf=1, min_samples_split=2, n_estimators=5; accuracy: (test=0.794) f1: (test=0.245) precision: (test=0.349) recall: (test=0.188) total time=   0.1s\n",
      "[CV 2/2] END max_depth=None, max_features=8, max_samples=2250, min_samples_leaf=1, min_samples_split=2, n_estimators=6; accuracy: (test=0.811) f1: (test=0.162) precision: (test=0.376) recall: (test=0.104) total time=   0.2s\n",
      "[CV 2/2] END max_depth=None, max_features=8, max_samples=2250, min_samples_leaf=1, min_samples_split=3, n_estimators=4; accuracy: (test=0.810) f1: (test=0.178) precision: (test=0.379) recall: (test=0.116) total time=   0.1s\n",
      "[CV 2/2] END max_depth=None, max_features=8, max_samples=2250, min_samples_leaf=1, min_samples_split=3, n_estimators=5; accuracy: (test=0.799) f1: (test=0.247) precision: (test=0.366) recall: (test=0.186) total time=   0.2s\n",
      "[CV 2/2] END max_depth=None, max_features=8, max_samples=2250, min_samples_leaf=1, min_samples_split=3, n_estimators=6; accuracy: (test=0.811) f1: (test=0.196) precision: (test=0.398) recall: (test=0.130) total time=   0.2s\n",
      "[CV 1/2] END max_depth=None, max_features=8, max_samples=2250, min_samples_leaf=2, min_samples_split=2, n_estimators=5; accuracy: (test=0.808) f1: (test=0.219) precision: (test=0.392) recall: (test=0.152) total time=   0.1s\n",
      "[CV 2/2] END max_depth=None, max_features=8, max_samples=2250, min_samples_leaf=2, min_samples_split=2, n_estimators=5; accuracy: (test=0.799) f1: (test=0.220) precision: (test=0.354) recall: (test=0.160) total time=   0.1s\n",
      "[CV 1/2] END max_depth=None, max_features=8, max_samples=2250, min_samples_leaf=2, min_samples_split=3, n_estimators=4; accuracy: (test=0.807) f1: (test=0.190) precision: (test=0.370) recall: (test=0.128) total time=   0.1s\n",
      "[CV 2/2] END max_depth=None, max_features=8, max_samples=2250, min_samples_leaf=2, min_samples_split=3, n_estimators=4; accuracy: (test=0.804) f1: (test=0.199) precision: (test=0.362) recall: (test=0.137) total time=   0.1s\n",
      "[CV 1/2] END max_depth=None, max_features=8, max_samples=2250, min_samples_leaf=2, min_samples_split=3, n_estimators=5; accuracy: (test=0.808) f1: (test=0.219) precision: (test=0.392) recall: (test=0.152) total time=   0.1s\n",
      "[CV 2/2] END max_depth=None, max_features=8, max_samples=2250, min_samples_leaf=2, min_samples_split=3, n_estimators=5; accuracy: (test=0.799) f1: (test=0.220) precision: (test=0.354) recall: (test=0.160) total time=   0.1s\n",
      "[CV 1/2] END max_depth=None, max_features=8, max_samples=2250, min_samples_leaf=3, min_samples_split=1, n_estimators=4; accuracy: (test=nan) f1: (test=nan) precision: (test=nan) recall: (test=nan) total time=   0.0s\n",
      "[CV 2/2] END max_depth=None, max_features=8, max_samples=2250, min_samples_leaf=3, min_samples_split=1, n_estimators=4; accuracy: (test=nan) f1: (test=nan) precision: (test=nan) recall: (test=nan) total time=   0.0s\n",
      "[CV 1/2] END max_depth=None, max_features=8, max_samples=2250, min_samples_leaf=3, min_samples_split=1, n_estimators=5; accuracy: (test=nan) f1: (test=nan) precision: (test=nan) recall: (test=nan) total time=   0.0s\n",
      "[CV 2/2] END max_depth=None, max_features=8, max_samples=2250, min_samples_leaf=3, min_samples_split=1, n_estimators=5; accuracy: (test=nan) f1: (test=nan) precision: (test=nan) recall: (test=nan) total time=   0.0s\n",
      "[CV 1/2] END max_depth=None, max_features=8, max_samples=2250, min_samples_leaf=3, min_samples_split=1, n_estimators=6; accuracy: (test=nan) f1: (test=nan) precision: (test=nan) recall: (test=nan) total time=   0.0s\n",
      "[CV 2/2] END max_depth=None, max_features=8, max_samples=2250, min_samples_leaf=3, min_samples_split=1, n_estimators=6; accuracy: (test=nan) f1: (test=nan) precision: (test=nan) recall: (test=nan) total time=   0.0s\n",
      "[CV 1/2] END max_depth=None, max_features=8, max_samples=2250, min_samples_leaf=3, min_samples_split=2, n_estimators=4; accuracy: (test=0.799) f1: (test=0.218) precision: (test=0.353) recall: (test=0.158) total time=   0.1s\n",
      "[CV 2/2] END max_depth=None, max_features=8, max_samples=2250, min_samples_leaf=3, min_samples_split=2, n_estimators=4; accuracy: (test=0.802) f1: (test=0.215) precision: (test=0.364) recall: (test=0.153) total time=   0.1s\n",
      "[CV 1/2] END max_depth=None, max_features=8, max_samples=2250, min_samples_leaf=3, min_samples_split=2, n_estimators=6; accuracy: (test=0.807) f1: (test=0.206) precision: (test=0.381) recall: (test=0.141) total time=   0.1s\n",
      "[CV 2/2] END max_depth=None, max_features=8, max_samples=2250, min_samples_leaf=3, min_samples_split=2, n_estimators=6; accuracy: (test=0.806) f1: (test=0.202) precision: (test=0.371) recall: (test=0.139) total time=   0.1s\n",
      "[CV 1/2] END max_depth=None, max_features=8, max_samples=2250, min_samples_leaf=3, min_samples_split=3, n_estimators=5; accuracy: (test=0.803) f1: (test=0.231) precision: (test=0.376) recall: (test=0.167) total time=   0.1s\n",
      "[CV 2/2] END max_depth=None, max_features=8, max_samples=2250, min_samples_leaf=3, min_samples_split=3, n_estimators=5; accuracy: (test=0.801) f1: (test=0.226) precision: (test=0.366) recall: (test=0.164) total time=   0.1s\n",
      "[CV 1/2] END max_depth=None, max_features=8, max_samples=2500, min_samples_leaf=1, min_samples_split=1, n_estimators=4; accuracy: (test=nan) f1: (test=nan) precision: (test=nan) recall: (test=nan) total time=   0.0s\n",
      "[CV 2/2] END max_depth=None, max_features=8, max_samples=2500, min_samples_leaf=1, min_samples_split=1, n_estimators=4; accuracy: (test=nan) f1: (test=nan) precision: (test=nan) recall: (test=nan) total time=   0.0s\n",
      "[CV 1/2] END max_depth=None, max_features=8, max_samples=2500, min_samples_leaf=1, min_samples_split=1, n_estimators=5; accuracy: (test=nan) f1: (test=nan) precision: (test=nan) recall: (test=nan) total time=   0.0s\n",
      "[CV 2/2] END max_depth=None, max_features=8, max_samples=2500, min_samples_leaf=1, min_samples_split=1, n_estimators=5; accuracy: (test=nan) f1: (test=nan) precision: (test=nan) recall: (test=nan) total time=   0.0s\n",
      "[CV 1/2] END max_depth=None, max_features=8, max_samples=2500, min_samples_leaf=1, min_samples_split=1, n_estimators=6; accuracy: (test=nan) f1: (test=nan) precision: (test=nan) recall: (test=nan) total time=   0.0s\n",
      "[CV 2/2] END max_depth=None, max_features=8, max_samples=2500, min_samples_leaf=1, min_samples_split=1, n_estimators=6; accuracy: (test=nan) f1: (test=nan) precision: (test=nan) recall: (test=nan) total time=   0.0s\n",
      "[CV 1/2] END max_depth=None, max_features=8, max_samples=2500, min_samples_leaf=1, min_samples_split=2, n_estimators=4; accuracy: (test=0.806) f1: (test=0.193) precision: (test=0.368) recall: (test=0.131) total time=   0.1s\n",
      "[CV 2/2] END max_depth=None, max_features=8, max_samples=2500, min_samples_leaf=1, min_samples_split=2, n_estimators=4; accuracy: (test=0.806) f1: (test=0.188) precision: (test=0.365) recall: (test=0.126) total time=   0.1s\n",
      "[CV 1/2] END max_depth=None, max_features=8, max_samples=2500, min_samples_leaf=1, min_samples_split=2, n_estimators=6; accuracy: (test=0.805) f1: (test=0.192) precision: (test=0.361) recall: (test=0.131) total time=   0.2s\n",
      "[CV 2/2] END max_depth=None, max_features=8, max_samples=2500, min_samples_leaf=1, min_samples_split=2, n_estimators=6; accuracy: (test=0.807) f1: (test=0.175) precision: (test=0.359) recall: (test=0.115) total time=   0.2s\n",
      "[CV 1/2] END max_depth=None, max_features=8, max_samples=2500, min_samples_leaf=1, min_samples_split=3, n_estimators=5; accuracy: (test=0.795) f1: (test=0.246) precision: (test=0.354) recall: (test=0.188) total time=   0.1s\n"
     ]
    },
    {
     "name": "stdout",
     "output_type": "stream",
     "text": [
      "[CV 2/2] END max_depth=None, max_features=8, max_samples=2250, min_samples_leaf=1, min_samples_split=1, n_estimators=4; accuracy: (test=nan) f1: (test=nan) precision: (test=nan) recall: (test=nan) total time=   0.0s\n",
      "[CV 1/2] END max_depth=None, max_features=8, max_samples=2250, min_samples_leaf=1, min_samples_split=1, n_estimators=5; accuracy: (test=nan) f1: (test=nan) precision: (test=nan) recall: (test=nan) total time=   0.0s\n",
      "[CV 2/2] END max_depth=None, max_features=8, max_samples=2250, min_samples_leaf=1, min_samples_split=1, n_estimators=5; accuracy: (test=nan) f1: (test=nan) precision: (test=nan) recall: (test=nan) total time=   0.0s\n",
      "[CV 2/2] END max_depth=None, max_features=8, max_samples=2250, min_samples_leaf=1, min_samples_split=1, n_estimators=6; accuracy: (test=nan) f1: (test=nan) precision: (test=nan) recall: (test=nan) total time=   0.0s\n",
      "[CV 2/2] END max_depth=None, max_features=8, max_samples=2250, min_samples_leaf=1, min_samples_split=2, n_estimators=4; accuracy: (test=0.806) f1: (test=0.167) precision: (test=0.348) recall: (test=0.109) total time=   0.1s\n",
      "[CV 1/2] END max_depth=None, max_features=8, max_samples=2250, min_samples_leaf=1, min_samples_split=2, n_estimators=5; accuracy: (test=0.797) f1: (test=0.266) precision: (test=0.372) recall: (test=0.207) total time=   0.1s\n",
      "[CV 1/2] END max_depth=None, max_features=8, max_samples=2250, min_samples_leaf=1, min_samples_split=2, n_estimators=6; accuracy: (test=0.809) f1: (test=0.183) precision: (test=0.376) recall: (test=0.121) total time=   0.2s\n",
      "[CV 1/2] END max_depth=None, max_features=8, max_samples=2250, min_samples_leaf=1, min_samples_split=3, n_estimators=4; accuracy: (test=0.803) f1: (test=0.164) precision: (test=0.329) recall: (test=0.109) total time=   0.1s\n",
      "[CV 1/2] END max_depth=None, max_features=8, max_samples=2250, min_samples_leaf=1, min_samples_split=3, n_estimators=5; accuracy: (test=0.796) f1: (test=0.233) precision: (test=0.348) recall: (test=0.175) total time=   0.1s\n",
      "[CV 1/2] END max_depth=None, max_features=8, max_samples=2250, min_samples_leaf=1, min_samples_split=3, n_estimators=6; accuracy: (test=0.805) f1: (test=0.166) precision: (test=0.345) recall: (test=0.109) total time=   0.2s\n",
      "[CV 1/2] END max_depth=None, max_features=8, max_samples=2250, min_samples_leaf=2, min_samples_split=1, n_estimators=4; accuracy: (test=nan) f1: (test=nan) precision: (test=nan) recall: (test=nan) total time=   0.0s\n",
      "[CV 2/2] END max_depth=None, max_features=8, max_samples=2250, min_samples_leaf=2, min_samples_split=1, n_estimators=4; accuracy: (test=nan) f1: (test=nan) precision: (test=nan) recall: (test=nan) total time=   0.0s\n",
      "[CV 1/2] END max_depth=None, max_features=8, max_samples=2250, min_samples_leaf=2, min_samples_split=1, n_estimators=5; accuracy: (test=nan) f1: (test=nan) precision: (test=nan) recall: (test=nan) total time=   0.0s\n",
      "[CV 2/2] END max_depth=None, max_features=8, max_samples=2250, min_samples_leaf=2, min_samples_split=1, n_estimators=5; accuracy: (test=nan) f1: (test=nan) precision: (test=nan) recall: (test=nan) total time=   0.0s\n",
      "[CV 1/2] END max_depth=None, max_features=8, max_samples=2250, min_samples_leaf=2, min_samples_split=1, n_estimators=6; accuracy: (test=nan) f1: (test=nan) precision: (test=nan) recall: (test=nan) total time=   0.0s\n",
      "[CV 2/2] END max_depth=None, max_features=8, max_samples=2250, min_samples_leaf=2, min_samples_split=1, n_estimators=6; accuracy: (test=nan) f1: (test=nan) precision: (test=nan) recall: (test=nan) total time=   0.0s\n",
      "[CV 1/2] END max_depth=None, max_features=8, max_samples=2250, min_samples_leaf=2, min_samples_split=2, n_estimators=4; accuracy: (test=0.807) f1: (test=0.190) precision: (test=0.370) recall: (test=0.128) total time=   0.1s\n",
      "[CV 2/2] END max_depth=None, max_features=8, max_samples=2250, min_samples_leaf=2, min_samples_split=2, n_estimators=4; accuracy: (test=0.804) f1: (test=0.199) precision: (test=0.362) recall: (test=0.137) total time=   0.1s\n",
      "[CV 1/2] END max_depth=None, max_features=8, max_samples=2250, min_samples_leaf=2, min_samples_split=2, n_estimators=6; accuracy: (test=0.811) f1: (test=0.195) precision: (test=0.396) recall: (test=0.129) total time=   0.2s\n",
      "[CV 2/2] END max_depth=None, max_features=8, max_samples=2250, min_samples_leaf=2, min_samples_split=2, n_estimators=6; accuracy: (test=0.809) f1: (test=0.204) precision: (test=0.389) recall: (test=0.138) total time=   0.1s\n",
      "[CV 1/2] END max_depth=None, max_features=8, max_samples=2250, min_samples_leaf=2, min_samples_split=3, n_estimators=6; accuracy: (test=0.811) f1: (test=0.195) precision: (test=0.396) recall: (test=0.129) total time=   0.2s\n",
      "[CV 2/2] END max_depth=None, max_features=8, max_samples=2250, min_samples_leaf=2, min_samples_split=3, n_estimators=6; accuracy: (test=0.809) f1: (test=0.204) precision: (test=0.389) recall: (test=0.138) total time=   0.2s\n",
      "[CV 1/2] END max_depth=None, max_features=8, max_samples=2250, min_samples_leaf=3, min_samples_split=2, n_estimators=5; accuracy: (test=0.803) f1: (test=0.231) precision: (test=0.376) recall: (test=0.167) total time=   0.1s\n",
      "[CV 2/2] END max_depth=None, max_features=8, max_samples=2250, min_samples_leaf=3, min_samples_split=2, n_estimators=5; accuracy: (test=0.801) f1: (test=0.226) precision: (test=0.366) recall: (test=0.164) total time=   0.1s\n",
      "[CV 1/2] END max_depth=None, max_features=8, max_samples=2250, min_samples_leaf=3, min_samples_split=3, n_estimators=4; accuracy: (test=0.799) f1: (test=0.218) precision: (test=0.353) recall: (test=0.158) total time=   0.1s\n",
      "[CV 2/2] END max_depth=None, max_features=8, max_samples=2250, min_samples_leaf=3, min_samples_split=3, n_estimators=4; accuracy: (test=0.802) f1: (test=0.215) precision: (test=0.364) recall: (test=0.153) total time=   0.1s\n",
      "[CV 1/2] END max_depth=None, max_features=8, max_samples=2250, min_samples_leaf=3, min_samples_split=3, n_estimators=6; accuracy: (test=0.807) f1: (test=0.206) precision: (test=0.381) recall: (test=0.141) total time=   0.2s\n",
      "[CV 2/2] END max_depth=None, max_features=8, max_samples=2250, min_samples_leaf=3, min_samples_split=3, n_estimators=6; accuracy: (test=0.806) f1: (test=0.202) precision: (test=0.371) recall: (test=0.139) total time=   0.1s\n",
      "[CV 1/2] END max_depth=None, max_features=8, max_samples=2500, min_samples_leaf=1, min_samples_split=2, n_estimators=5; accuracy: (test=0.789) f1: (test=0.269) precision: (test=0.350) recall: (test=0.218) total time=   0.1s\n",
      "[CV 2/2] END max_depth=None, max_features=8, max_samples=2500, min_samples_leaf=1, min_samples_split=2, n_estimators=5; accuracy: (test=0.793) f1: (test=0.266) precision: (test=0.359) recall: (test=0.211) total time=   0.1s\n",
      "[CV 1/2] END max_depth=None, max_features=8, max_samples=2500, min_samples_leaf=1, min_samples_split=3, n_estimators=4; accuracy: (test=0.804) f1: (test=0.180) precision: (test=0.350) recall: (test=0.121) total time=   0.1s\n",
      "[CV 2/2] END max_depth=None, max_features=8, max_samples=2500, min_samples_leaf=1, min_samples_split=3, n_estimators=4; accuracy: (test=0.807) f1: (test=0.208) precision: (test=0.383) recall: (test=0.143) total time=   0.1s\n",
      "[CV 1/2] END max_depth=None, max_features=8, max_samples=2500, min_samples_leaf=1, min_samples_split=3, n_estimators=6; accuracy: (test=0.807) f1: (test=0.192) precision: (test=0.372) recall: (test=0.129) total time=   0.2s\n",
      "[CV 2/2] END max_depth=None, max_features=8, max_samples=2500, min_samples_leaf=1, min_samples_split=3, n_estimators=6; accuracy: (test=0.807) f1: (test=0.197) precision: (test=0.378) recall: (test=0.133) total time=   0.2s\n",
      "[CV 1/2] END max_depth=None, max_features=8, max_samples=2500, min_samples_leaf=2, min_samples_split=2, n_estimators=5; accuracy: (test=0.804) f1: (test=0.259) precision: (test=0.392) recall: (test=0.193) total time=   0.1s\n",
      "[CV 2/2] END max_depth=None, max_features=8, max_samples=2500, min_samples_leaf=2, min_samples_split=2, n_estimators=5; accuracy: (test=0.804) f1: (test=0.245) precision: (test=0.386) recall: (test=0.179) total time=   0.1s\n",
      "[CV 2/2] END max_depth=None, max_features=8, max_samples=2500, min_samples_leaf=1, min_samples_split=3, n_estimators=5; accuracy: (test=0.798) f1: (test=0.273) precision: (test=0.378) recall: (test=0.213) total time=   0.1s\n",
      "[CV 1/2] END max_depth=None, max_features=8, max_samples=2500, min_samples_leaf=2, min_samples_split=1, n_estimators=4; accuracy: (test=nan) f1: (test=nan) precision: (test=nan) recall: (test=nan) total time=   0.0s\n",
      "[CV 2/2] END max_depth=None, max_features=8, max_samples=2500, min_samples_leaf=2, min_samples_split=1, n_estimators=4; accuracy: (test=nan) f1: (test=nan) precision: (test=nan) recall: (test=nan) total time=   0.0s\n",
      "[CV 1/2] END max_depth=None, max_features=8, max_samples=2500, min_samples_leaf=2, min_samples_split=1, n_estimators=5; accuracy: (test=nan) f1: (test=nan) precision: (test=nan) recall: (test=nan) total time=   0.0s\n",
      "[CV 2/2] END max_depth=None, max_features=8, max_samples=2500, min_samples_leaf=2, min_samples_split=1, n_estimators=5; accuracy: (test=nan) f1: (test=nan) precision: (test=nan) recall: (test=nan) total time=   0.0s\n",
      "[CV 1/2] END max_depth=None, max_features=8, max_samples=2500, min_samples_leaf=2, min_samples_split=1, n_estimators=6; accuracy: (test=nan) f1: (test=nan) precision: (test=nan) recall: (test=nan) total time=   0.0s\n",
      "[CV 2/2] END max_depth=None, max_features=8, max_samples=2500, min_samples_leaf=2, min_samples_split=1, n_estimators=6; accuracy: (test=nan) f1: (test=nan) precision: (test=nan) recall: (test=nan) total time=   0.0s\n",
      "[CV 1/2] END max_depth=None, max_features=8, max_samples=2500, min_samples_leaf=2, min_samples_split=2, n_estimators=4; accuracy: (test=0.806) f1: (test=0.248) precision: (test=0.397) recall: (test=0.180) total time=   0.1s\n",
      "[CV 2/2] END max_depth=None, max_features=8, max_samples=2500, min_samples_leaf=2, min_samples_split=2, n_estimators=4; accuracy: (test=0.802) f1: (test=0.221) precision: (test=0.363) recall: (test=0.159) total time=   0.1s\n",
      "[CV 1/2] END max_depth=None, max_features=8, max_samples=2500, min_samples_leaf=2, min_samples_split=2, n_estimators=6; accuracy: (test=0.807) f1: (test=0.247) precision: (test=0.402) recall: (test=0.179) total time=   0.2s\n",
      "[CV 2/2] END max_depth=None, max_features=8, max_samples=2500, min_samples_leaf=2, min_samples_split=2, n_estimators=6; accuracy: (test=0.806) f1: (test=0.231) precision: (test=0.388) recall: (test=0.165) total time=   0.1s\n",
      "[CV 1/2] END max_depth=None, max_features=8, max_samples=2500, min_samples_leaf=2, min_samples_split=3, n_estimators=5; accuracy: (test=0.804) f1: (test=0.259) precision: (test=0.392) recall: (test=0.193) total time=   0.1s\n",
      "[CV 2/2] END max_depth=None, max_features=8, max_samples=2500, min_samples_leaf=2, min_samples_split=3, n_estimators=5; accuracy: (test=0.804) f1: (test=0.245) precision: (test=0.386) recall: (test=0.179) total time=   0.1s\n",
      "[CV 1/2] END max_depth=None, max_features=8, max_samples=2500, min_samples_leaf=3, min_samples_split=1, n_estimators=4; accuracy: (test=nan) f1: (test=nan) precision: (test=nan) recall: (test=nan) total time=   0.0s\n",
      "[CV 2/2] END max_depth=None, max_features=8, max_samples=2500, min_samples_leaf=3, min_samples_split=1, n_estimators=4; accuracy: (test=nan) f1: (test=nan) precision: (test=nan) recall: (test=nan) total time=   0.0s\n",
      "[CV 1/2] END max_depth=None, max_features=8, max_samples=2500, min_samples_leaf=3, min_samples_split=1, n_estimators=5; accuracy: (test=nan) f1: (test=nan) precision: (test=nan) recall: (test=nan) total time=   0.0s\n",
      "[CV 2/2] END max_depth=None, max_features=8, max_samples=2500, min_samples_leaf=3, min_samples_split=1, n_estimators=5; accuracy: (test=nan) f1: (test=nan) precision: (test=nan) recall: (test=nan) total time=   0.0s\n",
      "[CV 1/2] END max_depth=None, max_features=8, max_samples=2500, min_samples_leaf=3, min_samples_split=1, n_estimators=6; accuracy: (test=nan) f1: (test=nan) precision: (test=nan) recall: (test=nan) total time=   0.0s\n",
      "[CV 2/2] END max_depth=None, max_features=8, max_samples=2500, min_samples_leaf=3, min_samples_split=1, n_estimators=6; accuracy: (test=nan) f1: (test=nan) precision: (test=nan) recall: (test=nan) total time=   0.0s\n",
      "[CV 1/2] END max_depth=None, max_features=8, max_samples=2500, min_samples_leaf=3, min_samples_split=2, n_estimators=4; accuracy: (test=0.802) f1: (test=0.228) precision: (test=0.368) recall: (test=0.166) total time=   0.1s\n",
      "[CV 2/2] END max_depth=None, max_features=8, max_samples=2500, min_samples_leaf=3, min_samples_split=2, n_estimators=4; accuracy: (test=0.804) f1: (test=0.247) precision: (test=0.386) recall: (test=0.181) total time=   0.1s\n",
      "[CV 1/2] END max_depth=None, max_features=8, max_samples=2500, min_samples_leaf=3, min_samples_split=2, n_estimators=6; accuracy: (test=0.805) f1: (test=0.234) precision: (test=0.383) recall: (test=0.169) total time=   0.2s\n",
      "[CV 2/2] END max_depth=None, max_features=8, max_samples=2500, min_samples_leaf=3, min_samples_split=2, n_estimators=6; accuracy: (test=0.809) f1: (test=0.225) precision: (test=0.402) recall: (test=0.156) total time=   0.1s\n",
      "[CV 1/2] END max_depth=None, max_features=8, max_samples=2500, min_samples_leaf=3, min_samples_split=3, n_estimators=5; accuracy: (test=0.804) f1: (test=0.264) precision: (test=0.394) recall: (test=0.198) total time=   0.1s\n",
      "[CV 2/2] END max_depth=None, max_features=8, max_samples=2500, min_samples_leaf=3, min_samples_split=3, n_estimators=5; accuracy: (test=0.804) f1: (test=0.232) precision: (test=0.380) recall: (test=0.167) total time=   0.1s\n",
      "[CV 1/2] END max_depth=None, max_features=8, max_samples=2750, min_samples_leaf=1, min_samples_split=1, n_estimators=4; accuracy: (test=nan) f1: (test=nan) precision: (test=nan) recall: (test=nan) total time=   0.0s\n",
      "[CV 2/2] END max_depth=None, max_features=8, max_samples=2750, min_samples_leaf=1, min_samples_split=1, n_estimators=4; accuracy: (test=nan) f1: (test=nan) precision: (test=nan) recall: (test=nan) total time=   0.0s\n",
      "[CV 1/2] END max_depth=None, max_features=8, max_samples=2750, min_samples_leaf=1, min_samples_split=1, n_estimators=5; accuracy: (test=nan) f1: (test=nan) precision: (test=nan) recall: (test=nan) total time=   0.0s\n",
      "[CV 2/2] END max_depth=None, max_features=8, max_samples=2750, min_samples_leaf=1, min_samples_split=1, n_estimators=5; accuracy: (test=nan) f1: (test=nan) precision: (test=nan) recall: (test=nan) total time=   0.0s\n",
      "[CV 1/2] END max_depth=None, max_features=8, max_samples=2750, min_samples_leaf=1, min_samples_split=1, n_estimators=6; accuracy: (test=nan) f1: (test=nan) precision: (test=nan) recall: (test=nan) total time=   0.0s\n",
      "[CV 2/2] END max_depth=None, max_features=8, max_samples=2750, min_samples_leaf=1, min_samples_split=1, n_estimators=6; accuracy: (test=nan) f1: (test=nan) precision: (test=nan) recall: (test=nan) total time=   0.0s\n",
      "[CV 1/2] END max_depth=None, max_features=8, max_samples=2750, min_samples_leaf=1, min_samples_split=2, n_estimators=4; accuracy: (test=0.807) f1: (test=0.198) precision: (test=0.376) recall: (test=0.134) total time=   0.2s\n",
      "[CV 2/2] END max_depth=None, max_features=8, max_samples=2750, min_samples_leaf=1, min_samples_split=2, n_estimators=4; accuracy: (test=0.809) f1: (test=0.220) precision: (test=0.401) recall: (test=0.152) total time=   0.1s\n",
      "[CV 1/2] END max_depth=None, max_features=8, max_samples=2750, min_samples_leaf=1, min_samples_split=2, n_estimators=6; accuracy: (test=0.811) f1: (test=0.210) precision: (test=0.406) recall: (test=0.142) total time=   0.2s\n",
      "[CV 2/2] END max_depth=None, max_features=8, max_samples=2750, min_samples_leaf=1, min_samples_split=2, n_estimators=6; accuracy: (test=0.808) f1: (test=0.210) precision: (test=0.388) recall: (test=0.144) total time=   0.2s\n",
      "[CV 1/2] END max_depth=None, max_features=8, max_samples=2750, min_samples_leaf=1, min_samples_split=3, n_estimators=6; accuracy: (test=0.806) f1: (test=0.177) precision: (test=0.358) recall: (test=0.117) total time=   0.2s\n",
      "[CV 2/2] END max_depth=None, max_features=8, max_samples=2750, min_samples_leaf=1, min_samples_split=3, n_estimators=6; accuracy: (test=0.809) f1: (test=0.203) precision: (test=0.393) recall: (test=0.137) total time=   0.2s\n"
     ]
    },
    {
     "name": "stdout",
     "output_type": "stream",
     "text": [
      "[CV 1/2] END max_depth=None, max_features=8, max_samples=2500, min_samples_leaf=2, min_samples_split=3, n_estimators=4; accuracy: (test=0.806) f1: (test=0.248) precision: (test=0.397) recall: (test=0.180) total time=   0.1s\n",
      "[CV 2/2] END max_depth=None, max_features=8, max_samples=2500, min_samples_leaf=2, min_samples_split=3, n_estimators=4; accuracy: (test=0.802) f1: (test=0.221) precision: (test=0.363) recall: (test=0.159) total time=   0.1s\n",
      "[CV 1/2] END max_depth=None, max_features=8, max_samples=2500, min_samples_leaf=2, min_samples_split=3, n_estimators=6; accuracy: (test=0.807) f1: (test=0.247) precision: (test=0.402) recall: (test=0.179) total time=   0.2s\n",
      "[CV 2/2] END max_depth=None, max_features=8, max_samples=2500, min_samples_leaf=2, min_samples_split=3, n_estimators=6; accuracy: (test=0.806) f1: (test=0.231) precision: (test=0.388) recall: (test=0.165) total time=   0.2s\n",
      "[CV 1/2] END max_depth=None, max_features=8, max_samples=2500, min_samples_leaf=3, min_samples_split=2, n_estimators=5; accuracy: (test=0.804) f1: (test=0.264) precision: (test=0.394) recall: (test=0.198) total time=   0.1s\n",
      "[CV 2/2] END max_depth=None, max_features=8, max_samples=2500, min_samples_leaf=3, min_samples_split=2, n_estimators=5; accuracy: (test=0.804) f1: (test=0.232) precision: (test=0.380) recall: (test=0.167) total time=   0.1s\n",
      "[CV 1/2] END max_depth=None, max_features=8, max_samples=2500, min_samples_leaf=3, min_samples_split=3, n_estimators=4; accuracy: (test=0.802) f1: (test=0.228) precision: (test=0.368) recall: (test=0.166) total time=   0.1s\n",
      "[CV 2/2] END max_depth=None, max_features=8, max_samples=2500, min_samples_leaf=3, min_samples_split=3, n_estimators=4; accuracy: (test=0.804) f1: (test=0.247) precision: (test=0.386) recall: (test=0.181) total time=   0.1s\n",
      "[CV 1/2] END max_depth=None, max_features=8, max_samples=2500, min_samples_leaf=3, min_samples_split=3, n_estimators=6; accuracy: (test=0.805) f1: (test=0.234) precision: (test=0.383) recall: (test=0.169) total time=   0.2s\n",
      "[CV 2/2] END max_depth=None, max_features=8, max_samples=2500, min_samples_leaf=3, min_samples_split=3, n_estimators=6; accuracy: (test=0.809) f1: (test=0.225) precision: (test=0.402) recall: (test=0.156) total time=   0.2s\n",
      "[CV 1/2] END max_depth=None, max_features=8, max_samples=2750, min_samples_leaf=1, min_samples_split=2, n_estimators=5; accuracy: (test=0.792) f1: (test=0.277) precision: (test=0.360) recall: (test=0.225) total time=   0.2s\n",
      "[CV 2/2] END max_depth=None, max_features=8, max_samples=2750, min_samples_leaf=1, min_samples_split=2, n_estimators=5; accuracy: (test=0.788) f1: (test=0.274) precision: (test=0.350) recall: (test=0.225) total time=   0.1s\n",
      "[CV 1/2] END max_depth=None, max_features=8, max_samples=2750, min_samples_leaf=1, min_samples_split=3, n_estimators=4; accuracy: (test=0.800) f1: (test=0.157) precision: (test=0.309) recall: (test=0.106) total time=   0.1s\n",
      "[CV 2/2] END max_depth=None, max_features=8, max_samples=2750, min_samples_leaf=1, min_samples_split=3, n_estimators=4; accuracy: (test=0.804) f1: (test=0.199) precision: (test=0.361) recall: (test=0.137) total time=   0.1s\n",
      "[CV 1/2] END max_depth=None, max_features=8, max_samples=2750, min_samples_leaf=1, min_samples_split=3, n_estimators=5; accuracy: (test=0.796) f1: (test=0.230) precision: (test=0.347) recall: (test=0.173) total time=   0.2s\n",
      "[CV 2/2] END max_depth=None, max_features=8, max_samples=2750, min_samples_leaf=1, min_samples_split=3, n_estimators=5; accuracy: (test=0.793) f1: (test=0.239) precision: (test=0.343) recall: (test=0.183) total time=   0.1s\n",
      "[CV 1/2] END max_depth=None, max_features=8, max_samples=2750, min_samples_leaf=2, min_samples_split=1, n_estimators=4; accuracy: (test=nan) f1: (test=nan) precision: (test=nan) recall: (test=nan) total time=   0.0s\n",
      "[CV 2/2] END max_depth=None, max_features=8, max_samples=2750, min_samples_leaf=2, min_samples_split=1, n_estimators=4; accuracy: (test=nan) f1: (test=nan) precision: (test=nan) recall: (test=nan) total time=   0.0s\n",
      "[CV 1/2] END max_depth=None, max_features=8, max_samples=2750, min_samples_leaf=2, min_samples_split=1, n_estimators=5; accuracy: (test=nan) f1: (test=nan) precision: (test=nan) recall: (test=nan) total time=   0.0s\n",
      "[CV 2/2] END max_depth=None, max_features=8, max_samples=2750, min_samples_leaf=2, min_samples_split=1, n_estimators=5; accuracy: (test=nan) f1: (test=nan) precision: (test=nan) recall: (test=nan) total time=   0.0s\n",
      "[CV 1/2] END max_depth=None, max_features=8, max_samples=2750, min_samples_leaf=2, min_samples_split=1, n_estimators=6; accuracy: (test=nan) f1: (test=nan) precision: (test=nan) recall: (test=nan) total time=   0.0s\n",
      "[CV 2/2] END max_depth=None, max_features=8, max_samples=2750, min_samples_leaf=2, min_samples_split=1, n_estimators=6; accuracy: (test=nan) f1: (test=nan) precision: (test=nan) recall: (test=nan) total time=   0.0s\n",
      "[CV 1/2] END max_depth=None, max_features=8, max_samples=2750, min_samples_leaf=2, min_samples_split=2, n_estimators=4; accuracy: (test=0.799) f1: (test=0.192) precision: (test=0.335) recall: (test=0.134) total time=   0.1s\n",
      "[CV 2/2] END max_depth=None, max_features=8, max_samples=2750, min_samples_leaf=2, min_samples_split=2, n_estimators=4; accuracy: (test=0.800) f1: (test=0.203) precision: (test=0.347) recall: (test=0.143) total time=   0.1s\n",
      "[CV 1/2] END max_depth=None, max_features=8, max_samples=2750, min_samples_leaf=2, min_samples_split=2, n_estimators=6; accuracy: (test=0.807) f1: (test=0.223) precision: (test=0.389) recall: (test=0.157) total time=   0.2s\n",
      "[CV 2/2] END max_depth=None, max_features=8, max_samples=2750, min_samples_leaf=2, min_samples_split=2, n_estimators=6; accuracy: (test=0.803) f1: (test=0.191) precision: (test=0.351) recall: (test=0.131) total time=   0.2s\n",
      "[CV 1/2] END max_depth=None, max_features=8, max_samples=2750, min_samples_leaf=2, min_samples_split=3, n_estimators=6; accuracy: (test=0.807) f1: (test=0.223) precision: (test=0.389) recall: (test=0.157) total time=   0.2s\n",
      "[CV 2/2] END max_depth=None, max_features=8, max_samples=2750, min_samples_leaf=2, min_samples_split=3, n_estimators=6; accuracy: (test=0.803) f1: (test=0.191) precision: (test=0.351) recall: (test=0.131) total time=   0.2s\n",
      "[CV 1/2] END max_depth=None, max_features=8, max_samples=2750, min_samples_leaf=3, min_samples_split=2, n_estimators=5; accuracy: (test=0.807) f1: (test=0.276) precision: (test=0.411) recall: (test=0.208) total time=   0.1s\n",
      "[CV 2/2] END max_depth=None, max_features=8, max_samples=2750, min_samples_leaf=3, min_samples_split=2, n_estimators=5; accuracy: (test=0.799) f1: (test=0.246) precision: (test=0.369) recall: (test=0.184) total time=   0.1s\n",
      "[CV 1/2] END max_depth=None, max_features=8, max_samples=2750, min_samples_leaf=3, min_samples_split=3, n_estimators=4; accuracy: (test=0.801) f1: (test=0.257) precision: (test=0.379) recall: (test=0.194) total time=   0.1s\n",
      "[CV 2/2] END max_depth=None, max_features=8, max_samples=2750, min_samples_leaf=3, min_samples_split=3, n_estimators=4; accuracy: (test=0.797) f1: (test=0.243) precision: (test=0.358) recall: (test=0.184) total time=   0.1s\n",
      "[CV 1/2] END max_depth=None, max_features=8, max_samples=2750, min_samples_leaf=3, min_samples_split=3, n_estimators=5; accuracy: (test=0.807) f1: (test=0.276) precision: (test=0.411) recall: (test=0.208) total time=   0.1s\n",
      "[CV 2/2] END max_depth=None, max_features=8, max_samples=2750, min_samples_leaf=3, min_samples_split=3, n_estimators=5; accuracy: (test=0.799) f1: (test=0.246) precision: (test=0.369) recall: (test=0.184) total time=   0.1s\n",
      "[CV 1/2] END max_depth=None, max_features=9, max_samples=2250, min_samples_leaf=1, min_samples_split=1, n_estimators=4; accuracy: (test=nan) f1: (test=nan) precision: (test=nan) recall: (test=nan) total time=   0.0s\n",
      "[CV 2/2] END max_depth=None, max_features=9, max_samples=2250, min_samples_leaf=1, min_samples_split=1, n_estimators=4; accuracy: (test=nan) f1: (test=nan) precision: (test=nan) recall: (test=nan) total time=   0.0s\n",
      "[CV 1/2] END max_depth=None, max_features=8, max_samples=2750, min_samples_leaf=2, min_samples_split=2, n_estimators=5; accuracy: (test=0.799) f1: (test=0.222) precision: (test=0.356) recall: (test=0.162) total time=   0.2s\n",
      "[CV 2/2] END max_depth=None, max_features=8, max_samples=2750, min_samples_leaf=2, min_samples_split=2, n_estimators=5; accuracy: (test=0.800) f1: (test=0.211) precision: (test=0.350) recall: (test=0.151) total time=   0.1s\n",
      "[CV 1/2] END max_depth=None, max_features=8, max_samples=2750, min_samples_leaf=2, min_samples_split=3, n_estimators=4; accuracy: (test=0.799) f1: (test=0.192) precision: (test=0.335) recall: (test=0.134) total time=   0.1s\n",
      "[CV 2/2] END max_depth=None, max_features=8, max_samples=2750, min_samples_leaf=2, min_samples_split=3, n_estimators=4; accuracy: (test=0.800) f1: (test=0.203) precision: (test=0.347) recall: (test=0.143) total time=   0.1s\n",
      "[CV 1/2] END max_depth=None, max_features=8, max_samples=2750, min_samples_leaf=2, min_samples_split=3, n_estimators=5; accuracy: (test=0.799) f1: (test=0.222) precision: (test=0.356) recall: (test=0.162) total time=   0.2s\n",
      "[CV 2/2] END max_depth=None, max_features=8, max_samples=2750, min_samples_leaf=2, min_samples_split=3, n_estimators=5; accuracy: (test=0.800) f1: (test=0.211) precision: (test=0.350) recall: (test=0.151) total time=   0.1s\n",
      "[CV 1/2] END max_depth=None, max_features=8, max_samples=2750, min_samples_leaf=3, min_samples_split=1, n_estimators=4; accuracy: (test=nan) f1: (test=nan) precision: (test=nan) recall: (test=nan) total time=   0.0s\n",
      "[CV 2/2] END max_depth=None, max_features=8, max_samples=2750, min_samples_leaf=3, min_samples_split=1, n_estimators=4; accuracy: (test=nan) f1: (test=nan) precision: (test=nan) recall: (test=nan) total time=   0.0s\n",
      "[CV 1/2] END max_depth=None, max_features=8, max_samples=2750, min_samples_leaf=3, min_samples_split=1, n_estimators=5; accuracy: (test=nan) f1: (test=nan) precision: (test=nan) recall: (test=nan) total time=   0.0s\n",
      "[CV 2/2] END max_depth=None, max_features=8, max_samples=2750, min_samples_leaf=3, min_samples_split=1, n_estimators=5; accuracy: (test=nan) f1: (test=nan) precision: (test=nan) recall: (test=nan) total time=   0.0s\n",
      "[CV 1/2] END max_depth=None, max_features=8, max_samples=2750, min_samples_leaf=3, min_samples_split=1, n_estimators=6; accuracy: (test=nan) f1: (test=nan) precision: (test=nan) recall: (test=nan) total time=   0.0s\n",
      "[CV 2/2] END max_depth=None, max_features=8, max_samples=2750, min_samples_leaf=3, min_samples_split=1, n_estimators=6; accuracy: (test=nan) f1: (test=nan) precision: (test=nan) recall: (test=nan) total time=   0.0s\n",
      "[CV 1/2] END max_depth=None, max_features=8, max_samples=2750, min_samples_leaf=3, min_samples_split=2, n_estimators=4; accuracy: (test=0.801) f1: (test=0.257) precision: (test=0.379) recall: (test=0.194) total time=   0.1s\n",
      "[CV 2/2] END max_depth=None, max_features=8, max_samples=2750, min_samples_leaf=3, min_samples_split=2, n_estimators=4; accuracy: (test=0.797) f1: (test=0.243) precision: (test=0.358) recall: (test=0.184) total time=   0.1s\n",
      "[CV 1/2] END max_depth=None, max_features=8, max_samples=2750, min_samples_leaf=3, min_samples_split=2, n_estimators=6; accuracy: (test=0.811) f1: (test=0.257) precision: (test=0.426) recall: (test=0.184) total time=   0.2s\n",
      "[CV 2/2] END max_depth=None, max_features=8, max_samples=2750, min_samples_leaf=3, min_samples_split=2, n_estimators=6; accuracy: (test=0.807) f1: (test=0.239) precision: (test=0.397) recall: (test=0.171) total time=   0.2s\n",
      "[CV 1/2] END max_depth=None, max_features=8, max_samples=2750, min_samples_leaf=3, min_samples_split=3, n_estimators=6; accuracy: (test=0.811) f1: (test=0.257) precision: (test=0.426) recall: (test=0.184) total time=   0.2s\n",
      "[CV 2/2] END max_depth=None, max_features=8, max_samples=2750, min_samples_leaf=3, min_samples_split=3, n_estimators=6; accuracy: (test=0.807) f1: (test=0.239) precision: (test=0.397) recall: (test=0.171) total time=   0.2s\n",
      "[CV 1/2] END max_depth=None, max_features=9, max_samples=2250, min_samples_leaf=1, min_samples_split=2, n_estimators=5; accuracy: (test=0.786) f1: (test=0.264) precision: (test=0.338) recall: (test=0.216) total time=   0.2s\n",
      "[CV 2/2] END max_depth=None, max_features=9, max_samples=2250, min_samples_leaf=1, min_samples_split=2, n_estimators=5; accuracy: (test=0.795) f1: (test=0.275) precision: (test=0.368) recall: (test=0.219) total time=   0.1s\n",
      "[CV 1/2] END max_depth=None, max_features=9, max_samples=2250, min_samples_leaf=1, min_samples_split=3, n_estimators=4; accuracy: (test=0.799) f1: (test=0.170) precision: (test=0.317) recall: (test=0.116) total time=   0.1s\n",
      "[CV 2/2] END max_depth=None, max_features=9, max_samples=2250, min_samples_leaf=1, min_samples_split=3, n_estimators=4; accuracy: (test=0.806) f1: (test=0.223) precision: (test=0.383) recall: (test=0.158) total time=   0.1s\n",
      "[CV 1/2] END max_depth=None, max_features=9, max_samples=2250, min_samples_leaf=1, min_samples_split=3, n_estimators=5; accuracy: (test=0.786) f1: (test=0.239) precision: (test=0.323) recall: (test=0.190) total time=   0.1s\n",
      "[CV 2/2] END max_depth=None, max_features=9, max_samples=2250, min_samples_leaf=1, min_samples_split=3, n_estimators=5; accuracy: (test=0.792) f1: (test=0.261) precision: (test=0.354) recall: (test=0.207) total time=   0.1s\n",
      "[CV 1/2] END max_depth=None, max_features=9, max_samples=2250, min_samples_leaf=2, min_samples_split=1, n_estimators=4; accuracy: (test=nan) f1: (test=nan) precision: (test=nan) recall: (test=nan) total time=   0.0s\n",
      "[CV 2/2] END max_depth=None, max_features=9, max_samples=2250, min_samples_leaf=2, min_samples_split=1, n_estimators=4; accuracy: (test=nan) f1: (test=nan) precision: (test=nan) recall: (test=nan) total time=   0.0s\n",
      "[CV 1/2] END max_depth=None, max_features=9, max_samples=2250, min_samples_leaf=2, min_samples_split=1, n_estimators=5; accuracy: (test=nan) f1: (test=nan) precision: (test=nan) recall: (test=nan) total time=   0.0s\n",
      "[CV 2/2] END max_depth=None, max_features=9, max_samples=2250, min_samples_leaf=2, min_samples_split=1, n_estimators=5; accuracy: (test=nan) f1: (test=nan) precision: (test=nan) recall: (test=nan) total time=   0.0s\n",
      "[CV 1/2] END max_depth=None, max_features=9, max_samples=2250, min_samples_leaf=2, min_samples_split=1, n_estimators=6; accuracy: (test=nan) f1: (test=nan) precision: (test=nan) recall: (test=nan) total time=   0.0s\n",
      "[CV 2/2] END max_depth=None, max_features=9, max_samples=2250, min_samples_leaf=2, min_samples_split=1, n_estimators=6; accuracy: (test=nan) f1: (test=nan) precision: (test=nan) recall: (test=nan) total time=   0.0s\n",
      "[CV 1/2] END max_depth=None, max_features=9, max_samples=2250, min_samples_leaf=2, min_samples_split=2, n_estimators=4; accuracy: (test=0.804) f1: (test=0.217) precision: (test=0.373) recall: (test=0.153) total time=   0.1s\n",
      "[CV 2/2] END max_depth=None, max_features=9, max_samples=2250, min_samples_leaf=2, min_samples_split=2, n_estimators=4; accuracy: (test=0.804) f1: (test=0.222) precision: (test=0.374) recall: (test=0.158) total time=   0.1s\n",
      "[CV 1/2] END max_depth=None, max_features=9, max_samples=2250, min_samples_leaf=2, min_samples_split=2, n_estimators=6; accuracy: (test=0.806) f1: (test=0.219) precision: (test=0.384) recall: (test=0.153) total time=   0.2s\n",
      "[CV 2/2] END max_depth=None, max_features=9, max_samples=2250, min_samples_leaf=2, min_samples_split=2, n_estimators=6; accuracy: (test=0.807) f1: (test=0.229) precision: (test=0.393) recall: (test=0.162) total time=   0.2s\n",
      "[CV 1/2] END max_depth=None, max_features=9, max_samples=2250, min_samples_leaf=2, min_samples_split=3, n_estimators=5; accuracy: (test=0.801) f1: (test=0.237) precision: (test=0.370) recall: (test=0.175) total time=   0.1s\n",
      "[CV 2/2] END max_depth=None, max_features=9, max_samples=2250, min_samples_leaf=2, min_samples_split=3, n_estimators=5; accuracy: (test=0.801) f1: (test=0.237) precision: (test=0.371) recall: (test=0.174) total time=   0.1s\n",
      "[CV 1/2] END max_depth=None, max_features=9, max_samples=2250, min_samples_leaf=3, min_samples_split=1, n_estimators=4; accuracy: (test=nan) f1: (test=nan) precision: (test=nan) recall: (test=nan) total time=   0.0s\n"
     ]
    },
    {
     "name": "stdout",
     "output_type": "stream",
     "text": [
      "[CV 2/2] END max_depth=None, max_features=9, max_samples=2250, min_samples_leaf=3, min_samples_split=1, n_estimators=4; accuracy: (test=nan) f1: (test=nan) precision: (test=nan) recall: (test=nan) total time=   0.0s\n",
      "[CV 1/2] END max_depth=None, max_features=9, max_samples=2250, min_samples_leaf=3, min_samples_split=1, n_estimators=5; accuracy: (test=nan) f1: (test=nan) precision: (test=nan) recall: (test=nan) total time=   0.0s\n",
      "[CV 2/2] END max_depth=None, max_features=9, max_samples=2250, min_samples_leaf=3, min_samples_split=1, n_estimators=5; accuracy: (test=nan) f1: (test=nan) precision: (test=nan) recall: (test=nan) total time=   0.0s\n",
      "[CV 1/2] END max_depth=None, max_features=9, max_samples=2250, min_samples_leaf=3, min_samples_split=1, n_estimators=6; accuracy: (test=nan) f1: (test=nan) precision: (test=nan) recall: (test=nan) total time=   0.0s\n",
      "[CV 2/2] END max_depth=None, max_features=9, max_samples=2250, min_samples_leaf=3, min_samples_split=1, n_estimators=6; accuracy: (test=nan) f1: (test=nan) precision: (test=nan) recall: (test=nan) total time=   0.0s\n",
      "[CV 1/2] END max_depth=None, max_features=9, max_samples=2250, min_samples_leaf=3, min_samples_split=2, n_estimators=4; accuracy: (test=0.803) f1: (test=0.243) precision: (test=0.383) recall: (test=0.179) total time=   0.1s\n",
      "[CV 2/2] END max_depth=None, max_features=9, max_samples=2250, min_samples_leaf=3, min_samples_split=2, n_estimators=4; accuracy: (test=0.801) f1: (test=0.247) precision: (test=0.376) recall: (test=0.184) total time=   0.1s\n",
      "[CV 1/2] END max_depth=None, max_features=9, max_samples=2250, min_samples_leaf=3, min_samples_split=2, n_estimators=6; accuracy: (test=0.814) f1: (test=0.245) precision: (test=0.437) recall: (test=0.171) total time=   0.2s\n",
      "[CV 2/2] END max_depth=None, max_features=9, max_samples=2250, min_samples_leaf=3, min_samples_split=2, n_estimators=6; accuracy: (test=0.806) f1: (test=0.229) precision: (test=0.386) recall: (test=0.163) total time=   0.2s\n",
      "[CV 1/2] END max_depth=None, max_features=9, max_samples=2250, min_samples_leaf=3, min_samples_split=3, n_estimators=5; accuracy: (test=0.812) f1: (test=0.259) precision: (test=0.432) recall: (test=0.185) total time=   0.1s\n",
      "[CV 2/2] END max_depth=None, max_features=9, max_samples=2250, min_samples_leaf=3, min_samples_split=3, n_estimators=5; accuracy: (test=0.803) f1: (test=0.249) precision: (test=0.383) recall: (test=0.184) total time=   0.1s\n",
      "[CV 1/2] END max_depth=None, max_features=9, max_samples=2500, min_samples_leaf=1, min_samples_split=1, n_estimators=4; accuracy: (test=nan) f1: (test=nan) precision: (test=nan) recall: (test=nan) total time=   0.0s\n",
      "[CV 2/2] END max_depth=None, max_features=9, max_samples=2500, min_samples_leaf=1, min_samples_split=1, n_estimators=4; accuracy: (test=nan) f1: (test=nan) precision: (test=nan) recall: (test=nan) total time=   0.0s\n",
      "[CV 1/2] END max_depth=None, max_features=9, max_samples=2500, min_samples_leaf=1, min_samples_split=1, n_estimators=5; accuracy: (test=nan) f1: (test=nan) precision: (test=nan) recall: (test=nan) total time=   0.0s\n",
      "[CV 2/2] END max_depth=None, max_features=9, max_samples=2500, min_samples_leaf=1, min_samples_split=1, n_estimators=5; accuracy: (test=nan) f1: (test=nan) precision: (test=nan) recall: (test=nan) total time=   0.0s\n",
      "[CV 1/2] END max_depth=None, max_features=9, max_samples=2500, min_samples_leaf=1, min_samples_split=1, n_estimators=6; accuracy: (test=nan) f1: (test=nan) precision: (test=nan) recall: (test=nan) total time=   0.0s\n",
      "[CV 2/2] END max_depth=None, max_features=9, max_samples=2500, min_samples_leaf=1, min_samples_split=1, n_estimators=6; accuracy: (test=nan) f1: (test=nan) precision: (test=nan) recall: (test=nan) total time=   0.0s\n",
      "[CV 1/2] END max_depth=None, max_features=9, max_samples=2500, min_samples_leaf=1, min_samples_split=2, n_estimators=4; accuracy: (test=0.806) f1: (test=0.185) precision: (test=0.362) recall: (test=0.124) total time=   0.1s\n",
      "[CV 2/2] END max_depth=None, max_features=9, max_samples=2500, min_samples_leaf=1, min_samples_split=2, n_estimators=4; accuracy: (test=0.811) f1: (test=0.203) precision: (test=0.404) recall: (test=0.135) total time=   0.1s\n",
      "[CV 1/2] END max_depth=None, max_features=9, max_samples=2500, min_samples_leaf=1, min_samples_split=2, n_estimators=6; accuracy: (test=0.809) f1: (test=0.169) precision: (test=0.371) recall: (test=0.109) total time=   0.2s\n",
      "[CV 2/2] END max_depth=None, max_features=9, max_samples=2500, min_samples_leaf=1, min_samples_split=2, n_estimators=6; accuracy: (test=0.809) f1: (test=0.190) precision: (test=0.386) recall: (test=0.126) total time=   0.2s\n",
      "[CV 1/2] END max_depth=None, max_features=9, max_samples=2500, min_samples_leaf=1, min_samples_split=3, n_estimators=5; accuracy: (test=0.795) f1: (test=0.261) precision: (test=0.361) recall: (test=0.204) total time=   0.2s\n",
      "[CV 2/2] END max_depth=None, max_features=9, max_samples=2500, min_samples_leaf=1, min_samples_split=3, n_estimators=5; accuracy: (test=0.796) f1: (test=0.266) precision: (test=0.367) recall: (test=0.208) total time=   0.1s\n",
      "[CV 1/2] END max_depth=None, max_features=9, max_samples=2500, min_samples_leaf=2, min_samples_split=1, n_estimators=4; accuracy: (test=nan) f1: (test=nan) precision: (test=nan) recall: (test=nan) total time=   0.0s\n",
      "[CV 2/2] END max_depth=None, max_features=9, max_samples=2500, min_samples_leaf=2, min_samples_split=1, n_estimators=4; accuracy: (test=nan) f1: (test=nan) precision: (test=nan) recall: (test=nan) total time=   0.0s\n",
      "[CV 1/2] END max_depth=None, max_features=9, max_samples=2500, min_samples_leaf=2, min_samples_split=1, n_estimators=5; accuracy: (test=nan) f1: (test=nan) precision: (test=nan) recall: (test=nan) total time=   0.0s\n",
      "[CV 2/2] END max_depth=None, max_features=9, max_samples=2500, min_samples_leaf=2, min_samples_split=1, n_estimators=5; accuracy: (test=nan) f1: (test=nan) precision: (test=nan) recall: (test=nan) total time=   0.0s\n",
      "[CV 1/2] END max_depth=None, max_features=9, max_samples=2500, min_samples_leaf=2, min_samples_split=1, n_estimators=6; accuracy: (test=nan) f1: (test=nan) precision: (test=nan) recall: (test=nan) total time=   0.0s\n",
      "[CV 2/2] END max_depth=None, max_features=9, max_samples=2500, min_samples_leaf=2, min_samples_split=1, n_estimators=6; accuracy: (test=nan) f1: (test=nan) precision: (test=nan) recall: (test=nan) total time=   0.0s\n",
      "[CV 1/2] END max_depth=None, max_features=9, max_samples=2500, min_samples_leaf=2, min_samples_split=2, n_estimators=4; accuracy: (test=0.800) f1: (test=0.216) precision: (test=0.354) recall: (test=0.155) total time=   0.1s\n",
      "[CV 2/2] END max_depth=None, max_features=9, max_samples=2500, min_samples_leaf=2, min_samples_split=2, n_estimators=4; accuracy: (test=0.811) f1: (test=0.254) precision: (test=0.422) recall: (test=0.181) total time=   0.1s\n",
      "[CV 1/2] END max_depth=None, max_features=9, max_samples=2500, min_samples_leaf=2, min_samples_split=2, n_estimators=6; accuracy: (test=0.805) f1: (test=0.230) precision: (test=0.384) recall: (test=0.164) total time=   0.2s\n",
      "[CV 2/2] END max_depth=None, max_features=9, max_samples=2500, min_samples_leaf=2, min_samples_split=2, n_estimators=6; accuracy: (test=0.812) f1: (test=0.222) precision: (test=0.417) recall: (test=0.151) total time=   0.2s\n",
      "[CV 1/2] END max_depth=None, max_features=9, max_samples=2500, min_samples_leaf=2, min_samples_split=3, n_estimators=5; accuracy: (test=0.800) f1: (test=0.246) precision: (test=0.372) recall: (test=0.183) total time=   0.2s\n",
      "[CV 2/2] END max_depth=None, max_features=9, max_samples=2500, min_samples_leaf=2, min_samples_split=3, n_estimators=5; accuracy: (test=0.807) f1: (test=0.244) precision: (test=0.401) recall: (test=0.176) total time=   0.1s\n",
      "[CV 1/2] END max_depth=None, max_features=9, max_samples=2500, min_samples_leaf=3, min_samples_split=1, n_estimators=4; accuracy: (test=nan) f1: (test=nan) precision: (test=nan) recall: (test=nan) total time=   0.0s\n",
      "[CV 2/2] END max_depth=None, max_features=9, max_samples=2500, min_samples_leaf=3, min_samples_split=1, n_estimators=4; accuracy: (test=nan) f1: (test=nan) precision: (test=nan) recall: (test=nan) total time=   0.0s\n",
      "[CV 1/2] END max_depth=None, max_features=9, max_samples=2250, min_samples_leaf=1, min_samples_split=1, n_estimators=5; accuracy: (test=nan) f1: (test=nan) precision: (test=nan) recall: (test=nan) total time=   0.0s\n",
      "[CV 2/2] END max_depth=None, max_features=9, max_samples=2250, min_samples_leaf=1, min_samples_split=1, n_estimators=5; accuracy: (test=nan) f1: (test=nan) precision: (test=nan) recall: (test=nan) total time=   0.0s\n",
      "[CV 1/2] END max_depth=None, max_features=9, max_samples=2250, min_samples_leaf=1, min_samples_split=1, n_estimators=6; accuracy: (test=nan) f1: (test=nan) precision: (test=nan) recall: (test=nan) total time=   0.0s\n",
      "[CV 2/2] END max_depth=None, max_features=9, max_samples=2250, min_samples_leaf=1, min_samples_split=1, n_estimators=6; accuracy: (test=nan) f1: (test=nan) precision: (test=nan) recall: (test=nan) total time=   0.0s\n",
      "[CV 1/2] END max_depth=None, max_features=9, max_samples=2250, min_samples_leaf=1, min_samples_split=2, n_estimators=4; accuracy: (test=0.802) f1: (test=0.191) precision: (test=0.348) recall: (test=0.131) total time=   0.1s\n",
      "[CV 2/2] END max_depth=None, max_features=9, max_samples=2250, min_samples_leaf=1, min_samples_split=2, n_estimators=4; accuracy: (test=0.810) f1: (test=0.202) precision: (test=0.395) recall: (test=0.136) total time=   0.1s\n",
      "[CV 1/2] END max_depth=None, max_features=9, max_samples=2250, min_samples_leaf=1, min_samples_split=2, n_estimators=6; accuracy: (test=0.808) f1: (test=0.206) precision: (test=0.387) recall: (test=0.140) total time=   0.2s\n",
      "[CV 2/2] END max_depth=None, max_features=9, max_samples=2250, min_samples_leaf=1, min_samples_split=2, n_estimators=6; accuracy: (test=0.811) f1: (test=0.206) precision: (test=0.405) recall: (test=0.138) total time=   0.2s\n",
      "[CV 1/2] END max_depth=None, max_features=9, max_samples=2250, min_samples_leaf=1, min_samples_split=3, n_estimators=6; accuracy: (test=0.805) f1: (test=0.202) precision: (test=0.366) recall: (test=0.139) total time=   0.2s\n",
      "[CV 2/2] END max_depth=None, max_features=9, max_samples=2250, min_samples_leaf=1, min_samples_split=3, n_estimators=6; accuracy: (test=0.805) f1: (test=0.207) precision: (test=0.370) recall: (test=0.144) total time=   0.2s\n",
      "[CV 1/2] END max_depth=None, max_features=9, max_samples=2250, min_samples_leaf=2, min_samples_split=2, n_estimators=5; accuracy: (test=0.801) f1: (test=0.237) precision: (test=0.370) recall: (test=0.175) total time=   0.1s\n",
      "[CV 2/2] END max_depth=None, max_features=9, max_samples=2250, min_samples_leaf=2, min_samples_split=2, n_estimators=5; accuracy: (test=0.801) f1: (test=0.237) precision: (test=0.371) recall: (test=0.174) total time=   0.1s\n",
      "[CV 1/2] END max_depth=None, max_features=9, max_samples=2250, min_samples_leaf=2, min_samples_split=3, n_estimators=4; accuracy: (test=0.804) f1: (test=0.217) precision: (test=0.373) recall: (test=0.153) total time=   0.1s\n",
      "[CV 2/2] END max_depth=None, max_features=9, max_samples=2250, min_samples_leaf=2, min_samples_split=3, n_estimators=4; accuracy: (test=0.804) f1: (test=0.222) precision: (test=0.374) recall: (test=0.158) total time=   0.1s\n",
      "[CV 1/2] END max_depth=None, max_features=9, max_samples=2250, min_samples_leaf=2, min_samples_split=3, n_estimators=6; accuracy: (test=0.806) f1: (test=0.219) precision: (test=0.384) recall: (test=0.153) total time=   0.2s\n",
      "[CV 2/2] END max_depth=None, max_features=9, max_samples=2250, min_samples_leaf=2, min_samples_split=3, n_estimators=6; accuracy: (test=0.807) f1: (test=0.229) precision: (test=0.393) recall: (test=0.162) total time=   0.2s\n",
      "[CV 1/2] END max_depth=None, max_features=9, max_samples=2250, min_samples_leaf=3, min_samples_split=2, n_estimators=5; accuracy: (test=0.812) f1: (test=0.259) precision: (test=0.432) recall: (test=0.185) total time=   0.1s\n",
      "[CV 2/2] END max_depth=None, max_features=9, max_samples=2250, min_samples_leaf=3, min_samples_split=2, n_estimators=5; accuracy: (test=0.803) f1: (test=0.249) precision: (test=0.383) recall: (test=0.184) total time=   0.1s\n",
      "[CV 1/2] END max_depth=None, max_features=9, max_samples=2250, min_samples_leaf=3, min_samples_split=3, n_estimators=4; accuracy: (test=0.803) f1: (test=0.243) precision: (test=0.383) recall: (test=0.179) total time=   0.1s\n",
      "[CV 2/2] END max_depth=None, max_features=9, max_samples=2250, min_samples_leaf=3, min_samples_split=3, n_estimators=4; accuracy: (test=0.801) f1: (test=0.247) precision: (test=0.376) recall: (test=0.184) total time=   0.1s\n",
      "[CV 1/2] END max_depth=None, max_features=9, max_samples=2250, min_samples_leaf=3, min_samples_split=3, n_estimators=6; accuracy: (test=0.814) f1: (test=0.245) precision: (test=0.437) recall: (test=0.171) total time=   0.2s\n",
      "[CV 2/2] END max_depth=None, max_features=9, max_samples=2250, min_samples_leaf=3, min_samples_split=3, n_estimators=6; accuracy: (test=0.806) f1: (test=0.229) precision: (test=0.386) recall: (test=0.163) total time=   0.2s\n",
      "[CV 1/2] END max_depth=None, max_features=9, max_samples=2500, min_samples_leaf=1, min_samples_split=2, n_estimators=5; accuracy: (test=0.790) f1: (test=0.262) precision: (test=0.349) recall: (test=0.210) total time=   0.2s\n",
      "[CV 2/2] END max_depth=None, max_features=9, max_samples=2500, min_samples_leaf=1, min_samples_split=2, n_estimators=5; accuracy: (test=0.801) f1: (test=0.289) precision: (test=0.394) recall: (test=0.228) total time=   0.1s\n",
      "[CV 1/2] END max_depth=None, max_features=9, max_samples=2500, min_samples_leaf=1, min_samples_split=3, n_estimators=4; accuracy: (test=0.807) f1: (test=0.206) precision: (test=0.381) recall: (test=0.141) total time=   0.1s\n",
      "[CV 2/2] END max_depth=None, max_features=9, max_samples=2500, min_samples_leaf=1, min_samples_split=3, n_estimators=4; accuracy: (test=0.804) f1: (test=0.196) precision: (test=0.360) recall: (test=0.135) total time=   0.1s\n",
      "[CV 1/2] END max_depth=None, max_features=9, max_samples=2500, min_samples_leaf=1, min_samples_split=3, n_estimators=6; accuracy: (test=0.809) f1: (test=0.206) precision: (test=0.392) recall: (test=0.140) total time=   0.2s\n",
      "[CV 2/2] END max_depth=None, max_features=9, max_samples=2500, min_samples_leaf=1, min_samples_split=3, n_estimators=6; accuracy: (test=0.810) f1: (test=0.204) precision: (test=0.395) recall: (test=0.137) total time=   0.2s\n",
      "[CV 1/2] END max_depth=None, max_features=9, max_samples=2500, min_samples_leaf=2, min_samples_split=2, n_estimators=5; accuracy: (test=0.800) f1: (test=0.246) precision: (test=0.372) recall: (test=0.183) total time=   0.2s\n",
      "[CV 2/2] END max_depth=None, max_features=9, max_samples=2500, min_samples_leaf=2, min_samples_split=2, n_estimators=5; accuracy: (test=0.807) f1: (test=0.244) precision: (test=0.401) recall: (test=0.176) total time=   0.1s\n",
      "[CV 1/2] END max_depth=None, max_features=9, max_samples=2500, min_samples_leaf=2, min_samples_split=3, n_estimators=4; accuracy: (test=0.800) f1: (test=0.216) precision: (test=0.354) recall: (test=0.155) total time=   0.1s\n",
      "[CV 2/2] END max_depth=None, max_features=9, max_samples=2500, min_samples_leaf=2, min_samples_split=3, n_estimators=4; accuracy: (test=0.811) f1: (test=0.254) precision: (test=0.422) recall: (test=0.181) total time=   0.1s\n",
      "[CV 1/2] END max_depth=None, max_features=9, max_samples=2500, min_samples_leaf=2, min_samples_split=3, n_estimators=6; accuracy: (test=0.805) f1: (test=0.230) precision: (test=0.384) recall: (test=0.164) total time=   0.2s\n",
      "[CV 2/2] END max_depth=None, max_features=9, max_samples=2500, min_samples_leaf=2, min_samples_split=3, n_estimators=6; accuracy: (test=0.812) f1: (test=0.222) precision: (test=0.417) recall: (test=0.151) total time=   0.2s\n",
      "[CV 1/2] END max_depth=None, max_features=9, max_samples=2500, min_samples_leaf=3, min_samples_split=2, n_estimators=5; accuracy: (test=0.798) f1: (test=0.219) precision: (test=0.347) recall: (test=0.160) total time=   0.1s\n",
      "[CV 2/2] END max_depth=None, max_features=9, max_samples=2500, min_samples_leaf=3, min_samples_split=2, n_estimators=5; accuracy: (test=0.801) f1: (test=0.232) precision: (test=0.366) recall: (test=0.170) total time=   0.1s\n"
     ]
    },
    {
     "name": "stdout",
     "output_type": "stream",
     "text": [
      "[CV 1/2] END max_depth=None, max_features=9, max_samples=2500, min_samples_leaf=3, min_samples_split=1, n_estimators=5; accuracy: (test=nan) f1: (test=nan) precision: (test=nan) recall: (test=nan) total time=   0.0s\n",
      "[CV 2/2] END max_depth=None, max_features=9, max_samples=2500, min_samples_leaf=3, min_samples_split=1, n_estimators=5; accuracy: (test=nan) f1: (test=nan) precision: (test=nan) recall: (test=nan) total time=   0.0s\n",
      "[CV 1/2] END max_depth=None, max_features=9, max_samples=2500, min_samples_leaf=3, min_samples_split=1, n_estimators=6; accuracy: (test=nan) f1: (test=nan) precision: (test=nan) recall: (test=nan) total time=   0.0s\n",
      "[CV 2/2] END max_depth=None, max_features=9, max_samples=2500, min_samples_leaf=3, min_samples_split=1, n_estimators=6; accuracy: (test=nan) f1: (test=nan) precision: (test=nan) recall: (test=nan) total time=   0.0s\n",
      "[CV 1/2] END max_depth=None, max_features=9, max_samples=2500, min_samples_leaf=3, min_samples_split=2, n_estimators=4; accuracy: (test=0.797) f1: (test=0.212) precision: (test=0.341) recall: (test=0.154) total time=   0.1s\n",
      "[CV 2/2] END max_depth=None, max_features=9, max_samples=2500, min_samples_leaf=3, min_samples_split=2, n_estimators=4; accuracy: (test=0.803) f1: (test=0.239) precision: (test=0.379) recall: (test=0.175) total time=   0.1s\n",
      "[CV 1/2] END max_depth=None, max_features=9, max_samples=2500, min_samples_leaf=3, min_samples_split=2, n_estimators=6; accuracy: (test=0.802) f1: (test=0.208) precision: (test=0.359) recall: (test=0.146) total time=   0.2s\n",
      "[CV 2/2] END max_depth=None, max_features=9, max_samples=2500, min_samples_leaf=3, min_samples_split=2, n_estimators=6; accuracy: (test=0.807) f1: (test=0.231) precision: (test=0.394) recall: (test=0.164) total time=   0.2s\n",
      "[CV 1/2] END max_depth=None, max_features=9, max_samples=2500, min_samples_leaf=3, min_samples_split=3, n_estimators=5; accuracy: (test=0.798) f1: (test=0.219) precision: (test=0.347) recall: (test=0.160) total time=   0.2s\n",
      "[CV 2/2] END max_depth=None, max_features=9, max_samples=2500, min_samples_leaf=3, min_samples_split=3, n_estimators=5; accuracy: (test=0.801) f1: (test=0.232) precision: (test=0.366) recall: (test=0.170) total time=   0.1s\n",
      "[CV 1/2] END max_depth=None, max_features=9, max_samples=2750, min_samples_leaf=1, min_samples_split=1, n_estimators=4; accuracy: (test=nan) f1: (test=nan) precision: (test=nan) recall: (test=nan) total time=   0.0s\n",
      "[CV 2/2] END max_depth=None, max_features=9, max_samples=2750, min_samples_leaf=1, min_samples_split=1, n_estimators=4; accuracy: (test=nan) f1: (test=nan) precision: (test=nan) recall: (test=nan) total time=   0.0s\n",
      "[CV 1/2] END max_depth=None, max_features=9, max_samples=2750, min_samples_leaf=1, min_samples_split=1, n_estimators=5; accuracy: (test=nan) f1: (test=nan) precision: (test=nan) recall: (test=nan) total time=   0.0s\n",
      "[CV 2/2] END max_depth=None, max_features=9, max_samples=2750, min_samples_leaf=1, min_samples_split=1, n_estimators=5; accuracy: (test=nan) f1: (test=nan) precision: (test=nan) recall: (test=nan) total time=   0.0s\n",
      "[CV 1/2] END max_depth=None, max_features=9, max_samples=2750, min_samples_leaf=1, min_samples_split=1, n_estimators=6; accuracy: (test=nan) f1: (test=nan) precision: (test=nan) recall: (test=nan) total time=   0.0s\n",
      "[CV 2/2] END max_depth=None, max_features=9, max_samples=2750, min_samples_leaf=1, min_samples_split=1, n_estimators=6; accuracy: (test=nan) f1: (test=nan) precision: (test=nan) recall: (test=nan) total time=   0.0s\n",
      "[CV 1/2] END max_depth=None, max_features=9, max_samples=2750, min_samples_leaf=1, min_samples_split=2, n_estimators=4; accuracy: (test=0.810) f1: (test=0.171) precision: (test=0.376) recall: (test=0.110) total time=   0.2s\n",
      "[CV 2/2] END max_depth=None, max_features=9, max_samples=2750, min_samples_leaf=1, min_samples_split=2, n_estimators=4; accuracy: (test=0.807) f1: (test=0.202) precision: (test=0.378) recall: (test=0.138) total time=   0.1s\n",
      "[CV 1/2] END max_depth=None, max_features=9, max_samples=2750, min_samples_leaf=1, min_samples_split=2, n_estimators=6; accuracy: (test=0.810) f1: (test=0.174) precision: (test=0.381) recall: (test=0.112) total time=   0.2s\n",
      "[CV 2/2] END max_depth=None, max_features=9, max_samples=2750, min_samples_leaf=1, min_samples_split=2, n_estimators=6; accuracy: (test=0.807) f1: (test=0.181) precision: (test=0.364) recall: (test=0.120) total time=   0.2s\n",
      "[CV 1/2] END max_depth=None, max_features=9, max_samples=2750, min_samples_leaf=1, min_samples_split=3, n_estimators=6; accuracy: (test=0.806) f1: (test=0.214) precision: (test=0.378) recall: (test=0.149) total time=   0.2s\n",
      "[CV 2/2] END max_depth=None, max_features=9, max_samples=2750, min_samples_leaf=1, min_samples_split=3, n_estimators=6; accuracy: (test=0.805) f1: (test=0.214) precision: (test=0.374) recall: (test=0.150) total time=   0.2s\n",
      "[CV 1/2] END max_depth=None, max_features=9, max_samples=2750, min_samples_leaf=2, min_samples_split=2, n_estimators=5; accuracy: (test=0.793) f1: (test=0.240) precision: (test=0.343) recall: (test=0.184) total time=   0.2s\n",
      "[CV 2/2] END max_depth=None, max_features=9, max_samples=2750, min_samples_leaf=2, min_samples_split=2, n_estimators=5; accuracy: (test=0.795) f1: (test=0.238) precision: (test=0.350) recall: (test=0.180) total time=   0.1s\n",
      "[CV 1/2] END max_depth=None, max_features=9, max_samples=2750, min_samples_leaf=2, min_samples_split=3, n_estimators=4; accuracy: (test=0.796) f1: (test=0.228) precision: (test=0.347) recall: (test=0.170) total time=   0.1s\n",
      "[CV 2/2] END max_depth=None, max_features=9, max_samples=2750, min_samples_leaf=2, min_samples_split=3, n_estimators=4; accuracy: (test=0.802) f1: (test=0.215) precision: (test=0.360) recall: (test=0.153) total time=   0.1s\n",
      "[CV 1/2] END max_depth=None, max_features=9, max_samples=2750, min_samples_leaf=2, min_samples_split=3, n_estimators=5; accuracy: (test=0.793) f1: (test=0.240) precision: (test=0.343) recall: (test=0.184) total time=   0.2s\n",
      "[CV 2/2] END max_depth=None, max_features=9, max_samples=2750, min_samples_leaf=2, min_samples_split=3, n_estimators=5; accuracy: (test=0.795) f1: (test=0.238) precision: (test=0.350) recall: (test=0.180) total time=   0.1s\n",
      "[CV 1/2] END max_depth=None, max_features=9, max_samples=2750, min_samples_leaf=3, min_samples_split=1, n_estimators=4; accuracy: (test=nan) f1: (test=nan) precision: (test=nan) recall: (test=nan) total time=   0.0s\n",
      "[CV 2/2] END max_depth=None, max_features=9, max_samples=2750, min_samples_leaf=3, min_samples_split=1, n_estimators=4; accuracy: (test=nan) f1: (test=nan) precision: (test=nan) recall: (test=nan) total time=   0.0s\n",
      "[CV 1/2] END max_depth=None, max_features=9, max_samples=2750, min_samples_leaf=3, min_samples_split=1, n_estimators=5; accuracy: (test=nan) f1: (test=nan) precision: (test=nan) recall: (test=nan) total time=   0.0s\n",
      "[CV 2/2] END max_depth=None, max_features=9, max_samples=2750, min_samples_leaf=3, min_samples_split=1, n_estimators=5; accuracy: (test=nan) f1: (test=nan) precision: (test=nan) recall: (test=nan) total time=   0.0s\n",
      "[CV 1/2] END max_depth=None, max_features=9, max_samples=2750, min_samples_leaf=3, min_samples_split=1, n_estimators=6; accuracy: (test=nan) f1: (test=nan) precision: (test=nan) recall: (test=nan) total time=   0.0s\n",
      "[CV 2/2] END max_depth=None, max_features=9, max_samples=2750, min_samples_leaf=3, min_samples_split=1, n_estimators=6; accuracy: (test=nan) f1: (test=nan) precision: (test=nan) recall: (test=nan) total time=   0.0s\n",
      "[CV 1/2] END max_depth=None, max_features=9, max_samples=2750, min_samples_leaf=3, min_samples_split=2, n_estimators=4; accuracy: (test=0.806) f1: (test=0.262) precision: (test=0.404) recall: (test=0.193) total time=   0.1s\n",
      "[CV 2/2] END max_depth=None, max_features=9, max_samples=2750, min_samples_leaf=3, min_samples_split=2, n_estimators=4; accuracy: (test=0.798) f1: (test=0.239) precision: (test=0.361) recall: (test=0.179) total time=   0.1s\n",
      "[CV 1/2] END max_depth=None, max_features=9, max_samples=2750, min_samples_leaf=3, min_samples_split=2, n_estimators=6; accuracy: (test=0.809) f1: (test=0.251) precision: (test=0.411) recall: (test=0.180) total time=   0.2s\n",
      "[CV 1/2] END max_depth=None, max_features=9, max_samples=2500, min_samples_leaf=3, min_samples_split=3, n_estimators=4; accuracy: (test=0.797) f1: (test=0.212) precision: (test=0.341) recall: (test=0.154) total time=   0.1s\n",
      "[CV 2/2] END max_depth=None, max_features=9, max_samples=2500, min_samples_leaf=3, min_samples_split=3, n_estimators=4; accuracy: (test=0.803) f1: (test=0.239) precision: (test=0.379) recall: (test=0.175) total time=   0.1s\n",
      "[CV 1/2] END max_depth=None, max_features=9, max_samples=2500, min_samples_leaf=3, min_samples_split=3, n_estimators=6; accuracy: (test=0.802) f1: (test=0.208) precision: (test=0.359) recall: (test=0.146) total time=   0.2s\n",
      "[CV 2/2] END max_depth=None, max_features=9, max_samples=2500, min_samples_leaf=3, min_samples_split=3, n_estimators=6; accuracy: (test=0.807) f1: (test=0.231) precision: (test=0.394) recall: (test=0.164) total time=   0.2s\n",
      "[CV 1/2] END max_depth=None, max_features=9, max_samples=2750, min_samples_leaf=1, min_samples_split=2, n_estimators=5; accuracy: (test=0.791) f1: (test=0.248) precision: (test=0.341) recall: (test=0.194) total time=   0.2s\n",
      "[CV 2/2] END max_depth=None, max_features=9, max_samples=2750, min_samples_leaf=1, min_samples_split=2, n_estimators=5; accuracy: (test=0.790) f1: (test=0.260) precision: (test=0.348) recall: (test=0.208) total time=   0.2s\n",
      "[CV 1/2] END max_depth=None, max_features=9, max_samples=2750, min_samples_leaf=1, min_samples_split=3, n_estimators=4; accuracy: (test=0.804) f1: (test=0.192) precision: (test=0.358) recall: (test=0.131) total time=   0.1s\n",
      "[CV 2/2] END max_depth=None, max_features=9, max_samples=2750, min_samples_leaf=1, min_samples_split=3, n_estimators=4; accuracy: (test=0.804) f1: (test=0.234) precision: (test=0.383) recall: (test=0.169) total time=   0.1s\n",
      "[CV 1/2] END max_depth=None, max_features=9, max_samples=2750, min_samples_leaf=1, min_samples_split=3, n_estimators=5; accuracy: (test=0.795) f1: (test=0.269) precision: (test=0.367) recall: (test=0.212) total time=   0.2s\n",
      "[CV 2/2] END max_depth=None, max_features=9, max_samples=2750, min_samples_leaf=1, min_samples_split=3, n_estimators=5; accuracy: (test=0.792) f1: (test=0.276) precision: (test=0.361) recall: (test=0.223) total time=   0.2s\n",
      "[CV 1/2] END max_depth=None, max_features=9, max_samples=2750, min_samples_leaf=2, min_samples_split=1, n_estimators=4; accuracy: (test=nan) f1: (test=nan) precision: (test=nan) recall: (test=nan) total time=   0.0s\n",
      "[CV 2/2] END max_depth=None, max_features=9, max_samples=2750, min_samples_leaf=2, min_samples_split=1, n_estimators=4; accuracy: (test=nan) f1: (test=nan) precision: (test=nan) recall: (test=nan) total time=   0.0s\n",
      "[CV 1/2] END max_depth=None, max_features=9, max_samples=2750, min_samples_leaf=2, min_samples_split=1, n_estimators=5; accuracy: (test=nan) f1: (test=nan) precision: (test=nan) recall: (test=nan) total time=   0.0s\n",
      "[CV 2/2] END max_depth=None, max_features=9, max_samples=2750, min_samples_leaf=2, min_samples_split=1, n_estimators=5; accuracy: (test=nan) f1: (test=nan) precision: (test=nan) recall: (test=nan) total time=   0.0s\n",
      "[CV 1/2] END max_depth=None, max_features=9, max_samples=2750, min_samples_leaf=2, min_samples_split=1, n_estimators=6; accuracy: (test=nan) f1: (test=nan) precision: (test=nan) recall: (test=nan) total time=   0.0s\n",
      "[CV 2/2] END max_depth=None, max_features=9, max_samples=2750, min_samples_leaf=2, min_samples_split=1, n_estimators=6; accuracy: (test=nan) f1: (test=nan) precision: (test=nan) recall: (test=nan) total time=   0.0s\n",
      "[CV 1/2] END max_depth=None, max_features=9, max_samples=2750, min_samples_leaf=2, min_samples_split=2, n_estimators=4; accuracy: (test=0.796) f1: (test=0.228) precision: (test=0.347) recall: (test=0.170) total time=   0.1s\n",
      "[CV 2/2] END max_depth=None, max_features=9, max_samples=2750, min_samples_leaf=2, min_samples_split=2, n_estimators=4; accuracy: (test=0.802) f1: (test=0.215) precision: (test=0.360) recall: (test=0.153) total time=   0.1s\n",
      "[CV 1/2] END max_depth=None, max_features=9, max_samples=2750, min_samples_leaf=2, min_samples_split=2, n_estimators=6; accuracy: (test=0.798) f1: (test=0.219) precision: (test=0.350) recall: (test=0.160) total time=   0.2s\n",
      "[CV 2/2] END max_depth=None, max_features=9, max_samples=2750, min_samples_leaf=2, min_samples_split=2, n_estimators=6; accuracy: (test=0.804) f1: (test=0.238) precision: (test=0.381) recall: (test=0.173) total time=   0.2s\n",
      "[CV 1/2] END max_depth=None, max_features=9, max_samples=2750, min_samples_leaf=2, min_samples_split=3, n_estimators=6; accuracy: (test=0.798) f1: (test=0.219) precision: (test=0.350) recall: (test=0.160) total time=   0.2s\n",
      "[CV 2/2] END max_depth=None, max_features=9, max_samples=2750, min_samples_leaf=2, min_samples_split=3, n_estimators=6; accuracy: (test=0.804) f1: (test=0.238) precision: (test=0.381) recall: (test=0.173) total time=   0.2s\n",
      "[CV 1/2] END max_depth=None, max_features=9, max_samples=2750, min_samples_leaf=3, min_samples_split=2, n_estimators=5; accuracy: (test=0.805) f1: (test=0.273) precision: (test=0.401) recall: (test=0.207) total time=   0.2s\n",
      "[CV 2/2] END max_depth=None, max_features=9, max_samples=2750, min_samples_leaf=3, min_samples_split=2, n_estimators=5; accuracy: (test=0.800) f1: (test=0.241) precision: (test=0.368) recall: (test=0.179) total time=   0.1s\n",
      "[CV 1/2] END max_depth=None, max_features=9, max_samples=2750, min_samples_leaf=3, min_samples_split=3, n_estimators=4; accuracy: (test=0.806) f1: (test=0.262) precision: (test=0.404) recall: (test=0.193) total time=   0.1s\n",
      "[CV 2/2] END max_depth=None, max_features=9, max_samples=2750, min_samples_leaf=3, min_samples_split=3, n_estimators=4; accuracy: (test=0.798) f1: (test=0.239) precision: (test=0.361) recall: (test=0.179) total time=   0.1s\n",
      "[CV 1/2] END max_depth=None, max_features=9, max_samples=2750, min_samples_leaf=3, min_samples_split=3, n_estimators=5; accuracy: (test=0.805) f1: (test=0.273) precision: (test=0.401) recall: (test=0.207) total time=   0.2s\n",
      "[CV 2/2] END max_depth=None, max_features=9, max_samples=2750, min_samples_leaf=3, min_samples_split=3, n_estimators=5; accuracy: (test=0.800) f1: (test=0.241) precision: (test=0.368) recall: (test=0.179) total time=   0.1s\n",
      "[CV 1/2] END max_depth=None, max_features=10, max_samples=2250, min_samples_leaf=1, min_samples_split=1, n_estimators=4; accuracy: (test=nan) f1: (test=nan) precision: (test=nan) recall: (test=nan) total time=   0.0s\n",
      "[CV 2/2] END max_depth=None, max_features=10, max_samples=2250, min_samples_leaf=1, min_samples_split=1, n_estimators=4; accuracy: (test=nan) f1: (test=nan) precision: (test=nan) recall: (test=nan) total time=   0.0s\n",
      "[CV 1/2] END max_depth=None, max_features=10, max_samples=2250, min_samples_leaf=1, min_samples_split=1, n_estimators=5; accuracy: (test=nan) f1: (test=nan) precision: (test=nan) recall: (test=nan) total time=   0.0s\n",
      "[CV 2/2] END max_depth=None, max_features=10, max_samples=2250, min_samples_leaf=1, min_samples_split=1, n_estimators=5; accuracy: (test=nan) f1: (test=nan) precision: (test=nan) recall: (test=nan) total time=   0.0s\n",
      "[CV 1/2] END max_depth=None, max_features=10, max_samples=2250, min_samples_leaf=1, min_samples_split=1, n_estimators=6; accuracy: (test=nan) f1: (test=nan) precision: (test=nan) recall: (test=nan) total time=   0.0s\n",
      "[CV 2/2] END max_depth=None, max_features=10, max_samples=2250, min_samples_leaf=1, min_samples_split=1, n_estimators=6; accuracy: (test=nan) f1: (test=nan) precision: (test=nan) recall: (test=nan) total time=   0.0s\n",
      "[CV 1/2] END max_depth=None, max_features=10, max_samples=2250, min_samples_leaf=1, min_samples_split=2, n_estimators=4; accuracy: (test=0.807) f1: (test=0.194) precision: (test=0.375) recall: (test=0.131) total time=   0.1s\n",
      "[CV 2/2] END max_depth=None, max_features=10, max_samples=2250, min_samples_leaf=1, min_samples_split=2, n_estimators=4; accuracy: (test=0.807) f1: (test=0.192) precision: (test=0.372) recall: (test=0.129) total time=   0.1s\n"
     ]
    },
    {
     "name": "stdout",
     "output_type": "stream",
     "text": [
      "[CV 2/2] END max_depth=None, max_features=9, max_samples=2750, min_samples_leaf=3, min_samples_split=2, n_estimators=6; accuracy: (test=0.802) f1: (test=0.218) precision: (test=0.362) recall: (test=0.156) total time=   0.2s\n",
      "[CV 1/2] END max_depth=None, max_features=9, max_samples=2750, min_samples_leaf=3, min_samples_split=3, n_estimators=6; accuracy: (test=0.809) f1: (test=0.251) precision: (test=0.411) recall: (test=0.180) total time=   0.2s\n",
      "[CV 2/2] END max_depth=None, max_features=9, max_samples=2750, min_samples_leaf=3, min_samples_split=3, n_estimators=6; accuracy: (test=0.802) f1: (test=0.218) precision: (test=0.362) recall: (test=0.156) total time=   0.2s\n",
      "[CV 1/2] END max_depth=None, max_features=10, max_samples=2250, min_samples_leaf=1, min_samples_split=2, n_estimators=5; accuracy: (test=0.796) f1: (test=0.288) precision: (test=0.377) recall: (test=0.233) total time=   0.2s\n",
      "[CV 2/2] END max_depth=None, max_features=10, max_samples=2250, min_samples_leaf=1, min_samples_split=2, n_estimators=5; accuracy: (test=0.792) f1: (test=0.259) precision: (test=0.351) recall: (test=0.205) total time=   0.1s\n",
      "[CV 1/2] END max_depth=None, max_features=10, max_samples=2250, min_samples_leaf=1, min_samples_split=3, n_estimators=4; accuracy: (test=0.804) f1: (test=0.208) precision: (test=0.368) recall: (test=0.145) total time=   0.1s\n",
      "[CV 2/2] END max_depth=None, max_features=10, max_samples=2250, min_samples_leaf=1, min_samples_split=3, n_estimators=4; accuracy: (test=0.803) f1: (test=0.184) precision: (test=0.346) recall: (test=0.125) total time=   0.1s\n",
      "[CV 1/2] END max_depth=None, max_features=10, max_samples=2250, min_samples_leaf=1, min_samples_split=3, n_estimators=5; accuracy: (test=0.796) f1: (test=0.272) precision: (test=0.369) recall: (test=0.215) total time=   0.2s\n",
      "[CV 2/2] END max_depth=None, max_features=10, max_samples=2250, min_samples_leaf=1, min_samples_split=3, n_estimators=5; accuracy: (test=0.790) f1: (test=0.244) precision: (test=0.338) recall: (test=0.191) total time=   0.2s\n",
      "[CV 1/2] END max_depth=None, max_features=10, max_samples=2250, min_samples_leaf=2, min_samples_split=1, n_estimators=4; accuracy: (test=nan) f1: (test=nan) precision: (test=nan) recall: (test=nan) total time=   0.0s\n",
      "[CV 2/2] END max_depth=None, max_features=10, max_samples=2250, min_samples_leaf=2, min_samples_split=1, n_estimators=4; accuracy: (test=nan) f1: (test=nan) precision: (test=nan) recall: (test=nan) total time=   0.0s\n",
      "[CV 1/2] END max_depth=None, max_features=10, max_samples=2250, min_samples_leaf=2, min_samples_split=1, n_estimators=5; accuracy: (test=nan) f1: (test=nan) precision: (test=nan) recall: (test=nan) total time=   0.0s\n",
      "[CV 2/2] END max_depth=None, max_features=10, max_samples=2250, min_samples_leaf=2, min_samples_split=1, n_estimators=5; accuracy: (test=nan) f1: (test=nan) precision: (test=nan) recall: (test=nan) total time=   0.0s\n",
      "[CV 1/2] END max_depth=None, max_features=10, max_samples=2250, min_samples_leaf=2, min_samples_split=1, n_estimators=6; accuracy: (test=nan) f1: (test=nan) precision: (test=nan) recall: (test=nan) total time=   0.0s\n",
      "[CV 2/2] END max_depth=None, max_features=10, max_samples=2250, min_samples_leaf=2, min_samples_split=1, n_estimators=6; accuracy: (test=nan) f1: (test=nan) precision: (test=nan) recall: (test=nan) total time=   0.0s\n",
      "[CV 1/2] END max_depth=None, max_features=10, max_samples=2250, min_samples_leaf=2, min_samples_split=2, n_estimators=4; accuracy: (test=0.806) f1: (test=0.242) precision: (test=0.394) recall: (test=0.175) total time=   0.1s\n",
      "[CV 2/2] END max_depth=None, max_features=10, max_samples=2250, min_samples_leaf=2, min_samples_split=2, n_estimators=4; accuracy: (test=0.802) f1: (test=0.216) precision: (test=0.363) recall: (test=0.154) total time=   0.1s\n",
      "[CV 1/2] END max_depth=None, max_features=10, max_samples=2250, min_samples_leaf=2, min_samples_split=2, n_estimators=6; accuracy: (test=0.807) f1: (test=0.230) precision: (test=0.394) recall: (test=0.163) total time=   0.2s\n",
      "[CV 2/2] END max_depth=None, max_features=10, max_samples=2250, min_samples_leaf=2, min_samples_split=2, n_estimators=6; accuracy: (test=0.807) f1: (test=0.211) precision: (test=0.382) recall: (test=0.146) total time=   0.2s\n",
      "[CV 1/2] END max_depth=None, max_features=10, max_samples=2250, min_samples_leaf=2, min_samples_split=3, n_estimators=6; accuracy: (test=0.807) f1: (test=0.230) precision: (test=0.394) recall: (test=0.163) total time=   0.2s\n",
      "[CV 2/2] END max_depth=None, max_features=10, max_samples=2250, min_samples_leaf=2, min_samples_split=3, n_estimators=6; accuracy: (test=0.807) f1: (test=0.211) precision: (test=0.382) recall: (test=0.146) total time=   0.2s\n",
      "[CV 1/2] END max_depth=None, max_features=10, max_samples=2250, min_samples_leaf=3, min_samples_split=2, n_estimators=5; accuracy: (test=0.806) f1: (test=0.258) precision: (test=0.399) recall: (test=0.190) total time=   0.2s\n",
      "[CV 2/2] END max_depth=None, max_features=10, max_samples=2250, min_samples_leaf=3, min_samples_split=2, n_estimators=5; accuracy: (test=0.798) f1: (test=0.240) precision: (test=0.360) recall: (test=0.179) total time=   0.2s\n",
      "[CV 1/2] END max_depth=None, max_features=10, max_samples=2250, min_samples_leaf=3, min_samples_split=3, n_estimators=4; accuracy: (test=0.801) f1: (test=0.242) precision: (test=0.373) recall: (test=0.179) total time=   0.1s\n",
      "[CV 2/2] END max_depth=None, max_features=10, max_samples=2250, min_samples_leaf=3, min_samples_split=3, n_estimators=4; accuracy: (test=0.795) f1: (test=0.228) precision: (test=0.342) recall: (test=0.171) total time=   0.1s\n",
      "[CV 1/2] END max_depth=None, max_features=10, max_samples=2250, min_samples_leaf=3, min_samples_split=3, n_estimators=6; accuracy: (test=0.806) f1: (test=0.230) precision: (test=0.387) recall: (test=0.164) total time=   0.2s\n",
      "[CV 2/2] END max_depth=None, max_features=10, max_samples=2250, min_samples_leaf=3, min_samples_split=3, n_estimators=6; accuracy: (test=0.809) f1: (test=0.250) precision: (test=0.412) recall: (test=0.179) total time=   0.2s\n",
      "[CV 1/2] END max_depth=None, max_features=10, max_samples=2500, min_samples_leaf=1, min_samples_split=2, n_estimators=5; accuracy: (test=0.795) f1: (test=0.263) precision: (test=0.361) recall: (test=0.207) total time=   0.2s\n",
      "[CV 2/2] END max_depth=None, max_features=10, max_samples=2500, min_samples_leaf=1, min_samples_split=2, n_estimators=5; accuracy: (test=0.793) f1: (test=0.270) precision: (test=0.360) recall: (test=0.216) total time=   0.2s\n",
      "[CV 1/2] END max_depth=None, max_features=10, max_samples=2500, min_samples_leaf=1, min_samples_split=3, n_estimators=4; accuracy: (test=0.809) f1: (test=0.215) precision: (test=0.396) recall: (test=0.148) total time=   0.1s\n",
      "[CV 2/2] END max_depth=None, max_features=10, max_samples=2500, min_samples_leaf=1, min_samples_split=3, n_estimators=4; accuracy: (test=0.804) f1: (test=0.213) precision: (test=0.371) recall: (test=0.150) total time=   0.1s\n",
      "[CV 1/2] END max_depth=None, max_features=10, max_samples=2500, min_samples_leaf=1, min_samples_split=3, n_estimators=5; accuracy: (test=0.799) f1: (test=0.266) precision: (test=0.377) recall: (test=0.206) total time=   0.2s\n",
      "[CV 2/2] END max_depth=None, max_features=10, max_samples=2500, min_samples_leaf=1, min_samples_split=3, n_estimators=5; accuracy: (test=0.794) f1: (test=0.282) precision: (test=0.370) recall: (test=0.228) total time=   0.2s\n",
      "[CV 1/2] END max_depth=None, max_features=10, max_samples=2500, min_samples_leaf=2, min_samples_split=1, n_estimators=4; accuracy: (test=nan) f1: (test=nan) precision: (test=nan) recall: (test=nan) total time=   0.0s\n",
      "[CV 2/2] END max_depth=None, max_features=10, max_samples=2500, min_samples_leaf=2, min_samples_split=1, n_estimators=4; accuracy: (test=nan) f1: (test=nan) precision: (test=nan) recall: (test=nan) total time=   0.0s\n",
      "[CV 1/2] END max_depth=None, max_features=10, max_samples=2500, min_samples_leaf=2, min_samples_split=1, n_estimators=5; accuracy: (test=nan) f1: (test=nan) precision: (test=nan) recall: (test=nan) total time=   0.0s\n",
      "[CV 1/2] END max_depth=None, max_features=10, max_samples=2250, min_samples_leaf=1, min_samples_split=2, n_estimators=6; accuracy: (test=0.813) f1: (test=0.212) precision: (test=0.416) recall: (test=0.142) total time=   0.2s\n",
      "[CV 2/2] END max_depth=None, max_features=10, max_samples=2250, min_samples_leaf=1, min_samples_split=2, n_estimators=6; accuracy: (test=0.811) f1: (test=0.189) precision: (test=0.394) recall: (test=0.124) total time=   0.2s\n",
      "[CV 1/2] END max_depth=None, max_features=10, max_samples=2250, min_samples_leaf=1, min_samples_split=3, n_estimators=6; accuracy: (test=0.810) f1: (test=0.215) precision: (test=0.401) recall: (test=0.147) total time=   0.2s\n",
      "[CV 2/2] END max_depth=None, max_features=10, max_samples=2250, min_samples_leaf=1, min_samples_split=3, n_estimators=6; accuracy: (test=0.808) f1: (test=0.199) precision: (test=0.381) recall: (test=0.135) total time=   0.2s\n",
      "[CV 1/2] END max_depth=None, max_features=10, max_samples=2250, min_samples_leaf=2, min_samples_split=2, n_estimators=5; accuracy: (test=0.807) f1: (test=0.269) precision: (test=0.408) recall: (test=0.201) total time=   0.2s\n",
      "[CV 2/2] END max_depth=None, max_features=10, max_samples=2250, min_samples_leaf=2, min_samples_split=2, n_estimators=5; accuracy: (test=0.802) f1: (test=0.235) precision: (test=0.373) recall: (test=0.172) total time=   0.1s\n",
      "[CV 1/2] END max_depth=None, max_features=10, max_samples=2250, min_samples_leaf=2, min_samples_split=3, n_estimators=4; accuracy: (test=0.806) f1: (test=0.242) precision: (test=0.394) recall: (test=0.175) total time=   0.1s\n",
      "[CV 2/2] END max_depth=None, max_features=10, max_samples=2250, min_samples_leaf=2, min_samples_split=3, n_estimators=4; accuracy: (test=0.802) f1: (test=0.216) precision: (test=0.363) recall: (test=0.154) total time=   0.1s\n",
      "[CV 1/2] END max_depth=None, max_features=10, max_samples=2250, min_samples_leaf=2, min_samples_split=3, n_estimators=5; accuracy: (test=0.807) f1: (test=0.269) precision: (test=0.408) recall: (test=0.201) total time=   0.2s\n",
      "[CV 2/2] END max_depth=None, max_features=10, max_samples=2250, min_samples_leaf=2, min_samples_split=3, n_estimators=5; accuracy: (test=0.802) f1: (test=0.235) precision: (test=0.373) recall: (test=0.172) total time=   0.1s\n",
      "[CV 1/2] END max_depth=None, max_features=10, max_samples=2250, min_samples_leaf=3, min_samples_split=1, n_estimators=4; accuracy: (test=nan) f1: (test=nan) precision: (test=nan) recall: (test=nan) total time=   0.0s\n",
      "[CV 2/2] END max_depth=None, max_features=10, max_samples=2250, min_samples_leaf=3, min_samples_split=1, n_estimators=4; accuracy: (test=nan) f1: (test=nan) precision: (test=nan) recall: (test=nan) total time=   0.0s\n",
      "[CV 1/2] END max_depth=None, max_features=10, max_samples=2250, min_samples_leaf=3, min_samples_split=1, n_estimators=5; accuracy: (test=nan) f1: (test=nan) precision: (test=nan) recall: (test=nan) total time=   0.0s\n",
      "[CV 2/2] END max_depth=None, max_features=10, max_samples=2250, min_samples_leaf=3, min_samples_split=1, n_estimators=5; accuracy: (test=nan) f1: (test=nan) precision: (test=nan) recall: (test=nan) total time=   0.0s\n",
      "[CV 1/2] END max_depth=None, max_features=10, max_samples=2250, min_samples_leaf=3, min_samples_split=1, n_estimators=6; accuracy: (test=nan) f1: (test=nan) precision: (test=nan) recall: (test=nan) total time=   0.0s\n",
      "[CV 2/2] END max_depth=None, max_features=10, max_samples=2250, min_samples_leaf=3, min_samples_split=1, n_estimators=6; accuracy: (test=nan) f1: (test=nan) precision: (test=nan) recall: (test=nan) total time=   0.0s\n",
      "[CV 1/2] END max_depth=None, max_features=10, max_samples=2250, min_samples_leaf=3, min_samples_split=2, n_estimators=4; accuracy: (test=0.801) f1: (test=0.242) precision: (test=0.373) recall: (test=0.179) total time=   0.1s\n",
      "[CV 2/2] END max_depth=None, max_features=10, max_samples=2250, min_samples_leaf=3, min_samples_split=2, n_estimators=4; accuracy: (test=0.795) f1: (test=0.228) precision: (test=0.342) recall: (test=0.171) total time=   0.1s\n",
      "[CV 1/2] END max_depth=None, max_features=10, max_samples=2250, min_samples_leaf=3, min_samples_split=2, n_estimators=6; accuracy: (test=0.806) f1: (test=0.230) precision: (test=0.387) recall: (test=0.164) total time=   0.2s\n",
      "[CV 2/2] END max_depth=None, max_features=10, max_samples=2250, min_samples_leaf=3, min_samples_split=2, n_estimators=6; accuracy: (test=0.809) f1: (test=0.250) precision: (test=0.412) recall: (test=0.179) total time=   0.2s\n",
      "[CV 1/2] END max_depth=None, max_features=10, max_samples=2250, min_samples_leaf=3, min_samples_split=3, n_estimators=5; accuracy: (test=0.806) f1: (test=0.258) precision: (test=0.399) recall: (test=0.190) total time=   0.1s\n",
      "[CV 2/2] END max_depth=None, max_features=10, max_samples=2250, min_samples_leaf=3, min_samples_split=3, n_estimators=5; accuracy: (test=0.798) f1: (test=0.240) precision: (test=0.360) recall: (test=0.179) total time=   0.1s\n",
      "[CV 1/2] END max_depth=None, max_features=10, max_samples=2500, min_samples_leaf=1, min_samples_split=1, n_estimators=4; accuracy: (test=nan) f1: (test=nan) precision: (test=nan) recall: (test=nan) total time=   0.0s\n",
      "[CV 2/2] END max_depth=None, max_features=10, max_samples=2500, min_samples_leaf=1, min_samples_split=1, n_estimators=4; accuracy: (test=nan) f1: (test=nan) precision: (test=nan) recall: (test=nan) total time=   0.0s\n",
      "[CV 1/2] END max_depth=None, max_features=10, max_samples=2500, min_samples_leaf=1, min_samples_split=1, n_estimators=5; accuracy: (test=nan) f1: (test=nan) precision: (test=nan) recall: (test=nan) total time=   0.0s\n",
      "[CV 2/2] END max_depth=None, max_features=10, max_samples=2500, min_samples_leaf=1, min_samples_split=1, n_estimators=5; accuracy: (test=nan) f1: (test=nan) precision: (test=nan) recall: (test=nan) total time=   0.0s\n",
      "[CV 1/2] END max_depth=None, max_features=10, max_samples=2500, min_samples_leaf=1, min_samples_split=1, n_estimators=6; accuracy: (test=nan) f1: (test=nan) precision: (test=nan) recall: (test=nan) total time=   0.0s\n",
      "[CV 2/2] END max_depth=None, max_features=10, max_samples=2500, min_samples_leaf=1, min_samples_split=1, n_estimators=6; accuracy: (test=nan) f1: (test=nan) precision: (test=nan) recall: (test=nan) total time=   0.0s\n",
      "[CV 1/2] END max_depth=None, max_features=10, max_samples=2500, min_samples_leaf=1, min_samples_split=2, n_estimators=4; accuracy: (test=0.807) f1: (test=0.195) precision: (test=0.375) recall: (test=0.132) total time=   0.1s\n",
      "[CV 2/2] END max_depth=None, max_features=10, max_samples=2500, min_samples_leaf=1, min_samples_split=2, n_estimators=4; accuracy: (test=0.808) f1: (test=0.194) precision: (test=0.383) recall: (test=0.130) total time=   0.1s\n",
      "[CV 1/2] END max_depth=None, max_features=10, max_samples=2500, min_samples_leaf=1, min_samples_split=2, n_estimators=6; accuracy: (test=0.811) f1: (test=0.197) precision: (test=0.398) recall: (test=0.131) total time=   0.2s\n",
      "[CV 2/2] END max_depth=None, max_features=10, max_samples=2500, min_samples_leaf=1, min_samples_split=2, n_estimators=6; accuracy: (test=0.809) f1: (test=0.189) precision: (test=0.385) recall: (test=0.125) total time=   0.2s\n",
      "[CV 1/2] END max_depth=None, max_features=10, max_samples=2500, min_samples_leaf=1, min_samples_split=3, n_estimators=6; accuracy: (test=0.813) f1: (test=0.226) precision: (test=0.427) recall: (test=0.154) total time=   0.2s\n",
      "[CV 2/2] END max_depth=None, max_features=10, max_samples=2500, min_samples_leaf=1, min_samples_split=3, n_estimators=6; accuracy: (test=0.808) f1: (test=0.217) precision: (test=0.393) recall: (test=0.150) total time=   0.2s\n",
      "[CV 1/2] END max_depth=None, max_features=10, max_samples=2500, min_samples_leaf=2, min_samples_split=2, n_estimators=5; accuracy: (test=0.800) f1: (test=0.247) precision: (test=0.373) recall: (test=0.184) total time=   0.2s\n",
      "[CV 2/2] END max_depth=None, max_features=10, max_samples=2500, min_samples_leaf=2, min_samples_split=2, n_estimators=5; accuracy: (test=0.804) f1: (test=0.284) precision: (test=0.403) recall: (test=0.219) total time=   0.2s\n"
     ]
    },
    {
     "name": "stdout",
     "output_type": "stream",
     "text": [
      "[CV 1/2] END max_depth=None, max_features=10, max_samples=2500, min_samples_leaf=2, min_samples_split=3, n_estimators=4; accuracy: (test=0.797) f1: (test=0.230) precision: (test=0.351) recall: (test=0.171) total time=   0.1s\n",
      "[CV 2/2] END max_depth=None, max_features=10, max_samples=2500, min_samples_leaf=2, min_samples_split=3, n_estimators=4; accuracy: (test=0.807) f1: (test=0.273) precision: (test=0.412) recall: (test=0.204) total time=   0.1s\n",
      "[CV 1/2] END max_depth=None, max_features=10, max_samples=2500, min_samples_leaf=2, min_samples_split=3, n_estimators=5; accuracy: (test=0.800) f1: (test=0.247) precision: (test=0.373) recall: (test=0.184) total time=   0.2s\n",
      "[CV 2/2] END max_depth=None, max_features=10, max_samples=2500, min_samples_leaf=2, min_samples_split=3, n_estimators=5; accuracy: (test=0.804) f1: (test=0.284) precision: (test=0.403) recall: (test=0.219) total time=   0.1s\n",
      "[CV 1/2] END max_depth=None, max_features=10, max_samples=2500, min_samples_leaf=3, min_samples_split=1, n_estimators=4; accuracy: (test=nan) f1: (test=nan) precision: (test=nan) recall: (test=nan) total time=   0.0s\n",
      "[CV 2/2] END max_depth=None, max_features=10, max_samples=2500, min_samples_leaf=3, min_samples_split=1, n_estimators=4; accuracy: (test=nan) f1: (test=nan) precision: (test=nan) recall: (test=nan) total time=   0.0s\n",
      "[CV 1/2] END max_depth=None, max_features=10, max_samples=2500, min_samples_leaf=3, min_samples_split=1, n_estimators=5; accuracy: (test=nan) f1: (test=nan) precision: (test=nan) recall: (test=nan) total time=   0.0s\n",
      "[CV 2/2] END max_depth=None, max_features=10, max_samples=2500, min_samples_leaf=3, min_samples_split=1, n_estimators=5; accuracy: (test=nan) f1: (test=nan) precision: (test=nan) recall: (test=nan) total time=   0.0s\n",
      "[CV 1/2] END max_depth=None, max_features=10, max_samples=2500, min_samples_leaf=3, min_samples_split=1, n_estimators=6; accuracy: (test=nan) f1: (test=nan) precision: (test=nan) recall: (test=nan) total time=   0.0s\n",
      "[CV 2/2] END max_depth=None, max_features=10, max_samples=2500, min_samples_leaf=3, min_samples_split=1, n_estimators=6; accuracy: (test=nan) f1: (test=nan) precision: (test=nan) recall: (test=nan) total time=   0.0s\n",
      "[CV 1/2] END max_depth=None, max_features=10, max_samples=2500, min_samples_leaf=3, min_samples_split=2, n_estimators=4; accuracy: (test=0.808) f1: (test=0.272) precision: (test=0.414) recall: (test=0.203) total time=   0.1s\n",
      "[CV 2/2] END max_depth=None, max_features=10, max_samples=2500, min_samples_leaf=3, min_samples_split=2, n_estimators=4; accuracy: (test=0.795) f1: (test=0.232) precision: (test=0.346) recall: (test=0.175) total time=   0.1s\n",
      "[CV 1/2] END max_depth=None, max_features=10, max_samples=2500, min_samples_leaf=3, min_samples_split=2, n_estimators=6; accuracy: (test=0.808) f1: (test=0.237) precision: (test=0.400) recall: (test=0.169) total time=   0.2s\n",
      "[CV 2/2] END max_depth=None, max_features=10, max_samples=2500, min_samples_leaf=3, min_samples_split=2, n_estimators=6; accuracy: (test=0.804) f1: (test=0.234) precision: (test=0.380) recall: (test=0.169) total time=   0.2s\n",
      "[CV 1/2] END max_depth=None, max_features=10, max_samples=2500, min_samples_leaf=3, min_samples_split=3, n_estimators=6; accuracy: (test=0.808) f1: (test=0.237) precision: (test=0.400) recall: (test=0.169) total time=   0.2s\n",
      "[CV 2/2] END max_depth=None, max_features=10, max_samples=2500, min_samples_leaf=3, min_samples_split=3, n_estimators=6; accuracy: (test=0.804) f1: (test=0.234) precision: (test=0.380) recall: (test=0.169) total time=   0.2s\n",
      "[CV 1/2] END max_depth=None, max_features=10, max_samples=2750, min_samples_leaf=1, min_samples_split=2, n_estimators=5; accuracy: (test=0.791) f1: (test=0.243) precision: (test=0.339) recall: (test=0.189) total time=   0.2s\n",
      "[CV 2/2] END max_depth=None, max_features=10, max_samples=2750, min_samples_leaf=1, min_samples_split=2, n_estimators=5; accuracy: (test=0.790) f1: (test=0.261) precision: (test=0.346) recall: (test=0.209) total time=   0.2s\n",
      "[CV 1/2] END max_depth=None, max_features=10, max_samples=2750, min_samples_leaf=1, min_samples_split=3, n_estimators=4; accuracy: (test=0.803) f1: (test=0.196) precision: (test=0.355) recall: (test=0.135) total time=   0.2s\n",
      "[CV 2/2] END max_depth=None, max_features=10, max_samples=2750, min_samples_leaf=1, min_samples_split=3, n_estimators=4; accuracy: (test=0.806) f1: (test=0.196) precision: (test=0.372) recall: (test=0.133) total time=   0.1s\n",
      "[CV 1/2] END max_depth=None, max_features=10, max_samples=2750, min_samples_leaf=1, min_samples_split=3, n_estimators=5; accuracy: (test=0.790) f1: (test=0.246) precision: (test=0.339) recall: (test=0.193) total time=   0.2s\n",
      "[CV 2/2] END max_depth=None, max_features=10, max_samples=2750, min_samples_leaf=1, min_samples_split=3, n_estimators=5; accuracy: (test=0.796) f1: (test=0.251) precision: (test=0.360) recall: (test=0.193) total time=   0.2s\n",
      "[CV 1/2] END max_depth=None, max_features=10, max_samples=2750, min_samples_leaf=2, min_samples_split=1, n_estimators=4; accuracy: (test=nan) f1: (test=nan) precision: (test=nan) recall: (test=nan) total time=   0.0s\n",
      "[CV 2/2] END max_depth=None, max_features=10, max_samples=2750, min_samples_leaf=2, min_samples_split=1, n_estimators=4; accuracy: (test=nan) f1: (test=nan) precision: (test=nan) recall: (test=nan) total time=   0.0s\n",
      "[CV 1/2] END max_depth=None, max_features=10, max_samples=2750, min_samples_leaf=2, min_samples_split=1, n_estimators=5; accuracy: (test=nan) f1: (test=nan) precision: (test=nan) recall: (test=nan) total time=   0.0s\n",
      "[CV 2/2] END max_depth=None, max_features=10, max_samples=2750, min_samples_leaf=2, min_samples_split=1, n_estimators=5; accuracy: (test=nan) f1: (test=nan) precision: (test=nan) recall: (test=nan) total time=   0.0s\n",
      "[CV 1/2] END max_depth=None, max_features=10, max_samples=2750, min_samples_leaf=2, min_samples_split=1, n_estimators=6; accuracy: (test=nan) f1: (test=nan) precision: (test=nan) recall: (test=nan) total time=   0.0s\n",
      "[CV 2/2] END max_depth=None, max_features=10, max_samples=2750, min_samples_leaf=2, min_samples_split=1, n_estimators=6; accuracy: (test=nan) f1: (test=nan) precision: (test=nan) recall: (test=nan) total time=   0.0s\n",
      "[CV 1/2] END max_depth=None, max_features=10, max_samples=2750, min_samples_leaf=2, min_samples_split=2, n_estimators=4; accuracy: (test=0.800) f1: (test=0.233) precision: (test=0.366) recall: (test=0.171) total time=   0.2s\n",
      "[CV 2/2] END max_depth=None, max_features=10, max_samples=2750, min_samples_leaf=2, min_samples_split=2, n_estimators=4; accuracy: (test=0.804) f1: (test=0.249) precision: (test=0.388) recall: (test=0.183) total time=   0.1s\n",
      "[CV 1/2] END max_depth=None, max_features=10, max_samples=2750, min_samples_leaf=2, min_samples_split=2, n_estimators=6; accuracy: (test=0.805) f1: (test=0.224) precision: (test=0.381) recall: (test=0.159) total time=   0.2s\n",
      "[CV 2/2] END max_depth=None, max_features=10, max_samples=2750, min_samples_leaf=2, min_samples_split=2, n_estimators=6; accuracy: (test=0.807) f1: (test=0.249) precision: (test=0.403) recall: (test=0.180) total time=   0.2s\n",
      "[CV 1/2] END max_depth=None, max_features=10, max_samples=2750, min_samples_leaf=2, min_samples_split=3, n_estimators=5; accuracy: (test=0.796) f1: (test=0.235) precision: (test=0.352) recall: (test=0.177) total time=   0.2s\n",
      "[CV 2/2] END max_depth=None, max_features=10, max_samples=2750, min_samples_leaf=2, min_samples_split=3, n_estimators=5; accuracy: (test=0.801) f1: (test=0.257) precision: (test=0.381) recall: (test=0.193) total time=   0.2s\n",
      "[CV 1/2] END max_depth=None, max_features=10, max_samples=2750, min_samples_leaf=3, min_samples_split=1, n_estimators=4; accuracy: (test=nan) f1: (test=nan) precision: (test=nan) recall: (test=nan) total time=   0.0s\n",
      "[CV 2/2] END max_depth=None, max_features=10, max_samples=2750, min_samples_leaf=3, min_samples_split=1, n_estimators=4; accuracy: (test=nan) f1: (test=nan) precision: (test=nan) recall: (test=nan) total time=   0.0s\n",
      "[CV 2/2] END max_depth=None, max_features=10, max_samples=2500, min_samples_leaf=2, min_samples_split=1, n_estimators=5; accuracy: (test=nan) f1: (test=nan) precision: (test=nan) recall: (test=nan) total time=   0.0s\n",
      "[CV 1/2] END max_depth=None, max_features=10, max_samples=2500, min_samples_leaf=2, min_samples_split=1, n_estimators=6; accuracy: (test=nan) f1: (test=nan) precision: (test=nan) recall: (test=nan) total time=   0.0s\n",
      "[CV 2/2] END max_depth=None, max_features=10, max_samples=2500, min_samples_leaf=2, min_samples_split=1, n_estimators=6; accuracy: (test=nan) f1: (test=nan) precision: (test=nan) recall: (test=nan) total time=   0.0s\n",
      "[CV 1/2] END max_depth=None, max_features=10, max_samples=2500, min_samples_leaf=2, min_samples_split=2, n_estimators=4; accuracy: (test=0.797) f1: (test=0.230) precision: (test=0.351) recall: (test=0.171) total time=   0.1s\n",
      "[CV 2/2] END max_depth=None, max_features=10, max_samples=2500, min_samples_leaf=2, min_samples_split=2, n_estimators=4; accuracy: (test=0.807) f1: (test=0.273) precision: (test=0.412) recall: (test=0.204) total time=   0.1s\n",
      "[CV 1/2] END max_depth=None, max_features=10, max_samples=2500, min_samples_leaf=2, min_samples_split=2, n_estimators=6; accuracy: (test=0.800) f1: (test=0.210) precision: (test=0.351) recall: (test=0.150) total time=   0.2s\n",
      "[CV 2/2] END max_depth=None, max_features=10, max_samples=2500, min_samples_leaf=2, min_samples_split=2, n_estimators=6; accuracy: (test=0.807) f1: (test=0.246) precision: (test=0.402) recall: (test=0.178) total time=   0.2s\n",
      "[CV 1/2] END max_depth=None, max_features=10, max_samples=2500, min_samples_leaf=2, min_samples_split=3, n_estimators=6; accuracy: (test=0.800) f1: (test=0.210) precision: (test=0.351) recall: (test=0.150) total time=   0.2s\n",
      "[CV 2/2] END max_depth=None, max_features=10, max_samples=2500, min_samples_leaf=2, min_samples_split=3, n_estimators=6; accuracy: (test=0.807) f1: (test=0.246) precision: (test=0.402) recall: (test=0.178) total time=   0.2s\n",
      "[CV 1/2] END max_depth=None, max_features=10, max_samples=2500, min_samples_leaf=3, min_samples_split=2, n_estimators=5; accuracy: (test=0.804) f1: (test=0.248) precision: (test=0.387) recall: (test=0.182) total time=   0.2s\n",
      "[CV 2/2] END max_depth=None, max_features=10, max_samples=2500, min_samples_leaf=3, min_samples_split=2, n_estimators=5; accuracy: (test=0.799) f1: (test=0.236) precision: (test=0.361) recall: (test=0.176) total time=   0.2s\n",
      "[CV 1/2] END max_depth=None, max_features=10, max_samples=2500, min_samples_leaf=3, min_samples_split=3, n_estimators=4; accuracy: (test=0.808) f1: (test=0.272) precision: (test=0.414) recall: (test=0.203) total time=   0.1s\n",
      "[CV 2/2] END max_depth=None, max_features=10, max_samples=2500, min_samples_leaf=3, min_samples_split=3, n_estimators=4; accuracy: (test=0.795) f1: (test=0.232) precision: (test=0.346) recall: (test=0.175) total time=   0.1s\n",
      "[CV 1/2] END max_depth=None, max_features=10, max_samples=2500, min_samples_leaf=3, min_samples_split=3, n_estimators=5; accuracy: (test=0.804) f1: (test=0.248) precision: (test=0.387) recall: (test=0.182) total time=   0.2s\n",
      "[CV 2/2] END max_depth=None, max_features=10, max_samples=2500, min_samples_leaf=3, min_samples_split=3, n_estimators=5; accuracy: (test=0.799) f1: (test=0.236) precision: (test=0.361) recall: (test=0.176) total time=   0.2s\n",
      "[CV 1/2] END max_depth=None, max_features=10, max_samples=2750, min_samples_leaf=1, min_samples_split=1, n_estimators=4; accuracy: (test=nan) f1: (test=nan) precision: (test=nan) recall: (test=nan) total time=   0.0s\n",
      "[CV 2/2] END max_depth=None, max_features=10, max_samples=2750, min_samples_leaf=1, min_samples_split=1, n_estimators=4; accuracy: (test=nan) f1: (test=nan) precision: (test=nan) recall: (test=nan) total time=   0.0s\n",
      "[CV 1/2] END max_depth=None, max_features=10, max_samples=2750, min_samples_leaf=1, min_samples_split=1, n_estimators=5; accuracy: (test=nan) f1: (test=nan) precision: (test=nan) recall: (test=nan) total time=   0.0s\n",
      "[CV 2/2] END max_depth=None, max_features=10, max_samples=2750, min_samples_leaf=1, min_samples_split=1, n_estimators=5; accuracy: (test=nan) f1: (test=nan) precision: (test=nan) recall: (test=nan) total time=   0.0s\n",
      "[CV 1/2] END max_depth=None, max_features=10, max_samples=2750, min_samples_leaf=1, min_samples_split=1, n_estimators=6; accuracy: (test=nan) f1: (test=nan) precision: (test=nan) recall: (test=nan) total time=   0.0s\n",
      "[CV 2/2] END max_depth=None, max_features=10, max_samples=2750, min_samples_leaf=1, min_samples_split=1, n_estimators=6; accuracy: (test=nan) f1: (test=nan) precision: (test=nan) recall: (test=nan) total time=   0.0s\n",
      "[CV 1/2] END max_depth=None, max_features=10, max_samples=2750, min_samples_leaf=1, min_samples_split=2, n_estimators=4; accuracy: (test=0.805) f1: (test=0.162) precision: (test=0.339) recall: (test=0.107) total time=   0.2s\n",
      "[CV 2/2] END max_depth=None, max_features=10, max_samples=2750, min_samples_leaf=1, min_samples_split=2, n_estimators=4; accuracy: (test=0.809) f1: (test=0.210) precision: (test=0.393) recall: (test=0.143) total time=   0.1s\n",
      "[CV 1/2] END max_depth=None, max_features=10, max_samples=2750, min_samples_leaf=1, min_samples_split=2, n_estimators=6; accuracy: (test=0.811) f1: (test=0.182) precision: (test=0.392) recall: (test=0.118) total time=   0.2s\n",
      "[CV 2/2] END max_depth=None, max_features=10, max_samples=2750, min_samples_leaf=1, min_samples_split=2, n_estimators=6; accuracy: (test=0.804) f1: (test=0.189) precision: (test=0.357) recall: (test=0.128) total time=   0.2s\n",
      "[CV 1/2] END max_depth=None, max_features=10, max_samples=2750, min_samples_leaf=1, min_samples_split=3, n_estimators=6; accuracy: (test=0.807) f1: (test=0.207) precision: (test=0.384) recall: (test=0.142) total time=   0.2s\n",
      "[CV 2/2] END max_depth=None, max_features=10, max_samples=2750, min_samples_leaf=1, min_samples_split=3, n_estimators=6; accuracy: (test=0.807) f1: (test=0.198) precision: (test=0.379) recall: (test=0.134) total time=   0.2s\n",
      "[CV 1/2] END max_depth=None, max_features=10, max_samples=2750, min_samples_leaf=2, min_samples_split=2, n_estimators=5; accuracy: (test=0.796) f1: (test=0.235) precision: (test=0.352) recall: (test=0.177) total time=   0.2s\n",
      "[CV 2/2] END max_depth=None, max_features=10, max_samples=2750, min_samples_leaf=2, min_samples_split=2, n_estimators=5; accuracy: (test=0.801) f1: (test=0.257) precision: (test=0.381) recall: (test=0.193) total time=   0.2s\n",
      "[CV 1/2] END max_depth=None, max_features=10, max_samples=2750, min_samples_leaf=2, min_samples_split=3, n_estimators=4; accuracy: (test=0.800) f1: (test=0.233) precision: (test=0.366) recall: (test=0.171) total time=   0.2s\n",
      "[CV 2/2] END max_depth=None, max_features=10, max_samples=2750, min_samples_leaf=2, min_samples_split=3, n_estimators=4; accuracy: (test=0.804) f1: (test=0.249) precision: (test=0.388) recall: (test=0.183) total time=   0.1s\n",
      "[CV 1/2] END max_depth=None, max_features=10, max_samples=2750, min_samples_leaf=2, min_samples_split=3, n_estimators=6; accuracy: (test=0.805) f1: (test=0.224) precision: (test=0.381) recall: (test=0.159) total time=   0.2s\n",
      "[CV 2/2] END max_depth=None, max_features=10, max_samples=2750, min_samples_leaf=2, min_samples_split=3, n_estimators=6; accuracy: (test=0.807) f1: (test=0.249) precision: (test=0.403) recall: (test=0.180) total time=   0.2s\n",
      "[CV 1/2] END max_depth=None, max_features=10, max_samples=2750, min_samples_leaf=3, min_samples_split=2, n_estimators=5; accuracy: (test=0.803) f1: (test=0.266) precision: (test=0.394) recall: (test=0.201) total time=   0.2s\n",
      "[CV 2/2] END max_depth=None, max_features=10, max_samples=2750, min_samples_leaf=3, min_samples_split=2, n_estimators=5; accuracy: (test=0.801) f1: (test=0.234) precision: (test=0.369) recall: (test=0.172) total time=   0.2s\n",
      "[CV 1/2] END max_depth=None, max_features=10, max_samples=2750, min_samples_leaf=3, min_samples_split=3, n_estimators=4; accuracy: (test=0.801) f1: (test=0.259) precision: (test=0.380) recall: (test=0.196) total time=   0.2s\n"
     ]
    },
    {
     "data": {
      "text/html": [
       "<style>#sk-container-id-2 {color: black;}#sk-container-id-2 pre{padding: 0;}#sk-container-id-2 div.sk-toggleable {background-color: white;}#sk-container-id-2 label.sk-toggleable__label {cursor: pointer;display: block;width: 100%;margin-bottom: 0;padding: 0.3em;box-sizing: border-box;text-align: center;}#sk-container-id-2 label.sk-toggleable__label-arrow:before {content: \"▸\";float: left;margin-right: 0.25em;color: #696969;}#sk-container-id-2 label.sk-toggleable__label-arrow:hover:before {color: black;}#sk-container-id-2 div.sk-estimator:hover label.sk-toggleable__label-arrow:before {color: black;}#sk-container-id-2 div.sk-toggleable__content {max-height: 0;max-width: 0;overflow: hidden;text-align: left;background-color: #f0f8ff;}#sk-container-id-2 div.sk-toggleable__content pre {margin: 0.2em;color: black;border-radius: 0.25em;background-color: #f0f8ff;}#sk-container-id-2 input.sk-toggleable__control:checked~div.sk-toggleable__content {max-height: 200px;max-width: 100%;overflow: auto;}#sk-container-id-2 input.sk-toggleable__control:checked~label.sk-toggleable__label-arrow:before {content: \"▾\";}#sk-container-id-2 div.sk-estimator input.sk-toggleable__control:checked~label.sk-toggleable__label {background-color: #d4ebff;}#sk-container-id-2 div.sk-label input.sk-toggleable__control:checked~label.sk-toggleable__label {background-color: #d4ebff;}#sk-container-id-2 input.sk-hidden--visually {border: 0;clip: rect(1px 1px 1px 1px);clip: rect(1px, 1px, 1px, 1px);height: 1px;margin: -1px;overflow: hidden;padding: 0;position: absolute;width: 1px;}#sk-container-id-2 div.sk-estimator {font-family: monospace;background-color: #f0f8ff;border: 1px dotted black;border-radius: 0.25em;box-sizing: border-box;margin-bottom: 0.5em;}#sk-container-id-2 div.sk-estimator:hover {background-color: #d4ebff;}#sk-container-id-2 div.sk-parallel-item::after {content: \"\";width: 100%;border-bottom: 1px solid gray;flex-grow: 1;}#sk-container-id-2 div.sk-label:hover label.sk-toggleable__label {background-color: #d4ebff;}#sk-container-id-2 div.sk-serial::before {content: \"\";position: absolute;border-left: 1px solid gray;box-sizing: border-box;top: 0;bottom: 0;left: 50%;z-index: 0;}#sk-container-id-2 div.sk-serial {display: flex;flex-direction: column;align-items: center;background-color: white;padding-right: 0.2em;padding-left: 0.2em;position: relative;}#sk-container-id-2 div.sk-item {position: relative;z-index: 1;}#sk-container-id-2 div.sk-parallel {display: flex;align-items: stretch;justify-content: center;background-color: white;position: relative;}#sk-container-id-2 div.sk-item::before, #sk-container-id-2 div.sk-parallel-item::before {content: \"\";position: absolute;border-left: 1px solid gray;box-sizing: border-box;top: 0;bottom: 0;left: 50%;z-index: -1;}#sk-container-id-2 div.sk-parallel-item {display: flex;flex-direction: column;z-index: 1;position: relative;background-color: white;}#sk-container-id-2 div.sk-parallel-item:first-child::after {align-self: flex-end;width: 50%;}#sk-container-id-2 div.sk-parallel-item:last-child::after {align-self: flex-start;width: 50%;}#sk-container-id-2 div.sk-parallel-item:only-child::after {width: 0;}#sk-container-id-2 div.sk-dashed-wrapped {border: 1px dashed gray;margin: 0 0.4em 0.5em 0.4em;box-sizing: border-box;padding-bottom: 0.4em;background-color: white;}#sk-container-id-2 div.sk-label label {font-family: monospace;font-weight: bold;display: inline-block;line-height: 1.2em;}#sk-container-id-2 div.sk-label-container {text-align: center;}#sk-container-id-2 div.sk-container {/* jupyter's `normalize.less` sets `[hidden] { display: none; }` but bootstrap.min.css set `[hidden] { display: none !important; }` so we also need the `!important` here to be able to override the default hidden behavior on the sphinx rendered scikit-learn.org. See: https://github.com/scikit-learn/scikit-learn/issues/21755 */display: inline-block !important;position: relative;}#sk-container-id-2 div.sk-text-repr-fallback {display: none;}</style><div id=\"sk-container-id-2\" class=\"sk-top-container\"><div class=\"sk-text-repr-fallback\"><pre>GridSearchCV(cv=2, estimator=RandomForestClassifier(random_state=0), n_jobs=-1,\n",
       "             param_grid={&#x27;max_depth&#x27;: [None], &#x27;max_features&#x27;: [8, 9, 10],\n",
       "                         &#x27;max_samples&#x27;: [2250, 2500, 2750],\n",
       "                         &#x27;min_samples_leaf&#x27;: [1, 2, 3],\n",
       "                         &#x27;min_samples_split&#x27;: [1, 2, 3],\n",
       "                         &#x27;n_estimators&#x27;: [4, 5, 6]},\n",
       "             refit=&#x27;recall&#x27;, scoring=[&#x27;accuracy&#x27;, &#x27;precision&#x27;, &#x27;recall&#x27;, &#x27;f1&#x27;],\n",
       "             verbose=3)</pre><b>In a Jupyter environment, please rerun this cell to show the HTML representation or trust the notebook. <br />On GitHub, the HTML representation is unable to render, please try loading this page with nbviewer.org.</b></div><div class=\"sk-container\" hidden><div class=\"sk-item sk-dashed-wrapped\"><div class=\"sk-label-container\"><div class=\"sk-label sk-toggleable\"><input class=\"sk-toggleable__control sk-hidden--visually\" id=\"sk-estimator-id-4\" type=\"checkbox\" ><label for=\"sk-estimator-id-4\" class=\"sk-toggleable__label sk-toggleable__label-arrow\">GridSearchCV</label><div class=\"sk-toggleable__content\"><pre>GridSearchCV(cv=2, estimator=RandomForestClassifier(random_state=0), n_jobs=-1,\n",
       "             param_grid={&#x27;max_depth&#x27;: [None], &#x27;max_features&#x27;: [8, 9, 10],\n",
       "                         &#x27;max_samples&#x27;: [2250, 2500, 2750],\n",
       "                         &#x27;min_samples_leaf&#x27;: [1, 2, 3],\n",
       "                         &#x27;min_samples_split&#x27;: [1, 2, 3],\n",
       "                         &#x27;n_estimators&#x27;: [4, 5, 6]},\n",
       "             refit=&#x27;recall&#x27;, scoring=[&#x27;accuracy&#x27;, &#x27;precision&#x27;, &#x27;recall&#x27;, &#x27;f1&#x27;],\n",
       "             verbose=3)</pre></div></div></div><div class=\"sk-parallel\"><div class=\"sk-parallel-item\"><div class=\"sk-item\"><div class=\"sk-label-container\"><div class=\"sk-label sk-toggleable\"><input class=\"sk-toggleable__control sk-hidden--visually\" id=\"sk-estimator-id-5\" type=\"checkbox\" ><label for=\"sk-estimator-id-5\" class=\"sk-toggleable__label sk-toggleable__label-arrow\">estimator: RandomForestClassifier</label><div class=\"sk-toggleable__content\"><pre>RandomForestClassifier(random_state=0)</pre></div></div></div><div class=\"sk-serial\"><div class=\"sk-item\"><div class=\"sk-estimator sk-toggleable\"><input class=\"sk-toggleable__control sk-hidden--visually\" id=\"sk-estimator-id-6\" type=\"checkbox\" ><label for=\"sk-estimator-id-6\" class=\"sk-toggleable__label sk-toggleable__label-arrow\">RandomForestClassifier</label><div class=\"sk-toggleable__content\"><pre>RandomForestClassifier(random_state=0)</pre></div></div></div></div></div></div></div></div></div></div>"
      ],
      "text/plain": [
       "GridSearchCV(cv=2, estimator=RandomForestClassifier(random_state=0), n_jobs=-1,\n",
       "             param_grid={'max_depth': [None], 'max_features': [8, 9, 10],\n",
       "                         'max_samples': [2250, 2500, 2750],\n",
       "                         'min_samples_leaf': [1, 2, 3],\n",
       "                         'min_samples_split': [1, 2, 3],\n",
       "                         'n_estimators': [4, 5, 6]},\n",
       "             refit='recall', scoring=['accuracy', 'precision', 'recall', 'f1'],\n",
       "             verbose=3)"
      ]
     },
     "execution_count": 89,
     "metadata": {},
     "output_type": "execute_result"
    }
   ],
   "source": [
    "### YOUR CODE HERE ###\n",
    "rf_cv.fit(X_train, y_train)"
   ]
  },
  {
   "cell_type": "markdown",
   "metadata": {
    "id": "5wHi_YJduQOH"
   },
   "source": [
    "Examine the best average score across all the validation folds."
   ]
  },
  {
   "cell_type": "code",
   "execution_count": 90,
   "metadata": {
    "id": "YtAgrH0zy4CE"
   },
   "outputs": [
    {
     "data": {
      "text/plain": [
       "0.22485207100591717"
      ]
     },
     "execution_count": 90,
     "metadata": {},
     "output_type": "execute_result"
    }
   ],
   "source": [
    "# Examine best score\n",
    "### YOUR CODE HERE ###\n",
    "rf_cv.best_score_"
   ]
  },
  {
   "cell_type": "markdown",
   "metadata": {
    "id": "heGb51fHh3E5"
   },
   "source": [
    "Examine the best combination of hyperparameters."
   ]
  },
  {
   "cell_type": "code",
   "execution_count": 91,
   "metadata": {
    "id": "kazNtYG4fQOI",
    "scrolled": true
   },
   "outputs": [
    {
     "data": {
      "text/plain": [
       "{'max_depth': None,\n",
       " 'max_features': 8,\n",
       " 'max_samples': 2750,\n",
       " 'min_samples_leaf': 1,\n",
       " 'min_samples_split': 2,\n",
       " 'n_estimators': 5}"
      ]
     },
     "execution_count": 91,
     "metadata": {},
     "output_type": "execute_result"
    }
   ],
   "source": [
    "# Examine best hyperparameter combo\n",
    "### YOUR CODE HERE ###\n",
    "rf_cv.best_params_"
   ]
  },
  {
   "cell_type": "markdown",
   "metadata": {
    "id": "qZZnem5yiAau"
   },
   "source": [
    "Use the `make_results()` function to output all of the scores of your model. Note that the function accepts three arguments.\n",
    "\n",
    "This function is provided for you, but if you'd like to challenge yourself, try writing your own function!"
   ]
  },
  {
   "cell_type": "markdown",
   "metadata": {
    "id": "GeW48TS742jN"
   },
   "source": [
    "<details>\n",
    "  <summary><h5>HINT</h5></summary>\n",
    "\n",
    "To learn more about how this function accesses the cross-validation results, refer to the [`GridSearchCV` scikit-learn documentation](https://scikit-learn.org/stable/modules/generated/sklearn.model_selection.GridSearchCV.html?highlight=gridsearchcv#sklearn.model_selection.GridSearchCV) for the `cv_results_` attribute.\n",
    "\n",
    "</details>"
   ]
  },
  {
   "cell_type": "code",
   "execution_count": 92,
   "metadata": {
    "id": "u-UodWEOedxz"
   },
   "outputs": [],
   "source": [
    "def make_results(model_name:str, model_object, metric:str):\n",
    "    '''\n",
    "    Arguments:\n",
    "        model_name (string): what you want the model to be called in the output table\n",
    "        model_object: a fit GridSearchCV object\n",
    "        metric (string): precision, recall, f1, or accuracy\n",
    "\n",
    "    Returns a pandas df with the F1, recall, precision, and accuracy scores\n",
    "    for the model with the best mean 'metric' score across all validation folds.\n",
    "    '''\n",
    "\n",
    "    # Create dictionary that maps input metric to actual metric name in GridSearchCV\n",
    "    metric_dict = {'precision': 'mean_test_precision',\n",
    "                   'recall': 'mean_test_recall',\n",
    "                   'f1': 'mean_test_f1',\n",
    "                   'accuracy': 'mean_test_accuracy',\n",
    "                   }\n",
    "\n",
    "    # Get all the results from the CV and put them in a df\n",
    "    cv_results = pd.DataFrame(model_object.cv_results_)\n",
    "\n",
    "    # Isolate the row of the df with the max(metric) score\n",
    "    best_estimator_results = cv_results.iloc[cv_results[metric_dict[metric]].idxmax(), :]\n",
    "\n",
    "    # Extract accuracy, precision, recall, and f1 score from that row\n",
    "    f1 = best_estimator_results.mean_test_f1\n",
    "    recall = best_estimator_results.mean_test_recall\n",
    "    precision = best_estimator_results.mean_test_precision\n",
    "    accuracy = best_estimator_results.mean_test_accuracy\n",
    "\n",
    "    # Create table of results\n",
    "    table = pd.DataFrame({'model': [model_name],\n",
    "                          'precision': [precision],\n",
    "                          'recall': [recall],\n",
    "                          'F1': [f1],\n",
    "                          'accuracy': [accuracy],\n",
    "                          },\n",
    "                         )\n",
    "\n",
    "    return table"
   ]
  },
  {
   "cell_type": "markdown",
   "metadata": {
    "id": "diQezudIfzHn"
   },
   "source": [
    "Pass the `GridSearch` object to the `make_results()` function."
   ]
  },
  {
   "cell_type": "code",
   "execution_count": 93,
   "metadata": {
    "id": "qAYb2QigiT_h"
   },
   "outputs": [
    {
     "data": {
      "text/html": [
       "<div>\n",
       "<style scoped>\n",
       "    .dataframe tbody tr th:only-of-type {\n",
       "        vertical-align: middle;\n",
       "    }\n",
       "\n",
       "    .dataframe tbody tr th {\n",
       "        vertical-align: top;\n",
       "    }\n",
       "\n",
       "    .dataframe thead th {\n",
       "        text-align: right;\n",
       "    }\n",
       "</style>\n",
       "<table border=\"1\" class=\"dataframe\">\n",
       "  <thead>\n",
       "    <tr style=\"text-align: right;\">\n",
       "      <th></th>\n",
       "      <th>model</th>\n",
       "      <th>precision</th>\n",
       "      <th>recall</th>\n",
       "      <th>F1</th>\n",
       "      <th>accuracy</th>\n",
       "    </tr>\n",
       "  </thead>\n",
       "  <tbody>\n",
       "    <tr>\n",
       "      <th>0</th>\n",
       "      <td>Random Forest CV</td>\n",
       "      <td>0.354941</td>\n",
       "      <td>0.224852</td>\n",
       "      <td>0.275288</td>\n",
       "      <td>0.790067</td>\n",
       "    </tr>\n",
       "  </tbody>\n",
       "</table>\n",
       "</div>"
      ],
      "text/plain": [
       "              model  precision    recall        F1  accuracy\n",
       "0  Random Forest CV   0.354941  0.224852  0.275288  0.790067"
      ]
     },
     "execution_count": 93,
     "metadata": {},
     "output_type": "execute_result"
    }
   ],
   "source": [
    "### YOUR CODE HERE ###\n",
    "rf_cv_results = make_results('Random Forest CV', rf_cv, 'recall')\n",
    "rf_cv_results"
   ]
  },
  {
   "cell_type": "markdown",
   "metadata": {
    "id": "SB-yhW9uu7dO"
   },
   "source": [
    "Asside from the accuracy, the scores aren't that good. However, recall that when you built the logistic regression model in the last course the recall was \\~0.1, which means that this model has +12% better recall and near the same accuracy, and it was trained on less data.\n",
    "\n",
    "If you want, feel free to try retuning your hyperparameters to try to get a better score. You might be able to marginally improve the model."
   ]
  },
  {
   "cell_type": "markdown",
   "metadata": {
    "id": "DOlktJ6l4Tgt"
   },
   "source": [
    "#### **XGBoost**\n",
    "\n",
    " Try to improve your scores using an XGBoost model.\n",
    "\n",
    "1. Instantiate the XGBoost classifier `xgb` and set `objective='binary:logistic'`. Also set the random state.\n",
    "\n",
    "2. Create a dictionary `cv_params` of the following hyperparameters and their corresponding values to tune:\n",
    " - `max_depth`\n",
    " - `min_child_weight`\n",
    " - `learning_rate`\n",
    " - `n_estimators`\n",
    "\n",
    "3. Define a list `scoring` of scoring metrics for grid search to capture (precision, recall, F1 score, and accuracy).\n",
    "\n",
    "4. Instantiate the `GridSearchCV` object `xgb_cv`. Pass to it as arguments:\n",
    " - estimator=`xgb`\n",
    " - param_grid=`cv_params`\n",
    " - scoring=`scoring`\n",
    " - cv: define the number of cross-validation folds you want (`cv=_`)\n",
    " - refit: indicate which evaluation metric you want to use to select the model (`refit='recall'`)"
   ]
  },
  {
   "cell_type": "code",
   "execution_count": 139,
   "metadata": {
    "id": "0ciO48nhiTqO"
   },
   "outputs": [],
   "source": [
    "# 1. Instantiate the XGBoost classifier\n",
    "### YOUR CODE HERE ###\n",
    "xgb = XGBClassifier(objective='binary:logistic', random_state=0) \n",
    "\n",
    "# 2. Create a dictionary of hyperparameters to tune\n",
    "### YOUR CODE HERE ###\n",
    "cv_params = { 'max_depth': [18, 19, 20],\n",
    "              'min_child_weight': [10.1, 10.2, 10.3],\n",
    "              'learning_rate': [2.25, 2.3, 2.35],\n",
    "              'n_estimators': [13, 14, 15],\n",
    "             }   \n",
    "\n",
    "# 3. Define a list of scoring metrics to capture\n",
    "### YOUR CODE HERE ###\n",
    "scoring_2 = ['accuracy', 'precision', 'recall', 'f1']\n",
    "\n",
    "\n",
    "# 4. Instantiate the GridSearchCV object\n",
    "### YOUR CODE HERE ###\n",
    "xgb_cv = GridSearchCV(xgb, cv_params, scoring=scoring_2, cv=5, refit='recall')\n"
   ]
  },
  {
   "cell_type": "markdown",
   "metadata": {
    "id": "Y78-hQF9680x"
   },
   "source": [
    "Now fit the model to the `X_train` and `y_train` data.\n",
    "\n",
    "Note this cell might take several minutes to run."
   ]
  },
  {
   "cell_type": "code",
   "execution_count": 140,
   "metadata": {
    "id": "dYCWs_HX6804"
   },
   "outputs": [
    {
     "data": {
      "text/html": [
       "<style>#sk-container-id-14 {color: black;}#sk-container-id-14 pre{padding: 0;}#sk-container-id-14 div.sk-toggleable {background-color: white;}#sk-container-id-14 label.sk-toggleable__label {cursor: pointer;display: block;width: 100%;margin-bottom: 0;padding: 0.3em;box-sizing: border-box;text-align: center;}#sk-container-id-14 label.sk-toggleable__label-arrow:before {content: \"▸\";float: left;margin-right: 0.25em;color: #696969;}#sk-container-id-14 label.sk-toggleable__label-arrow:hover:before {color: black;}#sk-container-id-14 div.sk-estimator:hover label.sk-toggleable__label-arrow:before {color: black;}#sk-container-id-14 div.sk-toggleable__content {max-height: 0;max-width: 0;overflow: hidden;text-align: left;background-color: #f0f8ff;}#sk-container-id-14 div.sk-toggleable__content pre {margin: 0.2em;color: black;border-radius: 0.25em;background-color: #f0f8ff;}#sk-container-id-14 input.sk-toggleable__control:checked~div.sk-toggleable__content {max-height: 200px;max-width: 100%;overflow: auto;}#sk-container-id-14 input.sk-toggleable__control:checked~label.sk-toggleable__label-arrow:before {content: \"▾\";}#sk-container-id-14 div.sk-estimator input.sk-toggleable__control:checked~label.sk-toggleable__label {background-color: #d4ebff;}#sk-container-id-14 div.sk-label input.sk-toggleable__control:checked~label.sk-toggleable__label {background-color: #d4ebff;}#sk-container-id-14 input.sk-hidden--visually {border: 0;clip: rect(1px 1px 1px 1px);clip: rect(1px, 1px, 1px, 1px);height: 1px;margin: -1px;overflow: hidden;padding: 0;position: absolute;width: 1px;}#sk-container-id-14 div.sk-estimator {font-family: monospace;background-color: #f0f8ff;border: 1px dotted black;border-radius: 0.25em;box-sizing: border-box;margin-bottom: 0.5em;}#sk-container-id-14 div.sk-estimator:hover {background-color: #d4ebff;}#sk-container-id-14 div.sk-parallel-item::after {content: \"\";width: 100%;border-bottom: 1px solid gray;flex-grow: 1;}#sk-container-id-14 div.sk-label:hover label.sk-toggleable__label {background-color: #d4ebff;}#sk-container-id-14 div.sk-serial::before {content: \"\";position: absolute;border-left: 1px solid gray;box-sizing: border-box;top: 0;bottom: 0;left: 50%;z-index: 0;}#sk-container-id-14 div.sk-serial {display: flex;flex-direction: column;align-items: center;background-color: white;padding-right: 0.2em;padding-left: 0.2em;position: relative;}#sk-container-id-14 div.sk-item {position: relative;z-index: 1;}#sk-container-id-14 div.sk-parallel {display: flex;align-items: stretch;justify-content: center;background-color: white;position: relative;}#sk-container-id-14 div.sk-item::before, #sk-container-id-14 div.sk-parallel-item::before {content: \"\";position: absolute;border-left: 1px solid gray;box-sizing: border-box;top: 0;bottom: 0;left: 50%;z-index: -1;}#sk-container-id-14 div.sk-parallel-item {display: flex;flex-direction: column;z-index: 1;position: relative;background-color: white;}#sk-container-id-14 div.sk-parallel-item:first-child::after {align-self: flex-end;width: 50%;}#sk-container-id-14 div.sk-parallel-item:last-child::after {align-self: flex-start;width: 50%;}#sk-container-id-14 div.sk-parallel-item:only-child::after {width: 0;}#sk-container-id-14 div.sk-dashed-wrapped {border: 1px dashed gray;margin: 0 0.4em 0.5em 0.4em;box-sizing: border-box;padding-bottom: 0.4em;background-color: white;}#sk-container-id-14 div.sk-label label {font-family: monospace;font-weight: bold;display: inline-block;line-height: 1.2em;}#sk-container-id-14 div.sk-label-container {text-align: center;}#sk-container-id-14 div.sk-container {/* jupyter's `normalize.less` sets `[hidden] { display: none; }` but bootstrap.min.css set `[hidden] { display: none !important; }` so we also need the `!important` here to be able to override the default hidden behavior on the sphinx rendered scikit-learn.org. See: https://github.com/scikit-learn/scikit-learn/issues/21755 */display: inline-block !important;position: relative;}#sk-container-id-14 div.sk-text-repr-fallback {display: none;}</style><div id=\"sk-container-id-14\" class=\"sk-top-container\"><div class=\"sk-text-repr-fallback\"><pre>GridSearchCV(cv=5,\n",
       "             estimator=XGBClassifier(base_score=None, booster=None,\n",
       "                                     callbacks=None, colsample_bylevel=None,\n",
       "                                     colsample_bynode=None,\n",
       "                                     colsample_bytree=None, device=None,\n",
       "                                     early_stopping_rounds=None,\n",
       "                                     enable_categorical=False, eval_metric=None,\n",
       "                                     feature_types=None, gamma=None,\n",
       "                                     grow_policy=None, importance_type=None,\n",
       "                                     interaction_constraints=None,\n",
       "                                     learning_rate=None,...\n",
       "                                     max_leaves=None, min_child_weight=None,\n",
       "                                     missing=nan, monotone_constraints=None,\n",
       "                                     multi_strategy=None, n_estimators=None,\n",
       "                                     n_jobs=None, num_parallel_tree=None,\n",
       "                                     random_state=0, ...),\n",
       "             param_grid={&#x27;learning_rate&#x27;: [2.25, 2.3, 2.35],\n",
       "                         &#x27;max_depth&#x27;: [18, 19, 20],\n",
       "                         &#x27;min_child_weight&#x27;: [10.1, 10.2, 10.3],\n",
       "                         &#x27;n_estimators&#x27;: [13, 14, 15]},\n",
       "             refit=&#x27;recall&#x27;, scoring=[&#x27;accuracy&#x27;, &#x27;precision&#x27;, &#x27;recall&#x27;, &#x27;f1&#x27;])</pre><b>In a Jupyter environment, please rerun this cell to show the HTML representation or trust the notebook. <br />On GitHub, the HTML representation is unable to render, please try loading this page with nbviewer.org.</b></div><div class=\"sk-container\" hidden><div class=\"sk-item sk-dashed-wrapped\"><div class=\"sk-label-container\"><div class=\"sk-label sk-toggleable\"><input class=\"sk-toggleable__control sk-hidden--visually\" id=\"sk-estimator-id-40\" type=\"checkbox\" ><label for=\"sk-estimator-id-40\" class=\"sk-toggleable__label sk-toggleable__label-arrow\">GridSearchCV</label><div class=\"sk-toggleable__content\"><pre>GridSearchCV(cv=5,\n",
       "             estimator=XGBClassifier(base_score=None, booster=None,\n",
       "                                     callbacks=None, colsample_bylevel=None,\n",
       "                                     colsample_bynode=None,\n",
       "                                     colsample_bytree=None, device=None,\n",
       "                                     early_stopping_rounds=None,\n",
       "                                     enable_categorical=False, eval_metric=None,\n",
       "                                     feature_types=None, gamma=None,\n",
       "                                     grow_policy=None, importance_type=None,\n",
       "                                     interaction_constraints=None,\n",
       "                                     learning_rate=None,...\n",
       "                                     max_leaves=None, min_child_weight=None,\n",
       "                                     missing=nan, monotone_constraints=None,\n",
       "                                     multi_strategy=None, n_estimators=None,\n",
       "                                     n_jobs=None, num_parallel_tree=None,\n",
       "                                     random_state=0, ...),\n",
       "             param_grid={&#x27;learning_rate&#x27;: [2.25, 2.3, 2.35],\n",
       "                         &#x27;max_depth&#x27;: [18, 19, 20],\n",
       "                         &#x27;min_child_weight&#x27;: [10.1, 10.2, 10.3],\n",
       "                         &#x27;n_estimators&#x27;: [13, 14, 15]},\n",
       "             refit=&#x27;recall&#x27;, scoring=[&#x27;accuracy&#x27;, &#x27;precision&#x27;, &#x27;recall&#x27;, &#x27;f1&#x27;])</pre></div></div></div><div class=\"sk-parallel\"><div class=\"sk-parallel-item\"><div class=\"sk-item\"><div class=\"sk-label-container\"><div class=\"sk-label sk-toggleable\"><input class=\"sk-toggleable__control sk-hidden--visually\" id=\"sk-estimator-id-41\" type=\"checkbox\" ><label for=\"sk-estimator-id-41\" class=\"sk-toggleable__label sk-toggleable__label-arrow\">estimator: XGBClassifier</label><div class=\"sk-toggleable__content\"><pre>XGBClassifier(base_score=None, booster=None, callbacks=None,\n",
       "              colsample_bylevel=None, colsample_bynode=None,\n",
       "              colsample_bytree=None, device=None, early_stopping_rounds=None,\n",
       "              enable_categorical=False, eval_metric=None, feature_types=None,\n",
       "              gamma=None, grow_policy=None, importance_type=None,\n",
       "              interaction_constraints=None, learning_rate=None, max_bin=None,\n",
       "              max_cat_threshold=None, max_cat_to_onehot=None,\n",
       "              max_delta_step=None, max_depth=None, max_leaves=None,\n",
       "              min_child_weight=None, missing=nan, monotone_constraints=None,\n",
       "              multi_strategy=None, n_estimators=None, n_jobs=None,\n",
       "              num_parallel_tree=None, random_state=0, ...)</pre></div></div></div><div class=\"sk-serial\"><div class=\"sk-item\"><div class=\"sk-estimator sk-toggleable\"><input class=\"sk-toggleable__control sk-hidden--visually\" id=\"sk-estimator-id-42\" type=\"checkbox\" ><label for=\"sk-estimator-id-42\" class=\"sk-toggleable__label sk-toggleable__label-arrow\">XGBClassifier</label><div class=\"sk-toggleable__content\"><pre>XGBClassifier(base_score=None, booster=None, callbacks=None,\n",
       "              colsample_bylevel=None, colsample_bynode=None,\n",
       "              colsample_bytree=None, device=None, early_stopping_rounds=None,\n",
       "              enable_categorical=False, eval_metric=None, feature_types=None,\n",
       "              gamma=None, grow_policy=None, importance_type=None,\n",
       "              interaction_constraints=None, learning_rate=None, max_bin=None,\n",
       "              max_cat_threshold=None, max_cat_to_onehot=None,\n",
       "              max_delta_step=None, max_depth=None, max_leaves=None,\n",
       "              min_child_weight=None, missing=nan, monotone_constraints=None,\n",
       "              multi_strategy=None, n_estimators=None, n_jobs=None,\n",
       "              num_parallel_tree=None, random_state=0, ...)</pre></div></div></div></div></div></div></div></div></div></div>"
      ],
      "text/plain": [
       "GridSearchCV(cv=5,\n",
       "             estimator=XGBClassifier(base_score=None, booster=None,\n",
       "                                     callbacks=None, colsample_bylevel=None,\n",
       "                                     colsample_bynode=None,\n",
       "                                     colsample_bytree=None, device=None,\n",
       "                                     early_stopping_rounds=None,\n",
       "                                     enable_categorical=False, eval_metric=None,\n",
       "                                     feature_types=None, gamma=None,\n",
       "                                     grow_policy=None, importance_type=None,\n",
       "                                     interaction_constraints=None,\n",
       "                                     learning_rate=None,...\n",
       "                                     max_leaves=None, min_child_weight=None,\n",
       "                                     missing=nan, monotone_constraints=None,\n",
       "                                     multi_strategy=None, n_estimators=None,\n",
       "                                     n_jobs=None, num_parallel_tree=None,\n",
       "                                     random_state=0, ...),\n",
       "             param_grid={'learning_rate': [2.25, 2.3, 2.35],\n",
       "                         'max_depth': [18, 19, 20],\n",
       "                         'min_child_weight': [10.1, 10.2, 10.3],\n",
       "                         'n_estimators': [13, 14, 15]},\n",
       "             refit='recall', scoring=['accuracy', 'precision', 'recall', 'f1'])"
      ]
     },
     "execution_count": 140,
     "metadata": {},
     "output_type": "execute_result"
    }
   ],
   "source": [
    "### YOUR CODE HERE ###\n",
    "xgb_cv.fit(X_train, y_train)"
   ]
  },
  {
   "cell_type": "markdown",
   "metadata": {
    "id": "ruQISDB76805"
   },
   "source": [
    "Get the best score from this model."
   ]
  },
  {
   "cell_type": "code",
   "execution_count": 141,
   "metadata": {
    "id": "UFLTmIDm6805"
   },
   "outputs": [
    {
     "data": {
      "text/plain": [
       "0.6272152283646536"
      ]
     },
     "execution_count": 141,
     "metadata": {},
     "output_type": "execute_result"
    }
   ],
   "source": [
    "# Examine best score\n",
    "### YOUR CODE HERE ###\n",
    "xgb_cv.best_score_"
   ]
  },
  {
   "cell_type": "markdown",
   "metadata": {
    "id": "fwmWDuXZ6805"
   },
   "source": [
    "And the best parameters."
   ]
  },
  {
   "cell_type": "code",
   "execution_count": 142,
   "metadata": {
    "id": "cdPUCuND6805"
   },
   "outputs": [
    {
     "data": {
      "text/plain": [
       "{'learning_rate': 2.3,\n",
       " 'max_depth': 18,\n",
       " 'min_child_weight': 10.2,\n",
       " 'n_estimators': 14}"
      ]
     },
     "execution_count": 142,
     "metadata": {},
     "output_type": "execute_result"
    }
   ],
   "source": [
    "# Examine best parameters\n",
    "### YOUR CODE HERE ###\n",
    "xgb_cv.best_params_"
   ]
  },
  {
   "cell_type": "markdown",
   "metadata": {
    "id": "X8v8HTmQ7KdC"
   },
   "source": [
    "Use the `make_results()` function to output all of the scores of your model. Note that the function accepts three arguments."
   ]
  },
  {
   "cell_type": "code",
   "execution_count": 143,
   "metadata": {
    "id": "QL19dH2h7KdD"
   },
   "outputs": [
    {
     "data": {
      "text/html": [
       "<div>\n",
       "<style scoped>\n",
       "    .dataframe tbody tr th:only-of-type {\n",
       "        vertical-align: middle;\n",
       "    }\n",
       "\n",
       "    .dataframe tbody tr th {\n",
       "        vertical-align: top;\n",
       "    }\n",
       "\n",
       "    .dataframe thead th {\n",
       "        text-align: right;\n",
       "    }\n",
       "</style>\n",
       "<table border=\"1\" class=\"dataframe\">\n",
       "  <thead>\n",
       "    <tr style=\"text-align: right;\">\n",
       "      <th></th>\n",
       "      <th>model</th>\n",
       "      <th>precision</th>\n",
       "      <th>recall</th>\n",
       "      <th>F1</th>\n",
       "      <th>accuracy</th>\n",
       "    </tr>\n",
       "  </thead>\n",
       "  <tbody>\n",
       "    <tr>\n",
       "      <th>0</th>\n",
       "      <td>XG Boost</td>\n",
       "      <td>0.259693</td>\n",
       "      <td>0.627215</td>\n",
       "      <td>0.364454</td>\n",
       "      <td>0.612576</td>\n",
       "    </tr>\n",
       "  </tbody>\n",
       "</table>\n",
       "</div>"
      ],
      "text/plain": [
       "      model  precision    recall        F1  accuracy\n",
       "0  XG Boost   0.259693  0.627215  0.364454  0.612576"
      ]
     },
     "execution_count": 143,
     "metadata": {},
     "output_type": "execute_result"
    }
   ],
   "source": [
    "# Call 'make_results()' on the GridSearch object\n",
    "### YOUR CODE HERE ###\n",
    "xgboost_cv_results = make_results('XG Boost', xgb_cv, 'recall')\n",
    "xgboost_cv_results"
   ]
  },
  {
   "cell_type": "markdown",
   "metadata": {
    "id": "c5IRnMO27KdD"
   },
   "source": [
    "This model fit the data even better than the random forest model. The recall score is nearly double the recall score from the logistic regression model from the previous course, and it's almost 50% better than the random forest model's recall score, while maintaining a similar accuracy and precision score."
   ]
  },
  {
   "cell_type": "markdown",
   "metadata": {
    "id": "NfX0SjJffkh1"
   },
   "source": [
    "### **Task 11. Model selection**\n",
    "\n",
    "Now, use the best random forest model and the best XGBoost model to predict on the validation data. Whichever performs better will be selected as the champion model."
   ]
  },
  {
   "cell_type": "markdown",
   "metadata": {
    "id": "chgR3Tx8fn1s"
   },
   "source": [
    "#### **Random forest**"
   ]
  },
  {
   "cell_type": "code",
   "execution_count": 144,
   "metadata": {
    "id": "DUswawM2fyAf"
   },
   "outputs": [],
   "source": [
    "# Use random forest model to predict on validation data\n",
    "### YOUR CODE HERE ###\n",
    "y_pred_rf = rf_cv.predict(X_val)\n",
    "\n",
    "# X_val y_val\n"
   ]
  },
  {
   "cell_type": "markdown",
   "metadata": {
    "id": "uz1eb4rqf11Z"
   },
   "source": [
    "Use the `get_test_scores()` function to generate a table of scores from the predictions on the validation data."
   ]
  },
  {
   "cell_type": "code",
   "execution_count": 146,
   "metadata": {
    "id": "AJ9mCl0Uf4P4"
   },
   "outputs": [],
   "source": [
    "def get_test_scores(model_name:str, preds, y_test_data):\n",
    "    '''\n",
    "    Generate a table of test scores.\n",
    "\n",
    "    In:\n",
    "        model_name (string): Your choice: how the model will be named in the output table\n",
    "        preds: numpy array of test predictions\n",
    "        y_test_data: numpy array of y_test data\n",
    "\n",
    "    Out:\n",
    "        table: a pandas df of precision, recall, f1, and accuracy scores for your model\n",
    "    '''\n",
    "    accuracy = accuracy_score(y_test_data, preds)\n",
    "    precision = precision_score(y_test_data, preds)\n",
    "    recall = recall_score(y_test_data, preds)\n",
    "    f1 = f1_score(y_test_data, preds)\n",
    "\n",
    "    table = pd.DataFrame({'model': [model_name],\n",
    "                          'precision': [precision],\n",
    "                          'recall': [recall],\n",
    "                          'F1': [f1],\n",
    "                          'accuracy': [accuracy]\n",
    "                          })\n",
    "\n",
    "    return table"
   ]
  },
  {
   "cell_type": "code",
   "execution_count": 154,
   "metadata": {
    "id": "22ANR4ZHf5NK"
   },
   "outputs": [
    {
     "data": {
      "text/html": [
       "<div>\n",
       "<style scoped>\n",
       "    .dataframe tbody tr th:only-of-type {\n",
       "        vertical-align: middle;\n",
       "    }\n",
       "\n",
       "    .dataframe tbody tr th {\n",
       "        vertical-align: top;\n",
       "    }\n",
       "\n",
       "    .dataframe thead th {\n",
       "        text-align: right;\n",
       "    }\n",
       "</style>\n",
       "<table border=\"1\" class=\"dataframe\">\n",
       "  <thead>\n",
       "    <tr style=\"text-align: right;\">\n",
       "      <th></th>\n",
       "      <th>model</th>\n",
       "      <th>precision</th>\n",
       "      <th>recall</th>\n",
       "      <th>F1</th>\n",
       "      <th>accuracy</th>\n",
       "    </tr>\n",
       "  </thead>\n",
       "  <tbody>\n",
       "    <tr>\n",
       "      <th>0</th>\n",
       "      <td>Random Forest CV</td>\n",
       "      <td>0.354941</td>\n",
       "      <td>0.224852</td>\n",
       "      <td>0.275288</td>\n",
       "      <td>0.790067</td>\n",
       "    </tr>\n",
       "    <tr>\n",
       "      <th>1</th>\n",
       "      <td>Random Forest CV (Val)</td>\n",
       "      <td>0.640244</td>\n",
       "      <td>0.414201</td>\n",
       "      <td>0.502994</td>\n",
       "      <td>0.854895</td>\n",
       "    </tr>\n",
       "  </tbody>\n",
       "</table>\n",
       "</div>"
      ],
      "text/plain": [
       "                    model  precision    recall        F1  accuracy\n",
       "0        Random Forest CV   0.354941  0.224852  0.275288  0.790067\n",
       "1  Random Forest CV (Val)   0.640244  0.414201  0.502994  0.854895"
      ]
     },
     "execution_count": 154,
     "metadata": {},
     "output_type": "execute_result"
    }
   ],
   "source": [
    "# Get validation scores for RF model\n",
    "### YOUR CODE HERE ###\n",
    "rf_cv_results_2 = get_test_scores(\"Random Forest CV (Val)\", y_pred_rf, y_val)\n",
    "\n",
    "# Append to the results table\n",
    "### YOUR CODE HERE ###\n",
    "df_appended = pd.concat([rf_cv_results, rf_cv_results_2], ignore_index=True)\n",
    "df_appended"
   ]
  },
  {
   "cell_type": "markdown",
   "metadata": {
    "id": "yDeuk16igBD0"
   },
   "source": [
    "Notice that the scores went up from the training scores across all metrics, in some cases considerably."
   ]
  },
  {
   "cell_type": "markdown",
   "metadata": {
    "id": "D8h2s5RpgEER"
   },
   "source": [
    "#### **XGBoost**\n",
    "\n",
    "Now, do the same thing to get the performance scores of the XGBoost model on the validation data."
   ]
  },
  {
   "cell_type": "code",
   "execution_count": 155,
   "metadata": {
    "id": "mQoTuRkngHjp",
    "scrolled": true
   },
   "outputs": [
    {
     "data": {
      "text/html": [
       "<div>\n",
       "<style scoped>\n",
       "    .dataframe tbody tr th:only-of-type {\n",
       "        vertical-align: middle;\n",
       "    }\n",
       "\n",
       "    .dataframe tbody tr th {\n",
       "        vertical-align: top;\n",
       "    }\n",
       "\n",
       "    .dataframe thead th {\n",
       "        text-align: right;\n",
       "    }\n",
       "</style>\n",
       "<table border=\"1\" class=\"dataframe\">\n",
       "  <thead>\n",
       "    <tr style=\"text-align: right;\">\n",
       "      <th></th>\n",
       "      <th>model</th>\n",
       "      <th>precision</th>\n",
       "      <th>recall</th>\n",
       "      <th>F1</th>\n",
       "      <th>accuracy</th>\n",
       "    </tr>\n",
       "  </thead>\n",
       "  <tbody>\n",
       "    <tr>\n",
       "      <th>0</th>\n",
       "      <td>XG Boost</td>\n",
       "      <td>0.259693</td>\n",
       "      <td>0.627215</td>\n",
       "      <td>0.364454</td>\n",
       "      <td>0.612576</td>\n",
       "    </tr>\n",
       "    <tr>\n",
       "      <th>1</th>\n",
       "      <td>XG Boost (Val)</td>\n",
       "      <td>0.284838</td>\n",
       "      <td>0.641026</td>\n",
       "      <td>0.394417</td>\n",
       "      <td>0.651049</td>\n",
       "    </tr>\n",
       "  </tbody>\n",
       "</table>\n",
       "</div>"
      ],
      "text/plain": [
       "            model  precision    recall        F1  accuracy\n",
       "0        XG Boost   0.259693  0.627215  0.364454  0.612576\n",
       "1  XG Boost (Val)   0.284838  0.641026  0.394417  0.651049"
      ]
     },
     "execution_count": 155,
     "metadata": {},
     "output_type": "execute_result"
    }
   ],
   "source": [
    "# Use XGBoost model to predict on validation data\n",
    "### YOUR CODE HERE ###\n",
    "y_pred_xgb_cv = xgb_cv.predict(X_val)\n",
    "\n",
    "# Get validation scores for XGBoost model\n",
    "### YOUR CODE HERE ###\n",
    "xgb_cv_results_2 = get_test_scores(\"XG Boost (Val)\", y_pred_xgb_cv, y_val)\n",
    "\n",
    "# Append to the results table\n",
    "### YOUR CODE HERE ###\n",
    "df_appended_2 = pd.concat([xgboost_cv_results, xgb_cv_results_2], ignore_index=True)\n",
    "df_appended_2"
   ]
  },
  {
   "cell_type": "markdown",
   "metadata": {
    "id": "GspkQqUNgIm3"
   },
   "source": [
    "Just like with the random forest model, the XGBoost model's validation scores were higher, but only very slightly. It is still the clear champion."
   ]
  },
  {
   "cell_type": "markdown",
   "metadata": {
    "id": "_HGsWfEOeWPm"
   },
   "source": [
    "<img src=\"images/Execute.png\" width=\"100\" height=\"100\" align=left>\n",
    "\n",
    "## **PACE: Execute**\n",
    "Consider the questions in your PACE Strategy Document to reflect on the Execute stage."
   ]
  },
  {
   "cell_type": "markdown",
   "metadata": {
    "id": "iOm4n_1OgUND"
   },
   "source": [
    "### **Task 12. Use champion model to predict on test data**\n",
    "\n",
    "Now, use the champion model to predict on the test dataset. This is to give a final indication of how you should expect the model to perform on new future data, should you decide to use the model."
   ]
  },
  {
   "cell_type": "code",
   "execution_count": 161,
   "metadata": {
    "id": "7BkheTIsgU2b"
   },
   "outputs": [
    {
     "data": {
      "text/html": [
       "<div>\n",
       "<style scoped>\n",
       "    .dataframe tbody tr th:only-of-type {\n",
       "        vertical-align: middle;\n",
       "    }\n",
       "\n",
       "    .dataframe tbody tr th {\n",
       "        vertical-align: top;\n",
       "    }\n",
       "\n",
       "    .dataframe thead th {\n",
       "        text-align: right;\n",
       "    }\n",
       "</style>\n",
       "<table border=\"1\" class=\"dataframe\">\n",
       "  <thead>\n",
       "    <tr style=\"text-align: right;\">\n",
       "      <th></th>\n",
       "      <th>model</th>\n",
       "      <th>precision</th>\n",
       "      <th>recall</th>\n",
       "      <th>F1</th>\n",
       "      <th>accuracy</th>\n",
       "    </tr>\n",
       "  </thead>\n",
       "  <tbody>\n",
       "    <tr>\n",
       "      <th>0</th>\n",
       "      <td>XG Boost</td>\n",
       "      <td>0.259693</td>\n",
       "      <td>0.627215</td>\n",
       "      <td>0.364454</td>\n",
       "      <td>0.612576</td>\n",
       "    </tr>\n",
       "    <tr>\n",
       "      <th>1</th>\n",
       "      <td>XG Boost (Val)</td>\n",
       "      <td>0.284838</td>\n",
       "      <td>0.641026</td>\n",
       "      <td>0.394417</td>\n",
       "      <td>0.651049</td>\n",
       "    </tr>\n",
       "    <tr>\n",
       "      <th>2</th>\n",
       "      <td>XG Boost (Test)</td>\n",
       "      <td>0.232699</td>\n",
       "      <td>0.530572</td>\n",
       "      <td>0.323512</td>\n",
       "      <td>0.606643</td>\n",
       "    </tr>\n",
       "  </tbody>\n",
       "</table>\n",
       "</div>"
      ],
      "text/plain": [
       "             model  precision    recall        F1  accuracy\n",
       "0         XG Boost   0.259693  0.627215  0.364454  0.612576\n",
       "1   XG Boost (Val)   0.284838  0.641026  0.394417  0.651049\n",
       "2  XG Boost (Test)   0.232699  0.530572  0.323512  0.606643"
      ]
     },
     "execution_count": 161,
     "metadata": {},
     "output_type": "execute_result"
    }
   ],
   "source": [
    "# Use XGBoost model to predict on test data\n",
    "### YOUR CODE HERE ###\n",
    "y_pred_test_xgb_cv = xgb_cv.predict(X_test)\n",
    "\n",
    "# Get test scores for XGBoost model\n",
    "### YOUR CODE HERE ###\n",
    "xgb_cv_results_3 = get_test_scores(\"XG Boost (Test)\", y_pred_test_xgb_cv, y_test)\n",
    "\n",
    "# Append to the results table\n",
    "### YOUR CODE HERE ###\n",
    "df_appended_3 = pd.concat([xgboost_cv_results, xgb_cv_results_2, xgb_cv_results_3], ignore_index=True)\n",
    "df_appended_3"
   ]
  },
  {
   "cell_type": "markdown",
   "metadata": {
    "id": "F8L_LyIbgV1I"
   },
   "source": [
    "The recall and the precision increased a bit, which caused all of the other scores to increase as well."
   ]
  },
  {
   "cell_type": "markdown",
   "metadata": {
    "id": "S5GNoz_QgWug"
   },
   "source": [
    "### **Task 13. Confusion matrix**\n",
    "\n",
    "Plot a confusion matrix of the champion model's predictions on the test data."
   ]
  },
  {
   "cell_type": "code",
   "execution_count": 159,
   "metadata": {
    "id": "WF3KErX8gXPc"
   },
   "outputs": [
    {
     "data": {
      "image/png": "[encoded data removed]",
      "text/plain": [
       "<Figure size 640x480 with 2 Axes>"
      ]
     },
     "metadata": {},
     "output_type": "display_data"
    }
   ],
   "source": [
    "# Generate array of values for confusion matrix\n",
    "### YOUR CODE HERE ###\n",
    "def conf_matrix_plot(model, x_data, y_data):\n",
    "    '''\n",
    "    Accepts as argument model object, X data (test or validate), and y data (test or validate). \n",
    "    Returns a plot of confusion matrix for predictions on y data.\n",
    "    ''' \n",
    "  \n",
    "    model_pred = model.predict(x_data)\n",
    "    cm = confusion_matrix(y_data, model_pred, labels=model.classes_)\n",
    "    disp = ConfusionMatrixDisplay(confusion_matrix=cm,\n",
    "                             display_labels=model.classes_)\n",
    "  \n",
    "    disp.plot(values_format='')  # `values_format=''` suppresses scientific notation\n",
    "    plt.show()\n",
    "\n",
    "# Plot confusion matrix\n",
    "### YOUR CODE HERE ###\n",
    "conf_matrix_plot(xgb_cv, X_test, y_test)\n"
   ]
  },
  {
   "cell_type": "markdown",
   "metadata": {
    "id": "6xL4OujkgYC3"
   },
   "source": [
    "The model predicted three times as many false positives than it did false negatives, and it correctly identified only 53% of the users who actually churned."
   ]
  },
  {
   "cell_type": "markdown",
   "metadata": {
    "id": "P33INGPmgY1o"
   },
   "source": [
    "### **Task 14. Feature importance**\n",
    "\n",
    "Use the `plot_importance` function to inspect the most important features of your final model."
   ]
  },
  {
   "cell_type": "code",
   "execution_count": 160,
   "metadata": {
    "id": "N4fc2i8XgZoE"
   },
   "outputs": [
    {
     "data": {
      "image/png": "[encoded data removed]",
      "text/plain": [
       "<Figure size 640x480 with 1 Axes>"
      ]
     },
     "metadata": {},
     "output_type": "display_data"
    }
   ],
   "source": [
    "### YOUR CODE HERE ###\n",
    "plot_importance(xgb_cv.best_estimator_);"
   ]
  },
  {
   "cell_type": "markdown",
   "metadata": {
    "id": "EU3GIZNrga5z"
   },
   "source": [
    "The XGBoost model made more use of many of the features than did the logistic regression model from the previous course, which weighted a single feature (`activity_days`) very heavily in its final prediction.\n",
    "\n",
    "If anything, this underscores the importance of feature engineering. Notice that engineered features accounted for six of the top 10 features (and two of the top five). Feature engineering is often one of the best and easiest ways to boost model performance.\n",
    "\n",
    "Also, note that the important features in one model might not be the same as the important features in another model. That's why you shouldn't discount features as unimportant without thoroughly examining them and understanding their relationship with the dependent variable, if possible. These discrepancies between features selected by models are typically caused by complex feature interactions.\n",
    "\n",
    "Remember, sometimes your data simply will not be predictive of your chosen target. This is common. Machine learning is a powerful tool, but it is not magic. If your data does not contain predictive signal, even the most complex algorithm will not be able to deliver consistent and accurate predictions. Do not be afraid to draw this conclusion.\n",
    "\n",
    "Even if you cannot use the model to make strong predictions, was the work done in vain? What insights can you report back to stakeholders?"
   ]
  },
  {
   "cell_type": "markdown",
   "metadata": {
    "id": "ill21hQ4ej9-"
   },
   "source": [
    "### **Task 15. Conclusion**\n",
    "\n",
    "Now that you've built and tested your machine learning models, the next step is to share your findings with the Waze leadership team. Consider the following questions as you prepare to write your executive summary. Think about key points you may want to share with the team, and what information is most relevant to the user churn project.\n",
    "\n",
    "**Questions:**\n",
    "\n",
    "1. Would you recommend using this model for churn prediction? Why or why not?\n",
    "\n",
    "2. What tradeoff was made by splitting the data into training, validation, and test sets as opposed to just training and test sets?\n",
    "\n",
    "3. What is the benefit of using a logistic regression model over an ensemble of tree-based models (like random forest or XGBoost) for classification tasks?\n",
    "\n",
    "4. What is the benefit of using an ensemble of tree-based models like random forest or XGBoost over a logistic regression model for classification tasks?\n",
    "\n",
    "5. What could you do to improve this model?\n",
    "\n",
    "6. What additional features would you like to have to help improve the model?"
   ]
  },
  {
   "cell_type": "markdown",
   "metadata": {
    "id": "_NrXTUydBady"
   },
   "source": [
    "==> ENTER YOUR RESPONSES TO QUESTIONS 1-6 HERE\n",
    "\n",
    "> I would not recommend using any of the two models for churn prediction. Basically, because any of them got a >75% in the Recall score or F1 Score. Since the model is aiming to predict churn, and the class balance is 72% no churners against 18% churners, other metrics such as accuracy doesn´t workf, and we need to find a model who predicts well more than 75% of the positives, which is measured by the Recall score.  The XG boost model got a 0.530572 score in the Recall for the test dataset, and the random forest a 0.414201 Recall score in the validation dataset. So, none of them could be used for production level estimations.  \n",
    "\n",
    "> The tradeoff is that we got less data for training the model in the training/validation/test compared to the training/validation strategy, and in particular less positive cases because of the imbalance of the dataset. A way to handle this is to work the class imbalance with a sampling technique to get a 50/50 balance in the class, so a better estimation can be done.\n",
    "\n",
    "> The benefits of ussing logistic regression are two: 1) It is easier to be interpreted, thus easy to explain to business users, because each particular coeficient of the model has a direct interpretation against the variable predicted and 2) It is easier to be developed, since less computational work is required to estimate a logistic regression, which implies that it could be done faster.\n",
    "\n",
    "> In contrast, the major benefit of using an ensamble of tree-based models like random forest and XGBoost compared with Logistic Regression, is that the model performance improved a lot! From 10% to 54% in the recall score. However, more comparison metrics can be calculated, such as the AUC and the ROC. But, in general, it improved the model by more than 4 times, which is incredible. However, the model still is not as good as for being deployed.\n",
    "\n",
    "> I think on three things that can be done to improve the XGBoost model. First, validate the data gathering. We want to have data from different months to be used as the dataset to generate the model, this implies random sampling over different months of the data, and if possible, more data available, in particular, positive cases (label = 'churned'). Second, develop more features in the feature engineering section, which will allow me to enter more predictor features to the models I will do and improve them. Finally, I consider it is important to tackle the class imbalance problem that the data has, if it persists after a new dataset is provided, which can be done using a sampling technique over the dataset. Doing these three things, the model will for sure improve its performance and could be used in production to set up a strategy to retain people using the Waze service.\n",
    "\n",
    "> Some features I can think off about are per day features: Sessions per day (activity days / sessions), Drives per day (driven days / drives). These two can be used to further improve the model performance. Also, if we have at least anonimized population features, it would increase the model by a lot, for example, age, sex, profession, etc.  \n",
    " "
   ]
  },
  {
   "cell_type": "markdown",
   "metadata": {},
   "source": [
    "**Congratulations!** You've completed this lab. However, you may not notice a green check mark next to this item on Coursera's platform. Please continue your progress regardless of the check mark. Just click on the \"save\" icon at the top of this notebook to ensure your work has been logged."
   ]
  }
 ],
 "metadata": {
  "colab": {
   "provenance": [
    {
     "file_id": "1DHsmIEwaXUmfVT4tFzyOwyyfXAX0v6IF",
     "timestamp": 1675262571681
    },
    {
     "file_id": "1oNheYh5WbljxkvoK_BMkQTey2DWnFXMs",
     "timestamp": 1674856595373
    }
   ]
  },
  "kernelspec": {
   "display_name": "Python 3 (ipykernel)",
   "language": "python",
   "name": "python3"
  },
  "language_info": {
   "codemirror_mode": {
    "name": "ipython",
    "version": 3
   },
   "file_extension": ".py",
   "mimetype": "text/x-python",
   "name": "python",
   "nbconvert_exporter": "python",
   "pygments_lexer": "ipython3",
   "version": "3.10.6"
  }
 },
 "nbformat": 4,
 "nbformat_minor": 1
}
